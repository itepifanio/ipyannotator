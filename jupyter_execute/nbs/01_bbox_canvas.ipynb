{
 "cells": [
  {
   "cell_type": "code",
   "execution_count": 1,
   "metadata": {},
   "outputs": [],
   "source": [
    "# default_exp bbox_canvas"
   ]
  },
  {
   "cell_type": "code",
   "execution_count": 2,
   "metadata": {
    "tags": [
     "remove-cell"
    ]
   },
   "outputs": [],
   "source": [
    "# hide\n",
    "%load_ext autoreload\n",
    "%autoreload 2"
   ]
  },
  {
   "cell_type": "code",
   "execution_count": 3,
   "metadata": {
    "tags": [
     "remove-cell"
    ]
   },
   "outputs": [],
   "source": [
    "# hide\n",
    "from nbdev import *"
   ]
  },
  {
   "cell_type": "code",
   "execution_count": 4,
   "metadata": {},
   "outputs": [],
   "source": [
    "# exporti\n",
    "import io\n",
    "import attr\n",
    "from math import log\n",
    "from pubsub import pub\n",
    "from attr import asdict\n",
    "from pathlib import Path\n",
    "from copy import deepcopy\n",
    "from enum import IntEnum\n",
    "from typing import Dict, Optional, List, Any, Tuple\n",
    "\n",
    "from abc import ABC, abstractmethod\n",
    "from pydantic import root_validator\n",
    "from ipyannotator.base import BaseState\n",
    "from ipyannotator.doc_utils import is_building_docs\n",
    "from ipyannotator.mltypes import BboxCoordinate, BboxVideoCoordinate\n",
    "from ipycanvas import MultiCanvas as IMultiCanvas, Canvas, hold_canvas\n",
    "from ipywidgets import Image, Label, Layout, HBox, VBox, Output\n",
    "from PIL import Image as PILImage"
   ]
  },
  {
   "cell_type": "markdown",
   "metadata": {},
   "source": [
    "# Bounding Box Canvas\n",
    "\n",
    "This notebook develops a drawnable canvas where users can draw bounding boxes."
   ]
  },
  {
   "cell_type": "markdown",
   "metadata": {},
   "source": [
    "The next cell will override the ipywidget's MultiCanvas when the docs is built, otherwise the original MultiCanvas will be used.\n",
    "\n",
    "This is a plug in replacement for ipycanvas that can be used to build docs. The difference is that the replacement holds the image state so that it can be included into the docs. Even through the replacement is feature equivalent it lacks mouse events and it's much slower, which consequently doesn't allow its use in lived annotation settings."
   ]
  },
  {
   "cell_type": "code",
   "execution_count": 5,
   "metadata": {},
   "outputs": [],
   "source": [
    "#exporti\n",
    "if not is_building_docs():\n",
    "    class MultiCanvas(IMultiCanvas):\n",
    "        pass\n",
    "else:\n",
    "    class MultiCanvas(Image):  # type: ignore\n",
    "        def __init__(self, *args, **kwargs):\n",
    "            super().__init__(**kwargs)\n",
    "            image = PILImage.new('RGB', (100, 100), (255, 255, 255))\n",
    "            b = io.BytesIO()\n",
    "            image.save(b, format='PNG')\n",
    "            self.value = b.getvalue()\n",
    "\n",
    "        def __getitem__(self, key):\n",
    "            return self\n",
    "\n",
    "        def draw_image(self, image, x=0, y=0, width=None, height=None):\n",
    "            self.value = image.value\n",
    "            self.width = width\n",
    "            self.height = height\n",
    "\n",
    "        def __getattr__(self, name):\n",
    "            ignored = [\n",
    "                'flush',\n",
    "                'fill_rect',\n",
    "                'stroke_rect',\n",
    "                'stroke_rects',\n",
    "                'on_mouse_move',\n",
    "                'on_mouse_down',\n",
    "                'on_mouse_up',\n",
    "                'clear',\n",
    "                'on_client_ready',\n",
    "                'stroke_styled_line_segments'\n",
    "            ]\n",
    "\n",
    "            if name in ignored:\n",
    "                def wrapper(*args, **kwargs):\n",
    "                    return self._ignored(*args, **kwargs)\n",
    "                return wrapper\n",
    "            return object.__getattr__(self, name)\n",
    "\n",
    "        @property\n",
    "        def caching(self):\n",
    "            return False\n",
    "\n",
    "        @caching.setter\n",
    "        def caching(self, value):\n",
    "            pass\n",
    "\n",
    "        @property\n",
    "        def size(self):\n",
    "            return (self.width, self.height)\n",
    "\n",
    "        def _ignored(self, *args, **kwargs):\n",
    "            pass"
   ]
  },
  {
   "cell_type": "markdown",
   "metadata": {},
   "source": [
    "# Draw Box in Canvas"
   ]
  },
  {
   "cell_type": "code",
   "execution_count": 6,
   "metadata": {
    "tags": [
     "remove-cell"
    ]
   },
   "outputs": [
    {
     "data": {
      "application/vnd.jupyter.widget-view+json": {
       "model_id": "28ae50607f974944a4fafc2f062270cf",
       "version_major": 2,
       "version_minor": 0
      },
      "text/plain": [
       "MultiCanvas(value=b'\\x89PNG\\r\\n\\x1a\\n\\x00\\x00\\x00\\rIHDR\\x00\\x00\\x01\\x90\\x00\\x00\\x02\\x80\\x08\\x06\\x00\\x00\\x00\\xb…"
      ]
     },
     "metadata": {},
     "output_type": "display_data"
    }
   ],
   "source": [
    "# hide\n",
    "sprite2 = Image.from_file(\"../data/projects/bbox/pics/red400x640.png\")\n",
    "# Create a multi-layer canvas with 4 layers\n",
    "multi_canvas = MultiCanvas(4, width=200, height=200)\n",
    "multi_canvas[0]  # Access first layer (background)\n",
    "multi_canvas[3]  # Access last layer\n",
    "multi_canvas[3].draw_image(sprite2, 100, 100, width=40, height=40)\n",
    "multi_canvas"
   ]
  },
  {
   "cell_type": "code",
   "execution_count": 7,
   "metadata": {
    "tags": [
     "remove-cell"
    ]
   },
   "outputs": [],
   "source": [
    "# hide\n",
    "# dynamic update of canvas size\n",
    "multi_canvas.width = 30\n",
    "multi_canvas.height = 60"
   ]
  },
  {
   "cell_type": "markdown",
   "metadata": {},
   "source": [
    "`ipyannotator` use `ipycanvas` to draw the Canvas. `ipycanvas` uses the following grid system:\n",
    "\n",
    "![grid illustration](https://ipycanvas.readthedocs.io/en/latest/_images/grid.png)"
   ]
  },
  {
   "cell_type": "code",
   "execution_count": 8,
   "metadata": {},
   "outputs": [],
   "source": [
    "#exporti\n",
    "def draw_bg(canvas, color='rgb(236,240,241)'):\n",
    "    with hold_canvas(canvas):\n",
    "        canvas.fill_style = color\n",
    "        canvas.fill_rect(0, 0, canvas.size[0], canvas.size[1])"
   ]
  },
  {
   "cell_type": "code",
   "execution_count": 9,
   "metadata": {
    "tags": [
     "remove-cell"
    ]
   },
   "outputs": [
    {
     "data": {
      "application/vnd.jupyter.widget-view+json": {
       "model_id": "336846e88b254a5ea8598c40befa9079",
       "version_major": 2,
       "version_minor": 0
      },
      "text/plain": [
       "Canvas(height=20, width=300)"
      ]
     },
     "metadata": {},
     "output_type": "display_data"
    }
   ],
   "source": [
    "# hide\n",
    "canvas = Canvas(width=300, height=20)\n",
    "draw_bg(canvas)\n",
    "canvas"
   ]
  },
  {
   "cell_type": "code",
   "execution_count": 10,
   "metadata": {
    "tags": [
     "remove-cell"
    ]
   },
   "outputs": [
    {
     "data": {
      "application/vnd.jupyter.widget-view+json": {
       "model_id": "15fabc2e7f0e4ff185d34c301e739e02",
       "version_major": 2,
       "version_minor": 0
      },
      "text/plain": [
       "Canvas(height=200, width=200)"
      ]
     },
     "metadata": {},
     "output_type": "display_data"
    }
   ],
   "source": [
    "# hide\n",
    "canvas = Canvas(width=200, height=200)\n",
    "canvas.fill_rect(25, 25, 100, 100)\n",
    "canvas.clear_rect(45, 45, 60, 60)\n",
    "canvas.stroke_rect(50, 50, 50, 50)\n",
    "canvas"
   ]
  },
  {
   "cell_type": "code",
   "execution_count": 11,
   "metadata": {},
   "outputs": [],
   "source": [
    "#exporti\n",
    "def draw_bounding_box(canvas, coord: BboxCoordinate, color='white', line_width=1,\n",
    "                      border_ratio=2, clear=False, stroke_color='black'):\n",
    "    with hold_canvas(canvas):\n",
    "        if clear:\n",
    "            canvas.clear()\n",
    "\n",
    "        line_width = line_width or log(canvas.height) / 5\n",
    "\n",
    "        gap = line_width * border_ratio\n",
    "\n",
    "        # paint and draw the middle stroked rectangle\n",
    "        canvas.line_width = gap\n",
    "        canvas.stroke_style = color\n",
    "        canvas.stroke_rect(coord.x + gap / 2, coord.y + gap / 2,\n",
    "                           coord.width - gap, coord.height - gap)\n",
    "\n",
    "        # paint and draw the external stroked rectangle\n",
    "        canvas.line_width = line_width\n",
    "        canvas.stroke_style = stroke_color\n",
    "        canvas.stroke_rect(coord.x, coord.y, coord.width, coord.height)\n",
    "\n",
    "        # paint and draw the internal stroked rectangle\n",
    "        canvas.line_width = line_width\n",
    "        canvas.stroke_style = stroke_color\n",
    "        canvas.stroke_rect(coord.x + gap, coord.y + gap,\n",
    "                           coord.width - 2 * gap, coord.height - 2 * gap)"
   ]
  },
  {
   "cell_type": "code",
   "execution_count": 12,
   "metadata": {
    "tags": [
     "remove-cell"
    ]
   },
   "outputs": [
    {
     "data": {
      "application/vnd.jupyter.widget-view+json": {
       "model_id": "a0c67c4dc143464bb955c3b54439ce7c",
       "version_major": 2,
       "version_minor": 0
      },
      "text/plain": [
       "Canvas(height=100, width=100)"
      ]
     },
     "metadata": {},
     "output_type": "display_data"
    }
   ],
   "source": [
    "# hide\n",
    "import numpy as np\n",
    "\n",
    "canvas = Canvas(width=100, height=100)\n",
    "draw_bg(canvas)\n",
    "draw_bounding_box(canvas, BboxCoordinate(*[0, 0, 80, 100]))\n",
    "draw_bounding_box(canvas, BboxCoordinate(*[5, 20, 40, 50]),\n",
    "                  color='red', border_ratio=4, line_width=1.5)\n",
    "\n",
    "canvas"
   ]
  },
  {
   "cell_type": "code",
   "execution_count": 13,
   "metadata": {
    "tags": [
     "remove-cell"
    ]
   },
   "outputs": [
    {
     "data": {
      "application/vnd.jupyter.widget-view+json": {
       "model_id": "35ff01a7d2304346a1e615e20a3c48f0",
       "version_major": 2,
       "version_minor": 0
      },
      "text/plain": [
       "MultiCanvas(value=b'\\x89PNG\\r\\n\\x1a\\n\\x00\\x00\\x00\\rIHDR\\x00\\x00\\x00d\\x00\\x00\\x00d\\x08\\x02\\x00\\x00\\x00\\xff\\x80\\…"
      ]
     },
     "metadata": {},
     "output_type": "display_data"
    }
   ],
   "source": [
    "# hide\n",
    "canvas = MultiCanvas(2, width=200, height=200)\n",
    "draw_bg(canvas[0])\n",
    "draw_bounding_box(canvas[1], BboxCoordinate(*[10, 40, 80, 100]))\n",
    "draw_bounding_box(canvas[1], BboxCoordinate(*[5, 20, 40, 50]), color='red', border_ratio=4)\n",
    "canvas"
   ]
  },
  {
   "cell_type": "code",
   "execution_count": 14,
   "metadata": {},
   "outputs": [],
   "source": [
    "#exporti\n",
    "class BoundingBox:\n",
    "    def __init__(self):\n",
    "        self.color = 'white'\n",
    "        self.line_width = 1\n",
    "        self.border_ratio = 2\n",
    "        self.stroke_color = 'black'\n",
    "\n",
    "    def _empty_bbox(self) -> Dict[str, List[int]]:\n",
    "        return {'x': [], 'y': [], 'width': [], 'height': []}\n",
    "\n",
    "    def _stroke_rects(self, canvas: Canvas, bbox: Dict[str, List[int]],\n",
    "                      line_width: float, color: str):\n",
    "        canvas.line_width = line_width\n",
    "        canvas.stroke_style = color\n",
    "        canvas.stroke_rects(bbox['x'], bbox['y'], bbox['width'], bbox['height'])\n",
    "\n",
    "    def draw(self, canvas: Canvas, coords: List[BboxCoordinate], clear: bool = False):\n",
    "        with hold_canvas(canvas):\n",
    "            if clear:\n",
    "                canvas.clear()\n",
    "\n",
    "            mid_rect = self._empty_bbox()\n",
    "            inter_rect = self._empty_bbox()\n",
    "            ext_rect = self._empty_bbox()\n",
    "\n",
    "            line_width = self.line_width or log(canvas.height) / 5\n",
    "\n",
    "            gap = line_width * self.border_ratio\n",
    "\n",
    "            for coord in coords:\n",
    "                mid_rect['x'].append(coord.x + gap / 2)\n",
    "                mid_rect['y'].append(coord.y + gap / 2)\n",
    "                mid_rect['width'].append(coord.width - gap)\n",
    "                mid_rect['height'].append(coord.height - gap)\n",
    "\n",
    "                ext_rect['x'].append(coord.x)\n",
    "                ext_rect['y'].append(coord.y)\n",
    "                ext_rect['width'].append(coord.width)\n",
    "                ext_rect['height'].append(coord.height)\n",
    "\n",
    "                inter_rect['x'].append(coord.x + gap)\n",
    "                inter_rect['y'].append(coord.y + gap)\n",
    "                inter_rect['width'].append(coord.width - 2 * gap)\n",
    "                inter_rect['height'].append(coord.height - 2 * gap)\n",
    "\n",
    "            # paint and draw the middle stroked rectangle\n",
    "            self._stroke_rects(canvas, mid_rect, gap, self.color)\n",
    "\n",
    "            # paint and draw the external stroked rectangle\n",
    "            self._stroke_rects(canvas, ext_rect, line_width, self.stroke_color)\n",
    "\n",
    "            # paint and draw the internal stroked rectangle\n",
    "            self._stroke_rects(canvas, inter_rect, line_width, self.stroke_color)"
   ]
  },
  {
   "cell_type": "code",
   "execution_count": 15,
   "metadata": {
    "tags": [
     "remove-cell"
    ]
   },
   "outputs": [
    {
     "data": {
      "application/vnd.jupyter.widget-view+json": {
       "model_id": "e6be87f2b0f54a0d862096c52eb96afb",
       "version_major": 2,
       "version_minor": 0
      },
      "text/plain": [
       "MultiCanvas(value=b'\\x89PNG\\r\\n\\x1a\\n\\x00\\x00\\x00\\rIHDR\\x00\\x00\\x00d\\x00\\x00\\x00d\\x08\\x02\\x00\\x00\\x00\\xff\\x80\\…"
      ]
     },
     "metadata": {},
     "output_type": "display_data"
    }
   ],
   "source": [
    "# hide\n",
    "canvas = MultiCanvas(2, width=200, height=200)\n",
    "draw_bg(canvas[0])\n",
    "_coords = [[160, 160, 40, 40], [20, 50, 70, 80], [10, 10, 10, 10]]\n",
    "coords = list(map(lambda x: BboxCoordinate(*x), _coords))\n",
    "bbox = BoundingBox()\n",
    "bbox.draw(canvas[1], coords)\n",
    "canvas"
   ]
  },
  {
   "cell_type": "markdown",
   "metadata": {},
   "source": [
    "## Draw Image\n",
    "\n",
    "`ipycanvas` can be used to draw images on the Canvas itself. This way, we can use `ipycanvas` with `ipywidgets` as the following to draw images."
   ]
  },
  {
   "cell_type": "code",
   "execution_count": 16,
   "metadata": {},
   "outputs": [
    {
     "data": {
      "application/vnd.jupyter.widget-view+json": {
       "model_id": "1a8c33def95a4b94aeaaa51db2b1c3cd",
       "version_major": 2,
       "version_minor": 0
      },
      "text/plain": [
       "Canvas(height=300, width=300)"
      ]
     },
     "metadata": {},
     "output_type": "display_data"
    }
   ],
   "source": [
    "sprite1 = Image.from_file(\"../data/projects/bbox/pics/test200x200.png\")\n",
    "sprite2 = Image.from_file(\"../data/projects/bbox/pics/red400x640.png\")\n",
    "\n",
    "canvas = Canvas(width=300, height=300)\n",
    "\n",
    "canvas.fill_style = '#a9cafc'\n",
    "canvas.fill_rect(0, 0, 300, 300)\n",
    "\n",
    "canvas.draw_image(sprite1, 50, 50)\n",
    "canvas.draw_image(sprite2, 100, 100, width=40, height=40)\n",
    "\n",
    "canvas"
   ]
  },
  {
   "cell_type": "code",
   "execution_count": 17,
   "metadata": {
    "tags": [
     "remove-cell"
    ]
   },
   "outputs": [
    {
     "data": {
      "application/vnd.jupyter.widget-view+json": {
       "model_id": "cd7f2a5830ed4016974ba79d8c1a6863",
       "version_major": 2,
       "version_minor": 0
      },
      "text/plain": [
       "Canvas(height=300, width=600)"
      ]
     },
     "metadata": {},
     "output_type": "display_data"
    }
   ],
   "source": [
    "# hide\n",
    "\n",
    "# You can draw from another Canvas widget. This is the fastest way of drawing an image\n",
    "# on the canvas.\n",
    "\n",
    "canvas2 = Canvas(width=600, height=300)\n",
    "# Here ``canvas`` is the canvas from the previous example\n",
    "canvas2.draw_image(canvas, 0, 0)\n",
    "canvas2.draw_image(canvas, 300, 0)\n",
    "canvas2"
   ]
  },
  {
   "cell_type": "code",
   "execution_count": 18,
   "metadata": {},
   "outputs": [],
   "source": [
    "#exporti\n",
    "from PIL import Image as pilImage\n",
    "\n",
    "\n",
    "# can we do this without reading image?\n",
    "def get_image_size(path):\n",
    "    pil_im = pilImage.open(path)\n",
    "    return pil_im.width, pil_im.height"
   ]
  },
  {
   "cell_type": "code",
   "execution_count": 19,
   "metadata": {
    "tags": [
     "remove-cell"
    ]
   },
   "outputs": [
    {
     "data": {
      "text/plain": [
       "(400, 640)"
      ]
     },
     "execution_count": 19,
     "metadata": {},
     "output_type": "execute_result"
    }
   ],
   "source": [
    "# hide\n",
    "get_image_size(\"../data/projects/bbox/pics/red400x640.png\")"
   ]
  },
  {
   "cell_type": "markdown",
   "metadata": {},
   "source": [
    "### Draw Image\n",
    "\n",
    "This section will develop how a image is drawn over a canvas.\n",
    "\n",
    "The next cell will define how the data behave on top of a canvas. This representation uses the `Image` abstraction from `ipywidgets` in the `image_widget` property, this will allow us to draw on top of the canvas. "
   ]
  },
  {
   "cell_type": "code",
   "execution_count": 20,
   "metadata": {},
   "outputs": [],
   "source": [
    "#exporti\n",
    "@attr.define\n",
    "class ImageCanvas:\n",
    "    image_widget: Image\n",
    "    x: int\n",
    "    y: int\n",
    "    width: int\n",
    "    height: int\n",
    "    scale: float"
   ]
  },
  {
   "cell_type": "markdown",
   "metadata": {},
   "source": [
    "A simple strategy pattern will be develop in the next cells to switch the algorithm used to calculate the image."
   ]
  },
  {
   "cell_type": "code",
   "execution_count": 21,
   "metadata": {},
   "outputs": [],
   "source": [
    "#exporti\n",
    "class ImageCanvasPrototype(ABC):\n",
    "    @abstractmethod\n",
    "    def prepare_canvas(self, canvas: Canvas, file: str) -> ImageCanvas:\n",
    "        pass"
   ]
  },
  {
   "cell_type": "markdown",
   "metadata": {},
   "source": [
    "One of the strategies used by `ipyannotator` will resize the image so it fits inside the Canvas. Over the process, the dimensions ratio will mantain constants.\n",
    "\n",
    "The next cells will develop:\n",
    "- A mixin to calculate the image scale based on the canvas and images size\n",
    "- A concrete strategy application that resizes the image on the canvas"
   ]
  },
  {
   "cell_type": "code",
   "execution_count": 22,
   "metadata": {},
   "outputs": [],
   "source": [
    "#exporti\n",
    "class CanvasScaleMixin:\n",
    "    def _calc_scale(\n",
    "        self,\n",
    "        width_canvas: int,\n",
    "        height_canvas: int,\n",
    "        width_img: float,\n",
    "        height_img: float\n",
    "    ) -> float:\n",
    "        ratio_canvas = float(width_canvas) / height_canvas\n",
    "        ratio_img = float(width_img) / height_img\n",
    "\n",
    "        if ratio_img > ratio_canvas:\n",
    "            # wider then canvas, scale to canvas width\n",
    "            return width_canvas / width_img\n",
    "\n",
    "        # taller then canvas, scale to canvas height\n",
    "        return height_canvas / height_img"
   ]
  },
  {
   "cell_type": "code",
   "execution_count": 23,
   "metadata": {},
   "outputs": [],
   "source": [
    "#exporti\n",
    "class ScaledImage(ImageCanvasPrototype, CanvasScaleMixin):\n",
    "    def prepare_canvas(self, canvas: Canvas, file: str) -> ImageCanvas:\n",
    "        image = Image.from_file(file)\n",
    "        width_img, height_img = get_image_size(file)\n",
    "\n",
    "        scale = self._calc_scale(\n",
    "            int(canvas.width),\n",
    "            int(canvas.height),\n",
    "            width_img,\n",
    "            height_img\n",
    "        )\n",
    "\n",
    "        image_width = width_img * min(1, scale)\n",
    "        image_height = height_img * min(1, scale)\n",
    "\n",
    "        return ImageCanvas(\n",
    "            image_widget=image,\n",
    "            x=0,\n",
    "            y=0,\n",
    "            width=image_width,\n",
    "            height=image_height,\n",
    "            scale=scale\n",
    "        )"
   ]
  },
  {
   "cell_type": "markdown",
   "metadata": {},
   "source": [
    "The other concrete strategy will force the image to have the same size as the canvas and it's developed in the following cell."
   ]
  },
  {
   "cell_type": "code",
   "execution_count": 24,
   "metadata": {},
   "outputs": [],
   "source": [
    "#exporti\n",
    "class FitImage(ImageCanvasPrototype):\n",
    "    def prepare_canvas(self, canvas: Canvas, file: str) -> ImageCanvas:\n",
    "        image = Image.from_file(file)\n",
    "\n",
    "        return ImageCanvas(\n",
    "            image_widget=image,\n",
    "            x=0,\n",
    "            y=0,\n",
    "            width=canvas.width,\n",
    "            height=canvas.height,\n",
    "            scale=1\n",
    "        )"
   ]
  },
  {
   "cell_type": "markdown",
   "metadata": {},
   "source": [
    "The draw image on canvas can be done in two ways. The default one resizes the image to fit the canvas, the second one forces the image to have the same size as the canvas. You can calibrate the strategy using the `fit_canvas` property.\n",
    "\n",
    "If `fit_canvas = True` then it will use the `FitImage` strategy, otherwise `ScaledImage` it will be used. The default behavior is to use the `CanvasScaleMixin`."
   ]
  },
  {
   "cell_type": "code",
   "execution_count": 25,
   "metadata": {},
   "outputs": [],
   "source": [
    "#exporti\n",
    "class ImageRenderer:\n",
    "    def __init__(\n",
    "        self,\n",
    "        clear: bool = False,\n",
    "        has_border: bool = False,\n",
    "        fit_canvas: bool = False\n",
    "    ):\n",
    "        self.clear = clear\n",
    "        self.has_border = has_border\n",
    "        self.fit_canvas = fit_canvas\n",
    "        if fit_canvas:\n",
    "            self._strategy = FitImage()  # type: ImageCanvasPrototype\n",
    "        else:\n",
    "            self._strategy = ScaledImage()\n",
    "\n",
    "    def render(self, canvas: Canvas, file: str) -> Tuple[int, int, float]:\n",
    "        with hold_canvas(canvas):\n",
    "            if self.clear:\n",
    "                canvas.clear()\n",
    "\n",
    "            image_canvas = self._strategy.prepare_canvas(canvas, file)\n",
    "\n",
    "            if self.has_border:\n",
    "                canvas.stroke_rect(x=0, y=0, width=image_canvas.width, height=image_canvas.height)\n",
    "                image_canvas.width -= 2\n",
    "                image_canvas.height -= 2\n",
    "                image_canvas.x, image_canvas.y = 1, 1\n",
    "\n",
    "            canvas.draw_image(\n",
    "                image_canvas.image_widget,\n",
    "                image_canvas.x,\n",
    "                image_canvas.y,\n",
    "                image_canvas.width,\n",
    "                image_canvas.height\n",
    "            )\n",
    "\n",
    "            return image_canvas.width, image_canvas.height, image_canvas.scale"
   ]
  },
  {
   "cell_type": "markdown",
   "metadata": {},
   "source": [
    "The next example will show how the `DrawImage` behave without forcing the image to fit on canvas."
   ]
  },
  {
   "cell_type": "code",
   "execution_count": 26,
   "metadata": {
    "tags": [
     "remove-cell"
    ]
   },
   "outputs": [
    {
     "name": "stdout",
     "output_type": "stream",
     "text": [
      "0.46875\n"
     ]
    },
    {
     "data": {
      "application/vnd.jupyter.widget-view+json": {
       "model_id": "f7424c9da8954b9a8572e9ecf51a20c8",
       "version_major": 2,
       "version_minor": 0
      },
      "text/plain": [
       "Canvas(height=300, width=300)"
      ]
     },
     "metadata": {},
     "output_type": "display_data"
    }
   ],
   "source": [
    "# hide\n",
    "file = \"../data/projects/bbox/pics/red400x640.png\"\n",
    "canvas = Canvas(width=300, height=300)\n",
    "draw_bg(canvas)\n",
    "_, _, scale = ImageRenderer().render(canvas, file)\n",
    "print(scale)\n",
    "canvas"
   ]
  },
  {
   "cell_type": "markdown",
   "metadata": {},
   "source": [
    "The following example will be the same as before, but forcing the image to fit the canvas size"
   ]
  },
  {
   "cell_type": "code",
   "execution_count": 27,
   "metadata": {
    "tags": [
     "remove-cell"
    ]
   },
   "outputs": [
    {
     "name": "stdout",
     "output_type": "stream",
     "text": [
      "1\n"
     ]
    },
    {
     "data": {
      "application/vnd.jupyter.widget-view+json": {
       "model_id": "e131a379a33a465ba7b7a096ea336ff3",
       "version_major": 2,
       "version_minor": 0
      },
      "text/plain": [
       "Canvas(height=300, width=300)"
      ]
     },
     "metadata": {},
     "output_type": "display_data"
    }
   ],
   "source": [
    "# hide\n",
    "file = \"../data/projects/bbox/pics/red400x640.png\"\n",
    "canvas = Canvas(width=300, height=300)\n",
    "draw_bg(canvas)\n",
    "_, _, scale = ImageRenderer(fit_canvas=True).render(canvas, file)\n",
    "print(scale)\n",
    "canvas"
   ]
  },
  {
   "cell_type": "code",
   "execution_count": 28,
   "metadata": {
    "tags": [
     "remove-cell"
    ]
   },
   "outputs": [
    {
     "name": "stdout",
     "output_type": "stream",
     "text": [
      "0.46875\n"
     ]
    },
    {
     "data": {
      "application/vnd.jupyter.widget-view+json": {
       "model_id": "13b71544ef97414dadd0162d50ab6756",
       "version_major": 2,
       "version_minor": 0
      },
      "text/plain": [
       "Canvas(height=300, width=300)"
      ]
     },
     "metadata": {},
     "output_type": "display_data"
    }
   ],
   "source": [
    "# hide\n",
    "file = \"../data/projects/bbox/pics/green640x400.png\"\n",
    "canvas = Canvas(width=300, height=300)\n",
    "draw_bg(canvas)\n",
    "_, _, scale = ImageRenderer().render(canvas, file)\n",
    "print(scale)\n",
    "canvas"
   ]
  },
  {
   "cell_type": "markdown",
   "metadata": {},
   "source": [
    "## Catch Drawing Events\n",
    "\n",
    "drawing sequence:\n",
    "\n",
    "- mouse press\n",
    "- mouse move\n",
    "- mouse release\n",
    "\n",
    "The event only happens inside the area covered by the image"
   ]
  },
  {
   "cell_type": "code",
   "execution_count": 29,
   "metadata": {
    "tags": [
     "remove-cell"
    ]
   },
   "outputs": [
    {
     "name": "stdout",
     "output_type": "stream",
     "text": [
      "0.46875\n"
     ]
    }
   ],
   "source": [
    "# hide\n",
    "file = \"../data/projects/bbox/pics/green640x400.png\"\n",
    "canvas = Canvas(width=300, height=300)\n",
    "draw_bg(canvas)\n",
    "_, _, scale = ImageRenderer().render(canvas, file)\n",
    "print(scale)"
   ]
  },
  {
   "cell_type": "code",
   "execution_count": 30,
   "metadata": {
    "tags": [
     "remove-cell"
    ]
   },
   "outputs": [],
   "source": [
    "# hide\n",
    "debug_view = Output(layout={'border': '1px solid black'})\n",
    "\n",
    "state = {'active': False}\n",
    "\n",
    "\n",
    "@debug_view.capture(clear_output=True)\n",
    "def show_state():\n",
    "    print(state)\n",
    "\n",
    "\n",
    "@debug_view.capture(clear_output=True)\n",
    "def update_start(x, y):\n",
    "    print('start')\n",
    "    state['active'] = True\n",
    "    state['start'] = (x, y)\n",
    "    # reset end\n",
    "    state['end'] = state['start']\n",
    "    show_state()\n",
    "\n",
    "\n",
    "@debug_view.capture(clear_output=True)\n",
    "def update_state(x, y):\n",
    "    if state['active']:\n",
    "        state['end'] = (x, y)\n",
    "        show_state()\n",
    "\n",
    "\n",
    "@debug_view.capture(clear_output=True)\n",
    "def update_end(x, y):\n",
    "    state['active'] = False\n",
    "    state['end'] = (x, y)\n",
    "    show_state()\n",
    "\n",
    "\n",
    "canvas.on_mouse_down(update_start)\n",
    "canvas.on_mouse_move(update_state)\n",
    "canvas.on_mouse_up(update_end)"
   ]
  },
  {
   "cell_type": "code",
   "execution_count": 31,
   "metadata": {
    "tags": [
     "remove-cell"
    ]
   },
   "outputs": [
    {
     "data": {
      "application/vnd.jupyter.widget-view+json": {
       "model_id": "93e8b7a1628e425c8740b60b73418313",
       "version_major": 2,
       "version_minor": 0
      },
      "text/plain": [
       "Canvas(height=300, width=300)"
      ]
     },
     "metadata": {},
     "output_type": "display_data"
    }
   ],
   "source": [
    "# hide\n",
    "canvas"
   ]
  },
  {
   "cell_type": "code",
   "execution_count": 32,
   "metadata": {
    "tags": [
     "remove-cell"
    ]
   },
   "outputs": [
    {
     "data": {
      "application/vnd.jupyter.widget-view+json": {
       "model_id": "0f0d0635cb424958925c9413ad64dc22",
       "version_major": 2,
       "version_minor": 0
      },
      "text/plain": [
       "Output(layout=Layout(border='1px solid black'))"
      ]
     },
     "metadata": {},
     "output_type": "display_data"
    }
   ],
   "source": [
    "# hide\n",
    "debug_view"
   ]
  },
  {
   "cell_type": "code",
   "execution_count": 33,
   "metadata": {
    "tags": [
     "remove-cell"
    ]
   },
   "outputs": [],
   "source": [
    "# hide\n",
    "a = Image.from_file(\"../data/projects/bbox/pics/test200x200.png\")"
   ]
  },
  {
   "cell_type": "code",
   "execution_count": 34,
   "metadata": {},
   "outputs": [],
   "source": [
    "#export\n",
    "\n",
    "def points2bbox_coords(start_x, start_y, end_x, end_y) -> Dict[str, float]:\n",
    "    min_x, max_x = sorted((start_x, end_x))\n",
    "    min_y, max_y = sorted((start_y, end_y))\n",
    "    return {'x': min_x, 'y': min_y, 'width': max_x - min_x, 'height': max_y - min_y}"
   ]
  },
  {
   "cell_type": "code",
   "execution_count": 35,
   "metadata": {},
   "outputs": [],
   "source": [
    "#export\n",
    "def coords_scaled(bbox_coords: List[float], image_scale: float):\n",
    "    return [value * image_scale for value in bbox_coords]"
   ]
  },
  {
   "cell_type": "code",
   "execution_count": 36,
   "metadata": {},
   "outputs": [],
   "source": [
    "#exporti\n",
    "\n",
    "class BBoxLayer(IntEnum):\n",
    "    bg = 0\n",
    "    image = 1\n",
    "    box = 2\n",
    "    highlight = 3\n",
    "    drawing = 4"
   ]
  },
  {
   "cell_type": "code",
   "execution_count": 37,
   "metadata": {},
   "outputs": [],
   "source": [
    "#exporti\n",
    "\n",
    "class BBoxCanvasState(BaseState):\n",
    "    image_path: Optional[str]\n",
    "    bbox_coords: List[BboxCoordinate] = []\n",
    "    image_scale: float = 1\n",
    "    image_height: Optional[int] = None\n",
    "    image_width: Optional[int] = None\n",
    "    bbox_selected: Optional[int]\n",
    "    height: Optional[int]\n",
    "    width: Optional[int]\n",
    "    fit_canvas: bool = False\n",
    "\n",
    "    @root_validator\n",
    "    def set_height(cls, values):\n",
    "        if not values.get('image_height'):\n",
    "            values['image_height'] = values.get('height')\n",
    "\n",
    "        if not values.get('image_width'):\n",
    "            values['image_width'] = values.get('width')\n",
    "\n",
    "        return values"
   ]
  },
  {
   "cell_type": "code",
   "execution_count": 38,
   "metadata": {},
   "outputs": [],
   "source": [
    "#exporti\n",
    "\n",
    "class BBoxCanvasGUI(HBox):\n",
    "    debug_output = Output(layout={'border': '1px solid black'})\n",
    "\n",
    "    def __init__(\n",
    "        self,\n",
    "        state: BBoxCanvasState,\n",
    "        has_border: bool = False,\n",
    "        drawing_enabled: bool = True\n",
    "    ):\n",
    "        super().__init__()\n",
    "\n",
    "        self._state = state\n",
    "        self._start_point = ()\n",
    "        self.is_drawing = False\n",
    "        self.has_border = has_border\n",
    "        self.canvas_bbox_coords: Dict[str, Any] = {}\n",
    "        self.drawing_enabled = drawing_enabled\n",
    "\n",
    "        # do not stick bbox to borders\n",
    "        self.padding = 2\n",
    "\n",
    "        # Define each of the children...\n",
    "        self._image = Image(layout=Layout(display='flex',\n",
    "                                          justify_content='center',\n",
    "                                          align_items='center',\n",
    "                                          align_content='center',\n",
    "                                          overflow='hidden'))\n",
    "\n",
    "        if not drawing_enabled:\n",
    "            self.multi_canvas = MultiCanvas(\n",
    "                len(BBoxLayer),\n",
    "                width=self._state.width,\n",
    "                height=self._state.height\n",
    "            )\n",
    "            self.children = [VBox([self.multi_canvas])]\n",
    "        else:\n",
    "            self.multi_canvas = MultiCanvas(\n",
    "                len(BBoxLayer),\n",
    "                width=self._state.width,\n",
    "                height=self._state.height\n",
    "            )\n",
    "\n",
    "            self.im_name_box = Label()\n",
    "\n",
    "            children = [VBox([self.multi_canvas, self.im_name_box])]\n",
    "            self.children = children\n",
    "            draw_bg(self.multi_canvas[BBoxLayer.bg])\n",
    "\n",
    "            # link drawing events\n",
    "            self.multi_canvas[BBoxLayer.drawing].on_mouse_move(self._update_pos)\n",
    "            self.multi_canvas[BBoxLayer.drawing].on_mouse_down(self._start_drawing)\n",
    "            self.multi_canvas[BBoxLayer.drawing].on_mouse_up(self._stop_drawing)\n",
    "\n",
    "    @property\n",
    "    def highlight(self) -> BboxCoordinate:\n",
    "        return self._state.bbox_coords[self.bbox_selected]\n",
    "\n",
    "    @highlight.setter\n",
    "    def highlight(self, index: int):\n",
    "        self.clear_layer(BBoxLayer.highlight)\n",
    "\n",
    "        # unhighlight when double click\n",
    "        if self._state.bbox_coords and self._state.bbox_selected == index:\n",
    "            self._state.set_quietly('bbox_selected', None)\n",
    "            return\n",
    "        _bbox_coords = list(asdict(self._state.bbox_coords[index]).values())\n",
    "        _bbox_coords_scaled = coords_scaled(_bbox_coords,\n",
    "                                            self._state.image_scale)\n",
    "        bbox_coords = BboxCoordinate(*_bbox_coords_scaled)\n",
    "\n",
    "        draw_bounding_box(\n",
    "            self.multi_canvas[BBoxLayer.highlight],\n",
    "            bbox_coords,\n",
    "            stroke_color='black',\n",
    "            border_ratio=3,\n",
    "            color='yellow'\n",
    "        )\n",
    "\n",
    "        self._state.set_quietly('bbox_selected', index)\n",
    "\n",
    "    @debug_output.capture(clear_output=True)\n",
    "    def _update_pos(self, x, y):\n",
    "        # print(f\"-> BBoxCanvasGUI::_update_post({x}, {y})\")\n",
    "        if self.is_drawing:\n",
    "            self.canvas_bbox_coords = points2bbox_coords(*self._start_point, x, y)\n",
    "            self.draw_bbox(self.canvas_bbox_coords)\n",
    "            # bbox should not cross the canvas border:\n",
    "            if self._invalid_coords(x, y):\n",
    "                print(' !! Out of canvas border !!')\n",
    "                self._stop_drawing(x, y)\n",
    "        # print(f\"<- BBoxCanvasGUI::_update_post({x}, {y})\")\n",
    "\n",
    "    def _invalid_coords(self, x, y) -> bool:\n",
    "        return (\n",
    "            self.canvas_bbox_coords[\"x\"] + self.canvas_bbox_coords[\"width\"] >\n",
    "            self.multi_canvas.width - self.padding or\n",
    "            self.canvas_bbox_coords[\"y\"] + self.canvas_bbox_coords[\"height\"] >\n",
    "            self.multi_canvas.height - self.padding or\n",
    "            self.canvas_bbox_coords[\"x\"] < self.padding or\n",
    "            self.canvas_bbox_coords[\"y\"] < self.padding)\n",
    "\n",
    "    @debug_output.capture(clear_output=True)\n",
    "    def _stop_drawing(self, x, y):\n",
    "        # print(f\"-> BBoxCanvasGUI::_stop_drawing({x}, {y})\")\n",
    "        self.is_drawing = False\n",
    "\n",
    "        # if something is drawn\n",
    "        if self.canvas_bbox_coords:\n",
    "            # if bbox is not human visible, clean:\n",
    "            if (self.canvas_bbox_coords['width'] < 10 or\n",
    "                    self.canvas_bbox_coords['height'] < 10):\n",
    "                self.clear_layer(BBoxLayer.drawing)\n",
    "                print(\" !! too small bbox drawn !!\")\n",
    "            else:  # otherwise, save bbox values to backend\n",
    "                tmp_bbox_coords = deepcopy(self._state.bbox_coords)\n",
    "                tmp_bbox_coords.append(\n",
    "                    BboxCoordinate(\n",
    "                        **{k: v / self._state.image_scale for k, v in self.canvas_bbox_coords.items()}  # noqa: E501\n",
    "                    )\n",
    "                )\n",
    "                self._state.bbox_coords = tmp_bbox_coords\n",
    "            self.canvas_bbox_coords = {}\n",
    "        # print(f\"<- BBoxCanvasGUI::_stop_drawing({x}, {y})\")\n",
    "\n",
    "    def draw_bbox(self, canvas_bbox_coords: dict, color='white'):\n",
    "        # print('-> Observe canvas_coords: ', canvas_bbox_coords)\n",
    "        if not canvas_bbox_coords:\n",
    "            self.clear_layer(BBoxLayer.box)\n",
    "            self._state.bbox_coords = []\n",
    "            return\n",
    "\n",
    "        coords = BboxCoordinate(*canvas_bbox_coords.values())\n",
    "\n",
    "        draw_bounding_box(\n",
    "            self.multi_canvas[BBoxLayer.drawing],\n",
    "            coords,\n",
    "            color='white',\n",
    "            border_ratio=2,\n",
    "            clear=True\n",
    "        )\n",
    "        # print('<- Observe canvas_coords')\n",
    "\n",
    "    def clear_layer(self, layer: int):\n",
    "        self.multi_canvas[layer].clear()\n",
    "\n",
    "    @debug_output.capture(clear_output=True)\n",
    "    def _start_drawing(self, x, y):\n",
    "        # print(f\"-> BBoxCanvasGUI::_start_drawing({x}, {y})\")\n",
    "        self._start_point = (x, y)\n",
    "        self.is_drawing = True\n",
    "        # print(f\"<- BBoxCanvasGUI::_start_drawing({x}, {y})\")\n",
    "\n",
    "    # needed to support voila\n",
    "    # https://ipycanvas.readthedocs.io/en/latest/advanced.html#ipycanvas-in-voila\n",
    "    def observe_client_ready(self, cb=None):\n",
    "        self.multi_canvas.on_client_ready(cb)"
   ]
  },
  {
   "cell_type": "code",
   "execution_count": 39,
   "metadata": {},
   "outputs": [
    {
     "data": {
      "application/vnd.jupyter.widget-view+json": {
       "model_id": "c0645286c62f44859e05ad0e7a70b73e",
       "version_major": 2,
       "version_minor": 0
      },
      "text/plain": [
       "BBoxCanvasGUI(children=(VBox(children=(MultiCanvas(value=b'\\x89PNG\\r\\n\\x1a\\n\\x00\\x00\\x00\\rIHDR\\x00\\x00\\x00d\\x0…"
      ]
     },
     "metadata": {},
     "output_type": "display_data"
    }
   ],
   "source": [
    "# it can highlight\n",
    "\n",
    "bbox_canvas_state = BBoxCanvasState(\n",
    "    **{  # type: ignore\n",
    "        'width': 100,\n",
    "        'height': 100,\n",
    "        'bbox_coords': [BboxCoordinate(**{'x': 10, 'y': 20, 'width': 50, 'height': 50})]\n",
    "    }\n",
    ")\n",
    "\n",
    "gui = BBoxCanvasGUI(bbox_canvas_state)\n",
    "gui.highlight = 0  # type: ignore\n",
    "gui"
   ]
  },
  {
   "cell_type": "code",
   "execution_count": 40,
   "metadata": {},
   "outputs": [],
   "source": [
    "#exporti\n",
    "\n",
    "class BBoxVideoCanvasGUI(BBoxCanvasGUI):\n",
    "    debug_output = Output(layout={'border': '1px solid black'})\n",
    "\n",
    "    def __init__(\n",
    "        self,\n",
    "        state: BBoxCanvasState,\n",
    "        has_border: bool = False,\n",
    "        drawing_enabled: bool = True\n",
    "    ):\n",
    "        super().__init__(state, has_border, drawing_enabled)\n",
    "\n",
    "    @property\n",
    "    def highlight(self) -> BboxCoordinate:\n",
    "        return self._state.bbox_coords[self.bbox_selected]\n",
    "\n",
    "    @highlight.setter\n",
    "    def highlight(self, index: int):\n",
    "        self.clear_layer(BBoxLayer.highlight)\n",
    "\n",
    "        # unhighlight when double click\n",
    "        if self._state.bbox_coords and self._state.bbox_selected == index:\n",
    "            self._state.set_quietly('bbox_selected', None)\n",
    "            return\n",
    "\n",
    "        _bbox_coords = list(asdict(self._state.bbox_coords[index]).values())\n",
    "        _bbox_coords_scaled = coords_scaled(\n",
    "            _bbox_coords[:4], self._state.image_scale)\n",
    "        bbox_coords = BboxCoordinate(*_bbox_coords_scaled)\n",
    "\n",
    "        draw_bounding_box(\n",
    "            self.multi_canvas[BBoxLayer.highlight],\n",
    "            bbox_coords,\n",
    "            stroke_color='black',\n",
    "            border_ratio=3,\n",
    "            color='yellow'\n",
    "        )\n",
    "\n",
    "        self._state.set_quietly('bbox_selected', index)\n",
    "\n",
    "    @debug_output.capture(clear_output=False)\n",
    "    def _stop_drawing(self, x, y):\n",
    "        #print(f\"-> BBoxVideoCanvasGUI::_stop_drawing({x}, {y})\")\n",
    "        self.is_drawing = False\n",
    "\n",
    "        # if something is drawn\n",
    "        if self.canvas_bbox_coords:\n",
    "            # if bbox is not human visible, clean:\n",
    "            if (self.canvas_bbox_coords['width'] < 10 or\n",
    "                    self.canvas_bbox_coords['height'] < 10):\n",
    "                self.clear_layer(BBoxLayer.drawing)\n",
    "                print(\" !! too small bbox drawn !!\")\n",
    "            else:  # otherwise, save bbox values to backend\n",
    "                tmp_bbox_coords = deepcopy(self._state.bbox_coords)\n",
    "                tmp_bbox_coords.append(\n",
    "                    BboxVideoCoordinate(**{\n",
    "                        **{k: v / self._state.image_scale for k, v in self.canvas_bbox_coords.items()},  # noqa: E501\n",
    "                        **{'id': str(len(self._state.bbox_coords))}  # TODO::improve id generation\n",
    "                    })\n",
    "                )\n",
    "                self._state.bbox_coords = tmp_bbox_coords\n",
    "            self.canvas_bbox_coords = {}\n",
    "        # print(f\"<- BBoxVideoCanvasGUI::_stop_drawing({x}, {y})\")\n",
    "\n",
    "    @debug_output.capture(clear_output=False)\n",
    "    def draw_bbox(self, canvas_bbox_coords: dict, color='white'):\n",
    "        # print('-> Observe canvas_coords: ', canvas_bbox_coords)\n",
    "        if not canvas_bbox_coords:\n",
    "            self.clear_layer(BBoxLayer.box)\n",
    "            self._state.set_quietly('bbox_coords', [])\n",
    "            return\n",
    "\n",
    "        coords = BboxCoordinate(*list(canvas_bbox_coords.values())[:4])\n",
    "\n",
    "        draw_bounding_box(\n",
    "            self.multi_canvas[BBoxLayer.drawing],\n",
    "            coords,\n",
    "            color='white',\n",
    "            border_ratio=2,\n",
    "            clear=True\n",
    "        )"
   ]
  },
  {
   "cell_type": "code",
   "execution_count": 41,
   "metadata": {},
   "outputs": [
    {
     "data": {
      "application/vnd.jupyter.widget-view+json": {
       "model_id": "15b53861b95e4fd883fe816f89cf76ad",
       "version_major": 2,
       "version_minor": 0
      },
      "text/plain": [
       "BBoxVideoCanvasGUI(children=(VBox(children=(MultiCanvas(value=b'\\x89PNG\\r\\n\\x1a\\n\\x00\\x00\\x00\\rIHDR\\x00\\x00\\x0…"
      ]
     },
     "metadata": {},
     "output_type": "display_data"
    }
   ],
   "source": [
    "# it can highlight\n",
    "\n",
    "bbox_canvas_state = BBoxCanvasState(\n",
    "    **{  # type: ignore\n",
    "        'width': 100,\n",
    "        'height': 100,\n",
    "        'bbox_coords': [\n",
    "            BboxVideoCoordinate(\n",
    "                **{'x': 10, 'y': 20, 'width': 50,  # type: ignore\n",
    "                   'height': 50, 'id': 'object 01'})\n",
    "        ]\n",
    "    }\n",
    ")\n",
    "\n",
    "gui = BBoxVideoCanvasGUI(bbox_canvas_state)\n",
    "gui.highlight = 0  # type: ignore\n",
    "gui"
   ]
  },
  {
   "cell_type": "code",
   "execution_count": 42,
   "metadata": {},
   "outputs": [],
   "source": [
    "#exporti\n",
    "\n",
    "class BBoxCanvasController:\n",
    "    \"\"\"\n",
    "    Handle the GUI and state communication\n",
    "    \"\"\"\n",
    "    debug_output = Output(layout={'border': '1px solid black'})\n",
    "\n",
    "    def __init__(self, gui: BBoxCanvasGUI, state: BBoxCanvasState):\n",
    "        self._state = state\n",
    "        self._gui = gui\n",
    "\n",
    "        state.subscribe(self._draw_all_bbox, 'bbox_coords')\n",
    "        state.subscribe(self._draw_image, 'image_path')\n",
    "        pub.subscribe(self._draw_all_bbox, f'{state.root_topic}.coord_changed')\n",
    "        self.bbox = BoundingBox()\n",
    "\n",
    "    @debug_output.capture(clear_output=True)\n",
    "    def _draw_all_bbox(self, bbox_coords: List[BboxCoordinate]):\n",
    "        # print(f\"-> BBoxCanvasController::_draw_all_bbox: {bbox_coords}\")\n",
    "        self._gui.clear_layer(BBoxLayer.box)\n",
    "        self._gui.clear_layer(BBoxLayer.highlight)\n",
    "        self._gui.clear_layer(BBoxLayer.drawing)\n",
    "\n",
    "        all_bbox = []\n",
    "        for bbox_coord in bbox_coords:\n",
    "            coord = list(asdict(bbox_coord).values())\n",
    "            coord = coords_scaled(coord, self._state.image_scale)\n",
    "            all_bbox.append(BboxCoordinate(*coord))\n",
    "\n",
    "        self.bbox.draw(\n",
    "            canvas=self._gui.multi_canvas[BBoxLayer.box],\n",
    "            coords=all_bbox,\n",
    "            clear=False\n",
    "        )\n",
    "        # print(f\"<- BBoxCanvasController::_draw_all_bbox\")\n",
    "\n",
    "    def clear_all_bbox(self):\n",
    "        self._gui.clear_layer(BBoxLayer.box)\n",
    "        self._gui.clear_layer(BBoxLayer.highlight)\n",
    "        self._gui.clear_layer(BBoxLayer.drawing)\n",
    "        self._state.set_quietly('bbox_coords', [])\n",
    "\n",
    "    @debug_output.capture(clear_output=True)\n",
    "    def _draw_image(self, image_path: str):\n",
    "        print(f\"-> _draw_image {image_path}\")\n",
    "        self.clear_all_bbox()\n",
    "\n",
    "        img_renderer_service = ImageRenderer(\n",
    "            clear=True,\n",
    "            has_border=self._gui.has_border,\n",
    "            fit_canvas=self._state.fit_canvas\n",
    "        )\n",
    "\n",
    "        image_width, image_height, scale = img_renderer_service.render(\n",
    "            self._gui.multi_canvas[BBoxLayer.image],\n",
    "            image_path\n",
    "        )\n",
    "\n",
    "        self._state.set_quietly('image_width', image_width)\n",
    "        self._state.set_quietly('image_height', image_height)\n",
    "        self._state.image_scale = scale\n",
    "        self._gui.im_name_box.value = Path(image_path).name\n",
    "        # print(f\"<- _draw_image {image_path}\")"
   ]
  },
  {
   "cell_type": "code",
   "execution_count": 43,
   "metadata": {},
   "outputs": [],
   "source": [
    "#exporti\n",
    "\n",
    "class BBoxVideoCanvasController(BBoxCanvasController):\n",
    "    debug_output = Output(layout={'border': '1px solid black'})\n",
    "\n",
    "    def __init__(self, gui: BBoxCanvasGUI, state: BBoxCanvasState):\n",
    "        super().__init__(gui, state)\n",
    "\n",
    "    @debug_output.capture(clear_output=True)\n",
    "    def _draw_all_bbox(self, bbox_coords: List[BboxVideoCoordinate]):\n",
    "        #print(f\"-> BBoxVideoCanvasController::_draw_all_bbox: {bbox_coords}\")\n",
    "        self._gui.clear_layer(BBoxLayer.box)\n",
    "        self._gui.clear_layer(BBoxLayer.highlight)\n",
    "        self._gui.clear_layer(BBoxLayer.drawing)\n",
    "\n",
    "        all_bbox = []\n",
    "        for bbox_coord in bbox_coords:\n",
    "            coord = list(asdict(bbox_coord).values())[:4]\n",
    "            coord = coords_scaled(coord, self._state.image_scale)\n",
    "            all_bbox.append(BboxCoordinate(*coord))\n",
    "\n",
    "        self.bbox.draw(\n",
    "            canvas=self._gui.multi_canvas[BBoxLayer.box],\n",
    "            coords=all_bbox,\n",
    "            clear=False\n",
    "        )"
   ]
  },
  {
   "cell_type": "code",
   "execution_count": 44,
   "metadata": {},
   "outputs": [],
   "source": [
    "#export\n",
    "\n",
    "class BBoxCanvas(BBoxCanvasGUI):\n",
    "    \"\"\"\n",
    "    Represents canvas holding image and bbox ontop.\n",
    "    Gives user an ability to draw a bbox with mouse.\n",
    "    \"\"\"\n",
    "\n",
    "    def __init__(\n",
    "        self,\n",
    "        width,\n",
    "        height,\n",
    "        has_border: bool = False,\n",
    "        fit_canvas: bool = False,\n",
    "        drawing_enabled: bool = True\n",
    "    ):\n",
    "        self.state = BBoxCanvasState(\n",
    "            uuid=str(id(self)),\n",
    "            **{'width': width, 'height': height, 'fit_canvas': fit_canvas}\n",
    "        )\n",
    "        super().__init__(\n",
    "            state=self.state,\n",
    "            has_border=has_border,\n",
    "            drawing_enabled=drawing_enabled\n",
    "        )\n",
    "        self._controller = BBoxCanvasController(gui=self, state=self.state)\n",
    "        self._bbox_history: List[Any] = []\n",
    "\n",
    "    def undo_bbox(self):\n",
    "        if self.state.bbox_coords:\n",
    "            tmp_bbox_coords = deepcopy(self.state.bbox_coords)\n",
    "            removed_bbox = tmp_bbox_coords.pop()\n",
    "            self._bbox_history = [removed_bbox]\n",
    "            self.state.bbox_coords = tmp_bbox_coords\n",
    "\n",
    "    def redo_bbox(self):\n",
    "        if self._bbox_history:\n",
    "            tmp_bbox_coords = deepcopy(self.state.bbox_coords)\n",
    "            tmp_bbox_coords.append(self._bbox_history.pop())\n",
    "            self.state.bbox_coords = tmp_bbox_coords\n",
    "\n",
    "    def clear_all_bbox(self):\n",
    "        self._controller.clear_all_bbox()\n",
    "\n",
    "    def observe_client_ready(self, cb=None):\n",
    "        self.multi_canvas.on_client_ready(cb)"
   ]
  },
  {
   "cell_type": "markdown",
   "metadata": {},
   "source": [
    "![](http://www.plantuml.com/plantuml/png/bP5DQiCm48NtEiL0DmdK5yWY1DehT2t6qZWnbJL6FtPo-rfIxQIj25JWXVK-FTwyEVc0BiJ125I17NnuSl0oN_f0Gh4DZWsyePtG2o6Is1pBxm46Zfv0ysp5sN4SuTtXtDkpA41pxDnYG5OVWAtCjCpqUlz8o9n3wcyBmpn2nmu8rGL6xXVCmS0J2LXEBSWcbcjeZd2ttrrVuRRFCfe0FYf5tdVHW4AVdfLJInP73MtBLwcOdVOLTisHmcSqCsGy0SS0t85AnD-dMyQr0Xwt1ZQBc3QIfErvRVfubv_KNwZ_PR1QfAzMpOIcrnW8P1bGFlPKx_bvRtdWYTmD_836mCwoRQRUzwsXVK7g5ieGMlWLj4NrkQuG0_tOucaHuc2-0000)"
   ]
  },
  {
   "cell_type": "code",
   "execution_count": 45,
   "metadata": {},
   "outputs": [],
   "source": [
    "#export\n",
    "\n",
    "class BBoxVideoCanvas(BBoxVideoCanvasGUI):\n",
    "    def __init__(self, width, height, has_border: bool = False, drawing_enabled: bool = True):\n",
    "        self.state = BBoxCanvasState(\n",
    "            uuid=str(id(self)),\n",
    "            **{'width': width, 'height': height}\n",
    "        )\n",
    "        self.drawing_enabled = drawing_enabled\n",
    "        super().__init__(state=self.state, has_border=has_border, drawing_enabled=drawing_enabled)\n",
    "\n",
    "        self._controller = BBoxVideoCanvasController(gui=self, state=self.state)"
   ]
  },
  {
   "cell_type": "code",
   "execution_count": 46,
   "metadata": {
    "tags": [
     "remove-cell"
    ]
   },
   "outputs": [
    {
     "data": {
      "application/vnd.jupyter.widget-view+json": {
       "model_id": "ff858bb16ab244378fa15a54d96a0541",
       "version_major": 2,
       "version_minor": 0
      },
      "text/plain": [
       "BBoxCanvas(children=(VBox(children=(MultiCanvas(value=b'\\x89PNG\\r\\n\\x1a\\n\\x00\\x00\\x00\\rIHDR\\x00\\x00\\x00d\\x00\\x…"
      ]
     },
     "metadata": {},
     "output_type": "display_data"
    }
   ],
   "source": [
    "# hide\n",
    "gui = BBoxCanvas(width=100, height=100, has_border=True)\n",
    "gui"
   ]
  },
  {
   "cell_type": "markdown",
   "metadata": {},
   "source": [
    "You can't draw on the following canvas"
   ]
  },
  {
   "cell_type": "code",
   "execution_count": 47,
   "metadata": {},
   "outputs": [
    {
     "data": {
      "application/vnd.jupyter.widget-view+json": {
       "model_id": "f3d709565c1b45d6b2639da01f2abace",
       "version_major": 2,
       "version_minor": 0
      },
      "text/plain": [
       "BBoxCanvas(children=(VBox(children=(MultiCanvas(value=b'\\x89PNG\\r\\n\\x1a\\n\\x00\\x00\\x00\\rIHDR\\x00\\x00\\x00d\\x00\\x…"
      ]
     },
     "metadata": {},
     "output_type": "display_data"
    }
   ],
   "source": [
    "BBoxCanvas(width=100, height=100, has_border=True, drawing_enabled=False)"
   ]
  },
  {
   "cell_type": "markdown",
   "metadata": {},
   "source": [
    "You can't draw on the following canvas"
   ]
  },
  {
   "cell_type": "code",
   "execution_count": 48,
   "metadata": {
    "tags": [
     "remove-cell"
    ]
   },
   "outputs": [
    {
     "data": {
      "application/vnd.jupyter.widget-view+json": {
       "model_id": "30171ed240ff453b8ac3f2228a89262f",
       "version_major": 2,
       "version_minor": 0
      },
      "text/plain": [
       "BBoxVideoCanvas(children=(VBox(children=(MultiCanvas(value=b'\\x89PNG\\r\\n\\x1a\\n\\x00\\x00\\x00\\rIHDR\\x00\\x00\\x00d\\…"
      ]
     },
     "metadata": {},
     "output_type": "display_data"
    }
   ],
   "source": [
    "# hide\n",
    "video = BBoxVideoCanvas(width=100, height=100, has_border=True, drawing_enabled=False)\n",
    "video"
   ]
  },
  {
   "cell_type": "code",
   "execution_count": 49,
   "metadata": {},
   "outputs": [
    {
     "data": {
      "text/plain": [
       "BBoxCanvasState(image_path=None, bbox_coords=[], image_scale=1.0, image_height=100, image_width=100, bbox_selected=None, height=100, width=100, fit_canvas=False, _uuid='139782141291536', event_map={'139782141291536.BBoxCanvasState.bbox_coords': <bound method BBoxVideoCanvasController._draw_all_bbox of <__main__.BBoxVideoCanvasController object at 0x7f2190d47610>>, '139782141291536.BBoxCanvasState.image_path': <bound method BBoxCanvasController._draw_image of <__main__.BBoxVideoCanvasController object at 0x7f2190d47610>>})"
      ]
     },
     "execution_count": 49,
     "metadata": {},
     "output_type": "execute_result"
    }
   ],
   "source": [
    "video.state"
   ]
  },
  {
   "cell_type": "code",
   "execution_count": 50,
   "metadata": {},
   "outputs": [
    {
     "data": {
      "text/plain": [
       "BBoxCanvasState(image_path=None, bbox_coords=[], image_scale=1.0, image_height=100, image_width=100, bbox_selected=None, height=100, width=100, fit_canvas=False, _uuid='139782544227584', event_map={'139782544227584.BBoxCanvasState.bbox_coords': <bound method BBoxCanvasController._draw_all_bbox of <__main__.BBoxCanvasController object at 0x7f2190c6c760>>, '139782544227584.BBoxCanvasState.image_path': <bound method BBoxCanvasController._draw_image of <__main__.BBoxCanvasController object at 0x7f2190c6c760>>})"
      ]
     },
     "execution_count": 50,
     "metadata": {},
     "output_type": "execute_result"
    }
   ],
   "source": [
    "gui.state"
   ]
  },
  {
   "cell_type": "code",
   "execution_count": 51,
   "metadata": {
    "tags": [
     "remove-cell"
    ]
   },
   "outputs": [
    {
     "data": {
      "application/vnd.jupyter.widget-view+json": {
       "model_id": "426fc12dbee54c8e8dd8d1b433192a5d",
       "version_major": 2,
       "version_minor": 0
      },
      "text/plain": [
       "Output(layout=Layout(border='1px solid black'))"
      ]
     },
     "metadata": {},
     "output_type": "display_data"
    }
   ],
   "source": [
    "# hide\n",
    "gui.debug_output"
   ]
  },
  {
   "cell_type": "code",
   "execution_count": 52,
   "metadata": {},
   "outputs": [
    {
     "data": {
      "application/vnd.jupyter.widget-view+json": {
       "model_id": "8b85cdf8a26147a5a0cadf167c8f655f",
       "version_major": 2,
       "version_minor": 0
      },
      "text/plain": [
       "Output(layout=Layout(border='1px solid black'))"
      ]
     },
     "metadata": {},
     "output_type": "display_data"
    }
   ],
   "source": [
    "gui._controller.debug_output"
   ]
  },
  {
   "cell_type": "code",
   "execution_count": 53,
   "metadata": {},
   "outputs": [
    {
     "data": {
      "text/plain": [
       "[]"
      ]
     },
     "execution_count": 53,
     "metadata": {},
     "output_type": "execute_result"
    }
   ],
   "source": [
    "gui._state.bbox_coords"
   ]
  },
  {
   "cell_type": "code",
   "execution_count": 54,
   "metadata": {
    "tags": [
     "remove-cell"
    ]
   },
   "outputs": [],
   "source": [
    "# hide\n",
    "# gui._state.image_path = \"../data/projects/bbox/pics/red400x640.png\"\n",
    "gui._state.image_path = '../data/projects/im2im1/class_images/blocks_1.png'\n",
    "gui._controller._draw_image('../data/projects/im2im1/class_images/blocks_1.png')"
   ]
  },
  {
   "cell_type": "code",
   "execution_count": 55,
   "metadata": {
    "tags": [
     "remove-cell"
    ]
   },
   "outputs": [],
   "source": [
    "# hide\n",
    "\n",
    "tpm_bbox_coords = gui._state.bbox_coords\n",
    "# tpm_bbox_coords[0] = {'x':5, 'y': 10, 'width': 5, 'height': 5}\n",
    "tpm_bbox_coords.append(BboxCoordinate(*[5, 10, 20, 30]))\n",
    "gui._state.bbox_coords = tpm_bbox_coords"
   ]
  },
  {
   "cell_type": "code",
   "execution_count": 56,
   "metadata": {},
   "outputs": [
    {
     "data": {
      "text/plain": [
       "0.96875"
      ]
     },
     "execution_count": 56,
     "metadata": {},
     "output_type": "execute_result"
    }
   ],
   "source": [
    "gui._state.image_scale"
   ]
  },
  {
   "cell_type": "code",
   "execution_count": 57,
   "metadata": {
    "tags": [
     "remove-cell"
    ]
   },
   "outputs": [],
   "source": [
    "# hide\n",
    "\n",
    "tpm_bbox_coords = gui._state.bbox_coords\n",
    "tpm_bbox_coords.append(BboxCoordinate(**{'x': 10, 'y': 10, 'width': 20, 'height': 30}))\n",
    "gui._state.bbox_coords = tpm_bbox_coords"
   ]
  },
  {
   "cell_type": "code",
   "execution_count": 58,
   "metadata": {},
   "outputs": [
    {
     "data": {
      "text/plain": [
       "[BboxCoordinate(x=5, y=10, width=20, height=30),\n",
       " BboxCoordinate(x=10, y=10, width=20, height=30)]"
      ]
     },
     "execution_count": 58,
     "metadata": {},
     "output_type": "execute_result"
    }
   ],
   "source": [
    "gui._state.bbox_coords"
   ]
  },
  {
   "cell_type": "code",
   "execution_count": 59,
   "metadata": {},
   "outputs": [],
   "source": [
    "# it can undo bbox_coords\n",
    "\n",
    "assert len(gui._state.bbox_coords) == 2\n",
    "gui.undo_bbox()\n",
    "assert len(gui._state.bbox_coords) == 1\n",
    "gui.undo_bbox()"
   ]
  },
  {
   "cell_type": "code",
   "execution_count": 60,
   "metadata": {},
   "outputs": [],
   "source": [
    "# it can redo the last undo\n",
    "\n",
    "assert len(gui._state.bbox_coords) == 0\n",
    "gui.redo_bbox()\n",
    "assert len(gui._state.bbox_coords) == 1\n",
    "gui.redo_bbox()\n",
    "assert len(gui._state.bbox_coords) == 1"
   ]
  },
  {
   "cell_type": "code",
   "execution_count": 61,
   "metadata": {},
   "outputs": [],
   "source": [
    "def scaled(coords):\n",
    "    return {k: (v / gui._state.image_scale) for k, v in coords.items()}\n",
    "\n",
    "\n",
    "# it cant draw small bbox\n",
    "small_coord = {'height': 5, 'width': 5, 'x': 5, 'y': 5}\n",
    "gui.canvas_bbox_coords = small_coord\n",
    "\n",
    "gui._stop_drawing(small_coord['x'], small_coord['y'])  # mouse up\n",
    "\n",
    "assert scaled(small_coord) not in gui._state.bbox_coords\n",
    "\n",
    "# it can draw bbox\n",
    "bigger_coord = {'height': 11, 'width': 11, 'x': 11, 'y': 11}\n",
    "gui.canvas_bbox_coords = bigger_coord\n",
    "\n",
    "gui._stop_drawing(bigger_coord['x'], bigger_coord['y'])  # mouse up\n",
    "assert BboxCoordinate(**scaled(bigger_coord)) in gui._state.bbox_coords"
   ]
  },
  {
   "cell_type": "code",
   "execution_count": 62,
   "metadata": {},
   "outputs": [
    {
     "data": {
      "text/plain": [
       "BBoxCanvasState(image_path='../data/projects/im2im1/class_images/blocks_1.png', bbox_coords=[BboxCoordinate(x=5, y=10, width=20, height=30), BboxCoordinate(x=11.35483870967742, y=11.35483870967742, width=11.35483870967742, height=11.35483870967742)], image_scale=0.96875, image_height=60.0, image_width=60.0, bbox_selected=None, height=100, width=100, fit_canvas=False, _uuid='139782544227584', event_map={'139782544227584.BBoxCanvasState.bbox_coords': <bound method BBoxCanvasController._draw_all_bbox of <__main__.BBoxCanvasController object at 0x7f2190c6c760>>, '139782544227584.BBoxCanvasState.image_path': <bound method BBoxCanvasController._draw_image of <__main__.BBoxCanvasController object at 0x7f2190c6c760>>})"
      ]
     },
     "execution_count": 62,
     "metadata": {},
     "output_type": "execute_result"
    }
   ],
   "source": [
    "gui._state"
   ]
  },
  {
   "cell_type": "code",
   "execution_count": 63,
   "metadata": {},
   "outputs": [],
   "source": [
    "gui.clear_all_bbox()"
   ]
  },
  {
   "cell_type": "code",
   "execution_count": 64,
   "metadata": {
    "tags": [
     "remove-cell"
    ]
   },
   "outputs": [
    {
     "name": "stdout",
     "output_type": "stream",
     "text": [
      "Converted 00_base.ipynb.\n",
      "Converted 00a_annotator.ipynb.\n",
      "Converted 00b_mltypes.ipynb.\n",
      "Converted 00c_annotation_types.ipynb.\n",
      "Converted 00d_doc_utils.ipynb.\n",
      "Converted 01_bbox_canvas.ipynb.\n",
      "Converted 01_helpers.ipynb.\n",
      "Converted 01a_datasets.ipynb.\n"
     ]
    },
    {
     "name": "stdout",
     "output_type": "stream",
     "text": [
      "Converted 01a_datasets_download.ipynb.\n",
      "Converted 01a_datasets_factory.ipynb.\n",
      "Converted 01b_dataset_video.ipynb.\n",
      "Converted 01b_tutorial_image_classification.ipynb.\n",
      "Converted 01c_tutorial_bbox.ipynb.\n",
      "Converted 01d_tutorial_video_annotator.ipynb.\n",
      "Converted 02_navi_widget.ipynb.\n",
      "Converted 02a_right_menu_widget.ipynb.\n",
      "Converted 02b_grid_menu.ipynb.\n"
     ]
    },
    {
     "name": "stdout",
     "output_type": "stream",
     "text": [
      "Converted 03_storage.ipynb.\n",
      "Converted 04_bbox_annotator.ipynb.\n",
      "Converted 05_image_button.ipynb.\n",
      "Converted 06_capture_annotator.ipynb.\n",
      "Converted 07_im2im_annotator.ipynb.\n",
      "Converted 08_tutorial_road_damage.ipynb.\n",
      "Converted 09_voila_example.ipynb.\n",
      "Converted 11_build_annotator_tutorial.ipynb.\n"
     ]
    },
    {
     "name": "stdout",
     "output_type": "stream",
     "text": [
      "Converted 12_debug_utils.ipynb.\n",
      "Converted 13_datasets_legacy.ipynb.\n",
      "Converted 14_datasets_factory_legacy.ipynb.\n",
      "Converted 15_coordinates_input.ipynb.\n",
      "Converted 16_custom_buttons.ipynb.\n",
      "Converted 17_annotator_explorer.ipynb.\n",
      "Converted 18_bbox_trajectory.ipynb.\n",
      "Converted 19_bbox_video_annotator.ipynb.\n",
      "Converted 20_image_classification_user_story.ipynb.\n",
      "Converted index.ipynb.\n"
     ]
    }
   ],
   "source": [
    "#hide\n",
    "from nbdev.export import notebook2script\n",
    "notebook2script()"
   ]
  },
  {
   "cell_type": "code",
   "execution_count": null,
   "metadata": {},
   "outputs": [],
   "source": []
  }
 ],
 "metadata": {
  "kernelspec": {
   "display_name": "Python 3",
   "language": "python",
   "name": "python3"
  },
  "language_info": {
   "codemirror_mode": {
    "name": "ipython",
    "version": 3
   },
   "file_extension": ".py",
   "mimetype": "text/x-python",
   "name": "python",
   "nbconvert_exporter": "python",
   "pygments_lexer": "ipython3",
   "version": "3.8.12"
  },
  "widgets": {
   "application/vnd.jupyter.widget-state+json": {
    "state": {
     "01f8a9a82d384e4aabd7d92a52e690c1": {
      "buffers": [
       {
        "data": "iVBORw0KGgoAAAANSUhEUgAAAGQAAABkCAIAAAD/gAIDAAAA6ElEQVR4nO3QwQ3AIBDAsNL9dz5WIC+EZE8QZc3Mx5n/dsBLzArMCswKzArMCswKzArMCswKzArMCswKzArMCswKzArMCswKzArMCswKzArMCswKzArMCswKzArMCswKzArMCswKzArMCswKzArMCswKzArMCswKzArMCswKzArMCswKzArMCswKzArMCswKzArMCswKzArMCswKzArMCswKzArMCswKzArMCswKzArMCswKzArMCswKzArMCswKzArMCswKzArMCswKzArMCswKzArMCswKzArMCswKzArMCswKzArMCjbP8QPFyqa8aAAAAABJRU5ErkJggg==",
        "encoding": "base64",
        "path": [
         "value"
        ]
       }
      ],
      "model_module": "@jupyter-widgets/controls",
      "model_module_version": "1.5.0",
      "model_name": "ImageModel",
      "state": {
       "_dom_classes": [],
       "_model_module": "@jupyter-widgets/controls",
       "_model_module_version": "1.5.0",
       "_model_name": "ImageModel",
       "_view_count": null,
       "_view_module": "@jupyter-widgets/controls",
       "_view_module_version": "1.5.0",
       "_view_name": "ImageView",
       "format": "png",
       "height": "100",
       "layout": "IPY_MODEL_891a3c59ae564d06aae719c7c178d152",
       "width": "100"
      }
     },
     "02f7b22979154680802be402d3aa4f50": {
      "model_module": "@jupyter-widgets/base",
      "model_module_version": "1.2.0",
      "model_name": "LayoutModel",
      "state": {
       "_model_module": "@jupyter-widgets/base",
       "_model_module_version": "1.2.0",
       "_model_name": "LayoutModel",
       "_view_count": null,
       "_view_module": "@jupyter-widgets/base",
       "_view_module_version": "1.2.0",
       "_view_name": "LayoutView",
       "align_content": null,
       "align_items": null,
       "align_self": null,
       "border": null,
       "bottom": null,
       "display": null,
       "flex": null,
       "flex_flow": null,
       "grid_area": null,
       "grid_auto_columns": null,
       "grid_auto_flow": null,
       "grid_auto_rows": null,
       "grid_column": null,
       "grid_gap": null,
       "grid_row": null,
       "grid_template_areas": null,
       "grid_template_columns": null,
       "grid_template_rows": null,
       "height": null,
       "justify_content": null,
       "justify_items": null,
       "left": null,
       "margin": null,
       "max_height": null,
       "max_width": null,
       "min_height": null,
       "min_width": null,
       "object_fit": null,
       "object_position": null,
       "order": null,
       "overflow": null,
       "overflow_x": null,
       "overflow_y": null,
       "padding": null,
       "right": null,
       "top": null,
       "visibility": null,
       "width": null
      }
     },
     "04f632b59e1945eeaa7470c2d63a1ece": {
      "model_module": "@jupyter-widgets/base",
      "model_module_version": "1.2.0",
      "model_name": "LayoutModel",
      "state": {
       "_model_module": "@jupyter-widgets/base",
       "_model_module_version": "1.2.0",
       "_model_name": "LayoutModel",
       "_view_count": null,
       "_view_module": "@jupyter-widgets/base",
       "_view_module_version": "1.2.0",
       "_view_name": "LayoutView",
       "align_content": null,
       "align_items": null,
       "align_self": null,
       "border": null,
       "bottom": null,
       "display": null,
       "flex": null,
       "flex_flow": null,
       "grid_area": null,
       "grid_auto_columns": null,
       "grid_auto_flow": null,
       "grid_auto_rows": null,
       "grid_column": null,
       "grid_gap": null,
       "grid_row": null,
       "grid_template_areas": null,
       "grid_template_columns": null,
       "grid_template_rows": null,
       "height": null,
       "justify_content": null,
       "justify_items": null,
       "left": null,
       "margin": null,
       "max_height": null,
       "max_width": null,
       "min_height": null,
       "min_width": null,
       "object_fit": null,
       "object_position": null,
       "order": null,
       "overflow": null,
       "overflow_x": null,
       "overflow_y": null,
       "padding": null,
       "right": null,
       "top": null,
       "visibility": null,
       "width": null
      }
     },
     "08f4c9afddd44344b016331568b59083": {
      "model_module": "@jupyter-widgets/base",
      "model_module_version": "1.2.0",
      "model_name": "LayoutModel",
      "state": {
       "_model_module": "@jupyter-widgets/base",
       "_model_module_version": "1.2.0",
       "_model_name": "LayoutModel",
       "_view_count": null,
       "_view_module": "@jupyter-widgets/base",
       "_view_module_version": "1.2.0",
       "_view_name": "LayoutView",
       "align_content": null,
       "align_items": null,
       "align_self": null,
       "border": null,
       "bottom": null,
       "display": null,
       "flex": null,
       "flex_flow": null,
       "grid_area": null,
       "grid_auto_columns": null,
       "grid_auto_flow": null,
       "grid_auto_rows": null,
       "grid_column": null,
       "grid_gap": null,
       "grid_row": null,
       "grid_template_areas": null,
       "grid_template_columns": null,
       "grid_template_rows": null,
       "height": null,
       "justify_content": null,
       "justify_items": null,
       "left": null,
       "margin": null,
       "max_height": null,
       "max_width": null,
       "min_height": null,
       "min_width": null,
       "object_fit": null,
       "object_position": null,
       "order": null,
       "overflow": null,
       "overflow_x": null,
       "overflow_y": null,
       "padding": null,
       "right": null,
       "top": null,
       "visibility": null,
       "width": null
      }
     },
     "0c9b180627e948b0b6d521a76c8c5d9a": {
      "model_module": "@jupyter-widgets/base",
      "model_module_version": "1.2.0",
      "model_name": "LayoutModel",
      "state": {
       "_model_module": "@jupyter-widgets/base",
       "_model_module_version": "1.2.0",
       "_model_name": "LayoutModel",
       "_view_count": null,
       "_view_module": "@jupyter-widgets/base",
       "_view_module_version": "1.2.0",
       "_view_name": "LayoutView",
       "align_content": null,
       "align_items": null,
       "align_self": null,
       "border": "1px solid black",
       "bottom": null,
       "display": null,
       "flex": null,
       "flex_flow": null,
       "grid_area": null,
       "grid_auto_columns": null,
       "grid_auto_flow": null,
       "grid_auto_rows": null,
       "grid_column": null,
       "grid_gap": null,
       "grid_row": null,
       "grid_template_areas": null,
       "grid_template_columns": null,
       "grid_template_rows": null,
       "height": null,
       "justify_content": null,
       "justify_items": null,
       "left": null,
       "margin": null,
       "max_height": null,
       "max_width": null,
       "min_height": null,
       "min_width": null,
       "object_fit": null,
       "object_position": null,
       "order": null,
       "overflow": null,
       "overflow_x": null,
       "overflow_y": null,
       "padding": null,
       "right": null,
       "top": null,
       "visibility": null,
       "width": null
      }
     },
     "0f0d0635cb424958925c9413ad64dc22": {
      "model_module": "@jupyter-widgets/output",
      "model_module_version": "1.0.0",
      "model_name": "OutputModel",
      "state": {
       "_dom_classes": [],
       "_model_module": "@jupyter-widgets/output",
       "_model_module_version": "1.0.0",
       "_model_name": "OutputModel",
       "_view_count": null,
       "_view_module": "@jupyter-widgets/output",
       "_view_module_version": "1.0.0",
       "_view_name": "OutputView",
       "layout": "IPY_MODEL_1ab749ed4e8f43038150f776aa25859e",
       "msg_id": "",
       "outputs": []
      }
     },
     "0f85c6ae5b5d462cbc8f3626758a00c9": {
      "model_module": "@jupyter-widgets/base",
      "model_module_version": "1.2.0",
      "model_name": "LayoutModel",
      "state": {
       "_model_module": "@jupyter-widgets/base",
       "_model_module_version": "1.2.0",
       "_model_name": "LayoutModel",
       "_view_count": null,
       "_view_module": "@jupyter-widgets/base",
       "_view_module_version": "1.2.0",
       "_view_name": "LayoutView",
       "align_content": "center",
       "align_items": "center",
       "align_self": null,
       "border": null,
       "bottom": null,
       "display": "flex",
       "flex": null,
       "flex_flow": null,
       "grid_area": null,
       "grid_auto_columns": null,
       "grid_auto_flow": null,
       "grid_auto_rows": null,
       "grid_column": null,
       "grid_gap": null,
       "grid_row": null,
       "grid_template_areas": null,
       "grid_template_columns": null,
       "grid_template_rows": null,
       "height": null,
       "justify_content": "center",
       "justify_items": null,
       "left": null,
       "margin": null,
       "max_height": null,
       "max_width": null,
       "min_height": null,
       "min_width": null,
       "object_fit": null,
       "object_position": null,
       "order": null,
       "overflow": "hidden",
       "overflow_x": null,
       "overflow_y": null,
       "padding": null,
       "right": null,
       "top": null,
       "visibility": null,
       "width": null
      }
     },
     "0fd80efe5c7942a4a64060d51f24e828": {
      "model_module": "@jupyter-widgets/controls",
      "model_module_version": "1.5.0",
      "model_name": "DescriptionStyleModel",
      "state": {
       "_model_module": "@jupyter-widgets/controls",
       "_model_module_version": "1.5.0",
       "_model_name": "DescriptionStyleModel",
       "_view_count": null,
       "_view_module": "@jupyter-widgets/base",
       "_view_module_version": "1.2.0",
       "_view_name": "StyleView",
       "description_width": ""
      }
     },
     "104294f160ec49b8a92131d098fc8845": {
      "model_module": "@jupyter-widgets/base",
      "model_module_version": "1.2.0",
      "model_name": "LayoutModel",
      "state": {
       "_model_module": "@jupyter-widgets/base",
       "_model_module_version": "1.2.0",
       "_model_name": "LayoutModel",
       "_view_count": null,
       "_view_module": "@jupyter-widgets/base",
       "_view_module_version": "1.2.0",
       "_view_name": "LayoutView",
       "align_content": null,
       "align_items": null,
       "align_self": null,
       "border": null,
       "bottom": null,
       "display": null,
       "flex": null,
       "flex_flow": null,
       "grid_area": null,
       "grid_auto_columns": null,
       "grid_auto_flow": null,
       "grid_auto_rows": null,
       "grid_column": null,
       "grid_gap": null,
       "grid_row": null,
       "grid_template_areas": null,
       "grid_template_columns": null,
       "grid_template_rows": null,
       "height": null,
       "justify_content": null,
       "justify_items": null,
       "left": null,
       "margin": null,
       "max_height": null,
       "max_width": null,
       "min_height": null,
       "min_width": null,
       "object_fit": null,
       "object_position": null,
       "order": null,
       "overflow": null,
       "overflow_x": null,
       "overflow_y": null,
       "padding": null,
       "right": null,
       "top": null,
       "visibility": null,
       "width": null
      }
     },
     "11d649afeca546da975225113d804d50": {
      "buffers": [
       {
        "data": "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",
        "encoding": "base64",
        "path": [
         "value"
        ]
       }
      ],
      "model_module": "@jupyter-widgets/controls",
      "model_module_version": "1.5.0",
      "model_name": "ImageModel",
      "state": {
       "_dom_classes": [],
       "_model_module": "@jupyter-widgets/controls",
       "_model_module_version": "1.5.0",
       "_model_name": "ImageModel",
       "_view_count": null,
       "_view_module": "@jupyter-widgets/controls",
       "_view_module_version": "1.5.0",
       "_view_name": "ImageView",
       "format": "png",
       "height": "",
       "layout": "IPY_MODEL_ce6f6ff8bbc34cc6ad4f77d4da9831e0",
       "width": ""
      }
     },
     "13b71544ef97414dadd0162d50ab6756": {
      "model_module": "ipycanvas",
      "model_module_version": "^0.10.2",
      "model_name": "CanvasModel",
      "state": {
       "_dom_classes": [],
       "_model_module": "ipycanvas",
       "_model_module_version": "^0.10.2",
       "_model_name": "CanvasModel",
       "_send_client_ready_event": true,
       "_view_count": null,
       "_view_module": "ipycanvas",
       "_view_module_version": "^0.10.2",
       "_view_name": "CanvasView",
       "height": 300,
       "image_data": null,
       "layout": "IPY_MODEL_a9a203f7988c40c6b94a26c74026fb36",
       "sync_image_data": false,
       "width": 300
      }
     },
     "152df40a694943f4858c9063453e99a2": {
      "model_module": "@jupyter-widgets/controls",
      "model_module_version": "1.5.0",
      "model_name": "VBoxModel",
      "state": {
       "_dom_classes": [],
       "_model_module": "@jupyter-widgets/controls",
       "_model_module_version": "1.5.0",
       "_model_name": "VBoxModel",
       "_view_count": null,
       "_view_module": "@jupyter-widgets/controls",
       "_view_module_version": "1.5.0",
       "_view_name": "VBoxView",
       "box_style": "",
       "children": [
        "IPY_MODEL_3901119aca9145c38851fe8acf9591ba",
        "IPY_MODEL_df8e2811f9d045fea712235fc93d5b9d"
       ],
       "layout": "IPY_MODEL_8c65bd181974492597b4d7ee58fe247b"
      }
     },
     "15b53861b95e4fd883fe816f89cf76ad": {
      "model_module": "@jupyter-widgets/controls",
      "model_module_version": "1.5.0",
      "model_name": "HBoxModel",
      "state": {
       "_dom_classes": [],
       "_model_module": "@jupyter-widgets/controls",
       "_model_module_version": "1.5.0",
       "_model_name": "HBoxModel",
       "_view_count": null,
       "_view_module": "@jupyter-widgets/controls",
       "_view_module_version": "1.5.0",
       "_view_name": "HBoxView",
       "box_style": "",
       "children": [
        "IPY_MODEL_ce15a438da394db6bc507aa9120f14ec"
       ],
       "layout": "IPY_MODEL_733390d5c15e4cb5b8fc244c3c87176b"
      }
     },
     "15fabc2e7f0e4ff185d34c301e739e02": {
      "model_module": "ipycanvas",
      "model_module_version": "^0.10.2",
      "model_name": "CanvasModel",
      "state": {
       "_dom_classes": [],
       "_model_module": "ipycanvas",
       "_model_module_version": "^0.10.2",
       "_model_name": "CanvasModel",
       "_send_client_ready_event": true,
       "_view_count": null,
       "_view_module": "ipycanvas",
       "_view_module_version": "^0.10.2",
       "_view_name": "CanvasView",
       "height": 200,
       "image_data": null,
       "layout": "IPY_MODEL_d37ec120a0b64a4a876e81f2e0ea11ca",
       "sync_image_data": false,
       "width": 200
      }
     },
     "187a240037ef4092a52f60a8da25441c": {
      "buffers": [
       {
        "data": "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",
        "encoding": "base64",
        "path": [
         "value"
        ]
       }
      ],
      "model_module": "@jupyter-widgets/controls",
      "model_module_version": "1.5.0",
      "model_name": "ImageModel",
      "state": {
       "_dom_classes": [],
       "_model_module": "@jupyter-widgets/controls",
       "_model_module_version": "1.5.0",
       "_model_name": "ImageModel",
       "_view_count": null,
       "_view_module": "@jupyter-widgets/controls",
       "_view_module_version": "1.5.0",
       "_view_name": "ImageView",
       "format": "png",
       "height": "60.0",
       "layout": "IPY_MODEL_e523853796b648bfabafad065acb31d6",
       "width": "60.0"
      }
     },
     "1a8c33def95a4b94aeaaa51db2b1c3cd": {
      "model_module": "ipycanvas",
      "model_module_version": "^0.10.2",
      "model_name": "CanvasModel",
      "state": {
       "_dom_classes": [],
       "_model_module": "ipycanvas",
       "_model_module_version": "^0.10.2",
       "_model_name": "CanvasModel",
       "_send_client_ready_event": true,
       "_view_count": null,
       "_view_module": "ipycanvas",
       "_view_module_version": "^0.10.2",
       "_view_name": "CanvasView",
       "height": 300,
       "image_data": null,
       "layout": "IPY_MODEL_e15d30bf66374fe5b46c523adebbd5a6",
       "sync_image_data": false,
       "width": 300
      }
     },
     "1ab749ed4e8f43038150f776aa25859e": {
      "model_module": "@jupyter-widgets/base",
      "model_module_version": "1.2.0",
      "model_name": "LayoutModel",
      "state": {
       "_model_module": "@jupyter-widgets/base",
       "_model_module_version": "1.2.0",
       "_model_name": "LayoutModel",
       "_view_count": null,
       "_view_module": "@jupyter-widgets/base",
       "_view_module_version": "1.2.0",
       "_view_name": "LayoutView",
       "align_content": null,
       "align_items": null,
       "align_self": null,
       "border": "1px solid black",
       "bottom": null,
       "display": null,
       "flex": null,
       "flex_flow": null,
       "grid_area": null,
       "grid_auto_columns": null,
       "grid_auto_flow": null,
       "grid_auto_rows": null,
       "grid_column": null,
       "grid_gap": null,
       "grid_row": null,
       "grid_template_areas": null,
       "grid_template_columns": null,
       "grid_template_rows": null,
       "height": null,
       "justify_content": null,
       "justify_items": null,
       "left": null,
       "margin": null,
       "max_height": null,
       "max_width": null,
       "min_height": null,
       "min_width": null,
       "object_fit": null,
       "object_position": null,
       "order": null,
       "overflow": null,
       "overflow_x": null,
       "overflow_y": null,
       "padding": null,
       "right": null,
       "top": null,
       "visibility": null,
       "width": null
      }
     },
     "22b56b79da2349eb915530af35230e39": {
      "buffers": [
       {
        "data": "iVBORw0KGgoAAAANSUhEUgAAAGQAAABkCAIAAAD/gAIDAAAA6ElEQVR4nO3QwQ3AIBDAsNL9dz5WIC+EZE8QZc3Mx5n/dsBLzArMCswKzArMCswKzArMCswKzArMCswKzArMCswKzArMCswKzArMCswKzArMCswKzArMCswKzArMCswKzArMCswKzArMCswKzArMCswKzArMCswKzArMCswKzArMCswKzArMCswKzArMCswKzArMCswKzArMCswKzArMCswKzArMCswKzArMCswKzArMCswKzArMCswKzArMCswKzArMCswKzArMCswKzArMCswKzArMCswKzArMCswKzArMCswKzArMCjbP8QPFyqa8aAAAAABJRU5ErkJggg==",
        "encoding": "base64",
        "path": [
         "value"
        ]
       }
      ],
      "model_module": "@jupyter-widgets/controls",
      "model_module_version": "1.5.0",
      "model_name": "ImageModel",
      "state": {
       "_dom_classes": [],
       "_model_module": "@jupyter-widgets/controls",
       "_model_module_version": "1.5.0",
       "_model_name": "ImageModel",
       "_view_count": null,
       "_view_module": "@jupyter-widgets/controls",
       "_view_module_version": "1.5.0",
       "_view_name": "ImageView",
       "format": "png",
       "height": "100",
       "layout": "IPY_MODEL_efeb6be0a45041309de4f837ef0e378d",
       "width": "100"
      }
     },
     "28ae50607f974944a4fafc2f062270cf": {
      "buffers": [
       {
        "data": "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",
        "encoding": "base64",
        "path": [
         "value"
        ]
       }
      ],
      "model_module": "@jupyter-widgets/controls",
      "model_module_version": "1.5.0",
      "model_name": "ImageModel",
      "state": {
       "_dom_classes": [],
       "_model_module": "@jupyter-widgets/controls",
       "_model_module_version": "1.5.0",
       "_model_name": "ImageModel",
       "_view_count": null,
       "_view_module": "@jupyter-widgets/controls",
       "_view_module_version": "1.5.0",
       "_view_name": "ImageView",
       "format": "png",
       "height": "60",
       "layout": "IPY_MODEL_08f4c9afddd44344b016331568b59083",
       "width": "30"
      }
     },
     "2b3f001c6dab43609d5f0dd4ad3cc1c7": {
      "model_module": "@jupyter-widgets/base",
      "model_module_version": "1.2.0",
      "model_name": "LayoutModel",
      "state": {
       "_model_module": "@jupyter-widgets/base",
       "_model_module_version": "1.2.0",
       "_model_name": "LayoutModel",
       "_view_count": null,
       "_view_module": "@jupyter-widgets/base",
       "_view_module_version": "1.2.0",
       "_view_name": "LayoutView",
       "align_content": null,
       "align_items": null,
       "align_self": null,
       "border": null,
       "bottom": null,
       "display": null,
       "flex": null,
       "flex_flow": null,
       "grid_area": null,
       "grid_auto_columns": null,
       "grid_auto_flow": null,
       "grid_auto_rows": null,
       "grid_column": null,
       "grid_gap": null,
       "grid_row": null,
       "grid_template_areas": null,
       "grid_template_columns": null,
       "grid_template_rows": null,
       "height": null,
       "justify_content": null,
       "justify_items": null,
       "left": null,
       "margin": null,
       "max_height": null,
       "max_width": null,
       "min_height": null,
       "min_width": null,
       "object_fit": null,
       "object_position": null,
       "order": null,
       "overflow": null,
       "overflow_x": null,
       "overflow_y": null,
       "padding": null,
       "right": null,
       "top": null,
       "visibility": null,
       "width": null
      }
     },
     "30171ed240ff453b8ac3f2228a89262f": {
      "model_module": "@jupyter-widgets/controls",
      "model_module_version": "1.5.0",
      "model_name": "HBoxModel",
      "state": {
       "_dom_classes": [],
       "_model_module": "@jupyter-widgets/controls",
       "_model_module_version": "1.5.0",
       "_model_name": "HBoxModel",
       "_view_count": null,
       "_view_module": "@jupyter-widgets/controls",
       "_view_module_version": "1.5.0",
       "_view_name": "HBoxView",
       "box_style": "",
       "children": [
        "IPY_MODEL_cbd71f45dd4a4c48b2a9ef27ae601ce9"
       ],
       "layout": "IPY_MODEL_2b3f001c6dab43609d5f0dd4ad3cc1c7"
      }
     },
     "336846e88b254a5ea8598c40befa9079": {
      "model_module": "ipycanvas",
      "model_module_version": "^0.10.2",
      "model_name": "CanvasModel",
      "state": {
       "_dom_classes": [],
       "_model_module": "ipycanvas",
       "_model_module_version": "^0.10.2",
       "_model_name": "CanvasModel",
       "_send_client_ready_event": true,
       "_view_count": null,
       "_view_module": "ipycanvas",
       "_view_module_version": "^0.10.2",
       "_view_name": "CanvasView",
       "height": 20,
       "image_data": null,
       "layout": "IPY_MODEL_104294f160ec49b8a92131d098fc8845",
       "sync_image_data": false,
       "width": 300
      }
     },
     "3559dec457e34d12b1d35baadcc82c2f": {
      "model_module": "@jupyter-widgets/base",
      "model_module_version": "1.2.0",
      "model_name": "LayoutModel",
      "state": {
       "_model_module": "@jupyter-widgets/base",
       "_model_module_version": "1.2.0",
       "_model_name": "LayoutModel",
       "_view_count": null,
       "_view_module": "@jupyter-widgets/base",
       "_view_module_version": "1.2.0",
       "_view_name": "LayoutView",
       "align_content": null,
       "align_items": null,
       "align_self": null,
       "border": null,
       "bottom": null,
       "display": null,
       "flex": null,
       "flex_flow": null,
       "grid_area": null,
       "grid_auto_columns": null,
       "grid_auto_flow": null,
       "grid_auto_rows": null,
       "grid_column": null,
       "grid_gap": null,
       "grid_row": null,
       "grid_template_areas": null,
       "grid_template_columns": null,
       "grid_template_rows": null,
       "height": null,
       "justify_content": null,
       "justify_items": null,
       "left": null,
       "margin": null,
       "max_height": null,
       "max_width": null,
       "min_height": null,
       "min_width": null,
       "object_fit": null,
       "object_position": null,
       "order": null,
       "overflow": null,
       "overflow_x": null,
       "overflow_y": null,
       "padding": null,
       "right": null,
       "top": null,
       "visibility": null,
       "width": null
      }
     },
     "35baebeda8a84f728ee53bd0a96b36f6": {
      "buffers": [
       {
        "data": "iVBORw0KGgoAAAANSUhEUgAAAoAAAAGQCAYAAAA+89ElAAAABmJLR0QAkwDPAIwRGPjJAAAACXBIWXMAAAsTAAALEwEAmpwYAAAAB3RJTUUH4wwVFQcifv8/mAAAAB1pVFh0Q29tbWVudAAAAAAAQ3JlYXRlZCB3aXRoIEdJTVBkLmUHAAARcElEQVR42u3de5TWdYHH8c8zDLdRuSggIkIqigJaXgjDG6mZQpq43vJaXirPUfPs8VLbZautbdtsN6uzbi1q5qpZXlY9bkapQYIgomheAAEFRUDYhoszwMwwz/4x8ADCjKAz8oCv1x+e38zz+/2e5/s9cs57fren8LNnbygGAIAPjQpTAAAgAAEAEIAAAAhAAAAEIAAAAhAAAAEIAIAABABAAAIAIAABABCAAAAIQAAABCAAAAIQAEAAAgAgAAEAEIAAAAhAAAAEIAAAAhAAAAEIAIAABABAAAIAIAABABCAAAAIQAAABCAAAAIQAEAAAgAgAAEAEIAAAAhAAAAEIAAAAhAAAAEIAIAABABAAAIAIAABABCAAAAIQAAABCAAgAAEAEAAAgAgAAEAEIAAAAhAAAAEIAAAAhAAAAEIAIAABABAAAIAIAABABCAAAAIQAAABCAAgAAEAEAAAgAgAAEAEIAAAAhAAAAEIAAAAhAAAAEIAIAABABAAAIAIAABABCAAAAIQAAAAQgAgAAEAEAAAgAgAAEAEIAAAAhAAAAEIAAAAhAAAAEIAIAABABAAAIAIAABABCAAAAIQAAAAQgAgAAEAEAAAgAgAAEAEIAAAAhAAAAEIAAAAhAAAAEIAIAABABAAAIAIAABABCAAAAIQAAAAUhbKBaLSYomAgAQgAAACEAAAAQgAACtpdIUtK5iYzEpJIVCUkxh7WV/rv0DAATgjhl/xWIKFYXSz4W1/9GAAIAA3GEDsLD2yF9x4+ArJIVCQQUCAAJwR1OoKKZYbDoC2BR868KwuPZwIADAtucmkNYMwLXnejeMv3Ux6NgfACAAP3RxKAEBAAG4wymuveuj+I7YazoF7BwwAFAeXAPYmgHYWEhFRdOtHhtFoPYDAATgjqlQKCYppJDCRtG3LggdBAQABOAOF4CFFBvXhV4hKRQ9AxAAEIA7fARWbHiYr1B6GDQAQLlwEwgAgAAEAEAAAgAgAAEAEIAAAAhAAAAEIAAAAhAAAAEIAIAABABAAAIAIAABABCAAAAIQAAAAQgAgAAEAEAAAgAgAAEAEIAAAAhAAAAEIAAAAhAAAAEIAIAABABAAAIAIAABABCAAAAIQAAAAQgAwA6u0hTwQZn1zJxMfeTZzJo6J8veWpaGhjXp1qtrevXvmSHHDMrBIwanS48uW7XPYrGYGy+9KbOfmVP63eU/vzSDjjxgi7ad+si0TPnfqZk/483ULK1JVdeq7DGgdw4/6ZB8/DOHp6Ldtv0bqVzGtz3MFQACkDKy4m8r8pvv3ZvnH39hk9cWz1uSxfOW5MW/vJxJD0zJNbdftVX7nnDPkxvF0ZaqWVabm6+5La88PXuj3y9fsiLLl6zIjEmv5Il7JuWyH1+Urr26brO5K4fxbS9zBcCW8yc7bWrZ4uW58ZL/2Gz8vV9L31qWB258OElS1aXzFm/XUN+QX159yyZB805zX5iXm64ck9W1q7fJ3JXD+LaXuQJg6zgCSJtpbGzMmGtuy6LXFpd+d9hJH8snRg9L3/37pNPOnVKztCbzZy7IX8e9mGWLl2/V/u/+/r1ZVbM6g448IJ126phnxj63RduNv3tC5kx7rfTzsZ87KkefNTy79tk1yxYvy5P3P5U/3vpYio3FzJ+5IGNveSynXHHyBz5/5TC+7WWuANg6jgDSZv5y98S89vzcJEmhUMiF3z83n//B+Rn48f2yU7ed0q6yXbr06JIDhw/MWV87PZf92+e3eN9T/zAtL4x/KR2rOuacb5yxxdutqV+TsTc/Wvr51KtG5ozrTsvuH+mV9h0q02PP3XLKFSdvtM/H7xiflStWfqBzVw7j217mCgABSJlobGzMo7ePK/183AXHZujIQ1tl3zVLa3LPD/8nSXLa1aPSvXe3Ld52xlOvpGZpbZKkR9/dcvxFIza73vDRw9Jv8F5JkvpV9XnhLy9/YHNXLuPbHuYKAAFIGZk5eVaqF1QnSdp3ap9PX3ZCq+373hsezNvVb2fAYfvkyDM+sVXbvjRxeml56KjDUlHR/D+BYaccXlp+ecL0jV6bPe3VfOXw63LlIdfkWyd/LzVLa5rdz+J5S3LtUV/PlYdck2uP+noWz1tS9uNr7X0BIAD5EJi1wZ2rB48YnM47d2qV/b48cUamPDw17TtW5txvnZVCobBV2y+YtbC0POCwfVpcd7/D9y0tv7nBdkmy78f2zqlXjUySVC9cmtu+fmeKxeIm+6hbVZ+br70tq2qabo4479tnp2e/HmU/vtbeFwDlxU0gtIl5L72+Ph4ObYqHlyZMz+P/PT6vT38jq2vrsstuu2Tvg/pl6GcOy5CjB73rPlevXJ27vndPkmTU5Se1GFLNeWvu+htSevXv2eK6Pfv1SKFQSLFYzFvzFm/y+vEXjsicaa/l+cdfyMsTZ+SR//pTTv7ipzZa57c/uC/zZy5Ikow49+h87ISDt5vxtea+ACgvjgDSJpYvWX9Hb5/9+uS+Gx7MTVeMyfRJM1OztDYNdQ2pXlCdZ8Y+l19cdUtuumJMat/l5oGHfvb7VC+oTr/Be+WT5x/znj7XyhWrSstdeuzS8l9H7StT1bXp8Sv1q+qzpn7NJuuc/52z06PvbkmS3//n2MyY/ErptUkPTsnkB6ckST5ycP+cdvVntqvxtfZcASAA2cHVbhAP0/70fB6/Y3yL6780YXp+efWtzYbDq8/PzfjfTEhFZUXO+8ez3vO3TtStrFsbLO1avKZtnQ6dOpSWV6/c9Bl3nXfpnEtuuDCVHSpTLBbzq6/dkWVvLcv8mW/mt/98b5Jkp25VufhfL0i79u2afZ9yHF9rzxUA5cMpYNpEsbGxtDzuN0+kUCjkmHOOzPDRw9KzX480rmnM69Pn59Hb/pwXxr+UJJn9zJxMuG9Sjjn7yI321VDfkDu/89sUi8WcdMkJ6bPfHh/cODZzXd879R24Z868fnTu+qff5e3qt3PLdbdnRfXbqV/dkEKhkIu+f1667978nbzlPr5tsS8A2pYjgLSJTjutv+mjcU1jzvnmGTnjutPSZ7890r5j+3Ss6pgBh+6TL914cYaPHlZa94nfPbnJvv4w5tEsnLMoe+zbOydecvz7+lwdOndYG11r0rhBpDanfnV9ablj547Nrjf89GH5+No7Yec891rpTt9PX3ZCDhw+sMX3KNfxtdVcASAA2UF13mV9APbeZ/eNIu+dPnv1qFRUNv2vuGD2wtQury29tmD2wvzxlsdSqCjk3G+flcr2la32uZYvWdHiug31Dald1nRdYvtO7Vs8hZskZ3/t9I2+sm3vj/bPyV/6VIvblPP42nKuANi2nAKmTfTq3yuvPtf0LSD9h/Rrcd2qLlXZvX+vLJi9sBQbVV2qkiRTHp6aNQ1N1wX++IKfbtF733TFmPVR9g+n56gzh2/wuXpm6aJlSZrucu3Wq2uz+1k8b0nptGavfj3f9X0n3jc5tctXbhB3i/K3N6tLN4lsTjmPry3nCoBtyxFA2sSe+7+P69g2ePZda19WtseA3qXlWVPntLjuK0/PLi332WC7zXntr3Nz/08eSpJ0WvvMw1Vvr8rN1/469XUNzW5XzuNrq7kCQACygxp81IEbxVFLapfXZtHct0o/d32XR468Hwd+Yv31eFMentritW2TH3q6tHxAC9fx1SyrzS3X3Z7GhsZUtKvIl396SY78uyOSJG9Mn597f/TABzbvrTm+tpgrAMqDU8C0iV79e6bvwD55Y8abWfTqW5l4/+RmrwN84CcPp7GhKS72OrBvOu+y/jq6z35lVD77lVHv+n63Xn97nhn7XJLk8p9fmkFHHrDZ9QYO2y9VXatSu6w2S974vzx625/zqS8ct8l6E++fnHkvNj3Mun3Hygw5ZvMPqi4Wi/n1N+5M9cKlSZJTrxyZfQ/ZO/0G75W5L76eN6bPz4R7nsyAQ/fJ4Scfssn25Ty+1p4rAMpHu5FfPvHbpoG20H33bnn6988mSV4c/3JqltemW6+u6bRL5zTU1WfuC6/ndz+8P1MfmVba5tSrRqbvwD5b/V7T/vR8FsxelCQZOvLQZr9Fo6JdRSoqCpk+aWaSZMbkV1K7vDa77blrOlZ1TPXC6jx2+/g8cOPDydrTs8dfNKLZbyoZe/NjmXDvpCTJQSMG58zrRzf9w2pXkQOO2D9PPfR0Guoa8vLEGfnocQdl5+47vae53Bbja+25AqB8OAJImxl89IEZdurQTH5wSorFYsbd+UTG3flEs+sPOXZQho46tM0/1zHnHJXnHvtr6SaVcXc9kXF3bf5z7TGgd068+LjNvvbK07Py8E2PJEl267Nrzv/uORu93qPvbjnvu+dkzN//KnUr63LLtb/ONbdfVXq8SrmPr7X3BUD5cA0gbepz3zwjw08/4l3XGzry0HzhXy7Yom+ceL/ad6jMF//94gw4bJ8W19trUN9c/vNLN3qm4TrLlyzPrV+9I8XGYirbt8vFP7owVRucul7no58ckuMuODZJ0yNf7v7BfdvF+NpiXwCUD6eAadu/MCoqctCxgzLwiP1SLCara1anvq4h7SrbZdc9uuegEUNy5ldH55PnHZN2le/92XFbeop0nQ6dO2TYKYenZ7+eqVtVl7qVdWmoW5Odu++cjxzULydecnzOvH506XE0G2pc05hfXH1rFq59bM0Z14/OwSMGN/te+w8dkJlPzUr1oqWZP/PNdO/dLXsdsGfZjq8t9wVAeSj87NkbfH8TAMCHiFPAAAACEAAAAQgAgAAEAEAAAgAgAAEAEIAAAAhAAAAEIAAAAhAAAAEIAIAABABAAAIAIAABAAQgAAACEAAAAQgAgAAEAEAAAgAgAAEAEIAAAAhAAAAEIAAAAhAAAAEIAIAABABAAAIAIAABAAQgAAACEAAAAQgAgAAEAEAAAgAgAAEAEIAAAAhAAAAEIAAAAhAAAAEIAIAABABAAAIACEAAAAQgAAACEAAAAQgAgAAEAEAAAgAgAAEAEIAAAAhAAAAEIAAAAhAAAAEIAIAABABAAAIACEAAAAQgAAACEAAAAQgAgAAEAEAAAgAgAAEAEIAAAAhAAAAEIAAAAhAAAAEIAIAABAAQgAAACEAAAAQgAAACEAAAAQgAgAAEAEAAAgAgAAEAEIAAAAhAAAAEIAAAAhAAAAEIAIAABAAQgAAACEAAAAQgAAACEAAAAQgAgAAEAEAAAgAgAAEAEIAAAAhAAAAEIAAAAhAAAAEIAIAABAAQgAAACEAAAAQgAAACEAAAAQgAgAAEAEAAAgAgAAEAEIAAAAhAAAAEIAAAAhAAAAEIACAAAQAQgAAACEAAAAQgAAACEAAAAQgAgAAEAEAAAgAgAAEAEIAAAAhAAAAEIAAAAhAAAAEIACAAAQAQgAAACEAAAAQgAAACEAAAAQgAgAAEAEAAAgAgAAEAEIAAAAhAAAAEIAAAAhAAQAACACAAAQAQgAAACEAAAAQgAAACEAAAAQgAgAAEAEAAAgAgAAEAEIAAAAhAAAAEIAAAAhAAQAACACAAAQAQgAAACEAAAAQgAAACEAAAAQgAgAAEAEAAAgAgAAEAEIAAAAhAAAAEIACAADQFAAACEAAAAQgAgAAEAEAAAgAgAAEAEIAAAAhAAAAEIAAAAhAAAAEIAIAABABAAAIAIAABAAQgAAACEAAAAQgAgAAEAEAAAgAgAAEAEIAAAAhAAAAEIAAAAhAAAAEIAIAABABAAAIAIAABAAQgAAACEAAAAQgAgAAEAEAAAgAgAAEAEIAAAAhAAAAEIAAAAhAAAAEIAIAABABAAAIACEAAAAQgAAACEAAAAQgAgAAEAEAAAgAgAAEAEIAAAAhAAAAEIAAAAhAAAAEIAIAABABAAAIACEAAAAQgAAACEAAAAQgAgAAEAEAAAgAgAAEAEIAAAAhAAAAEIAAAAhAAAAEIAIAABAAQgAAACEAAAAQgAAACEAAAAQgAQLn7f27d+Z2nVuXvAAAAAElFTkSuQmCC",
        "encoding": "base64",
        "path": [
         "value"
        ]
       }
      ],
      "model_module": "@jupyter-widgets/controls",
      "model_module_version": "1.5.0",
      "model_name": "ImageModel",
      "state": {
       "_dom_classes": [],
       "_model_module": "@jupyter-widgets/controls",
       "_model_module_version": "1.5.0",
       "_model_name": "ImageModel",
       "_view_count": null,
       "_view_module": "@jupyter-widgets/controls",
       "_view_module_version": "1.5.0",
       "_view_name": "ImageView",
       "format": "png",
       "height": "",
       "layout": "IPY_MODEL_d75f852a71554fd59e41f4399027cef4",
       "width": ""
      }
     },
     "35ff01a7d2304346a1e615e20a3c48f0": {
      "buffers": [
       {
        "data": "iVBORw0KGgoAAAANSUhEUgAAAGQAAABkCAIAAAD/gAIDAAAA6ElEQVR4nO3QwQ3AIBDAsNL9dz5WIC+EZE8QZc3Mx5n/dsBLzArMCswKzArMCswKzArMCswKzArMCswKzArMCswKzArMCswKzArMCswKzArMCswKzArMCswKzArMCswKzArMCswKzArMCswKzArMCswKzArMCswKzArMCswKzArMCswKzArMCswKzArMCswKzArMCswKzArMCswKzArMCswKzArMCswKzArMCswKzArMCswKzArMCswKzArMCswKzArMCswKzArMCswKzArMCswKzArMCswKzArMCswKzArMCswKzArMCjbP8QPFyqa8aAAAAABJRU5ErkJggg==",
        "encoding": "base64",
        "path": [
         "value"
        ]
       }
      ],
      "model_module": "@jupyter-widgets/controls",
      "model_module_version": "1.5.0",
      "model_name": "ImageModel",
      "state": {
       "_dom_classes": [],
       "_model_module": "@jupyter-widgets/controls",
       "_model_module_version": "1.5.0",
       "_model_name": "ImageModel",
       "_view_count": null,
       "_view_module": "@jupyter-widgets/controls",
       "_view_module_version": "1.5.0",
       "_view_name": "ImageView",
       "format": "png",
       "height": "200",
       "layout": "IPY_MODEL_a5ee030a1f074329b21b39d44b61904c",
       "width": "200"
      }
     },
     "3901119aca9145c38851fe8acf9591ba": {
      "buffers": [
       {
        "data": "iVBORw0KGgoAAAANSUhEUgAAAGQAAABkCAIAAAD/gAIDAAAA6ElEQVR4nO3QwQ3AIBDAsNL9dz5WIC+EZE8QZc3Mx5n/dsBLzArMCswKzArMCswKzArMCswKzArMCswKzArMCswKzArMCswKzArMCswKzArMCswKzArMCswKzArMCswKzArMCswKzArMCswKzArMCswKzArMCswKzArMCswKzArMCswKzArMCswKzArMCswKzArMCswKzArMCswKzArMCswKzArMCswKzArMCswKzArMCswKzArMCswKzArMCswKzArMCswKzArMCswKzArMCswKzArMCswKzArMCswKzArMCswKzArMCjbP8QPFyqa8aAAAAABJRU5ErkJggg==",
        "encoding": "base64",
        "path": [
         "value"
        ]
       }
      ],
      "model_module": "@jupyter-widgets/controls",
      "model_module_version": "1.5.0",
      "model_name": "ImageModel",
      "state": {
       "_dom_classes": [],
       "_model_module": "@jupyter-widgets/controls",
       "_model_module_version": "1.5.0",
       "_model_name": "ImageModel",
       "_view_count": null,
       "_view_module": "@jupyter-widgets/controls",
       "_view_module_version": "1.5.0",
       "_view_name": "ImageView",
       "format": "png",
       "height": "100",
       "layout": "IPY_MODEL_f1e450874f6b48858d57ed7d6c658d9b",
       "width": "100"
      }
     },
     "41e7bca7af9e4c7fb98fa19d9fed1a52": {
      "model_module": "@jupyter-widgets/base",
      "model_module_version": "1.2.0",
      "model_name": "LayoutModel",
      "state": {
       "_model_module": "@jupyter-widgets/base",
       "_model_module_version": "1.2.0",
       "_model_name": "LayoutModel",
       "_view_count": null,
       "_view_module": "@jupyter-widgets/base",
       "_view_module_version": "1.2.0",
       "_view_name": "LayoutView",
       "align_content": "center",
       "align_items": "center",
       "align_self": null,
       "border": null,
       "bottom": null,
       "display": "flex",
       "flex": null,
       "flex_flow": null,
       "grid_area": null,
       "grid_auto_columns": null,
       "grid_auto_flow": null,
       "grid_auto_rows": null,
       "grid_column": null,
       "grid_gap": null,
       "grid_row": null,
       "grid_template_areas": null,
       "grid_template_columns": null,
       "grid_template_rows": null,
       "height": null,
       "justify_content": "center",
       "justify_items": null,
       "left": null,
       "margin": null,
       "max_height": null,
       "max_width": null,
       "min_height": null,
       "min_width": null,
       "object_fit": null,
       "object_position": null,
       "order": null,
       "overflow": "hidden",
       "overflow_x": null,
       "overflow_y": null,
       "padding": null,
       "right": null,
       "top": null,
       "visibility": null,
       "width": null
      }
     },
     "426fc12dbee54c8e8dd8d1b433192a5d": {
      "model_module": "@jupyter-widgets/output",
      "model_module_version": "1.0.0",
      "model_name": "OutputModel",
      "state": {
       "_dom_classes": [],
       "_model_module": "@jupyter-widgets/output",
       "_model_module_version": "1.0.0",
       "_model_name": "OutputModel",
       "_view_count": null,
       "_view_module": "@jupyter-widgets/output",
       "_view_module_version": "1.0.0",
       "_view_name": "OutputView",
       "layout": "IPY_MODEL_890a59bc80a642268862e7f511eb52cc",
       "msg_id": "",
       "outputs": []
      }
     },
     "44b7ae5d79b1449796a2a196979311dc": {
      "model_module": "@jupyter-widgets/base",
      "model_module_version": "1.2.0",
      "model_name": "LayoutModel",
      "state": {
       "_model_module": "@jupyter-widgets/base",
       "_model_module_version": "1.2.0",
       "_model_name": "LayoutModel",
       "_view_count": null,
       "_view_module": "@jupyter-widgets/base",
       "_view_module_version": "1.2.0",
       "_view_name": "LayoutView",
       "align_content": null,
       "align_items": null,
       "align_self": null,
       "border": null,
       "bottom": null,
       "display": null,
       "flex": null,
       "flex_flow": null,
       "grid_area": null,
       "grid_auto_columns": null,
       "grid_auto_flow": null,
       "grid_auto_rows": null,
       "grid_column": null,
       "grid_gap": null,
       "grid_row": null,
       "grid_template_areas": null,
       "grid_template_columns": null,
       "grid_template_rows": null,
       "height": null,
       "justify_content": null,
       "justify_items": null,
       "left": null,
       "margin": null,
       "max_height": null,
       "max_width": null,
       "min_height": null,
       "min_width": null,
       "object_fit": null,
       "object_position": null,
       "order": null,
       "overflow": null,
       "overflow_x": null,
       "overflow_y": null,
       "padding": null,
       "right": null,
       "top": null,
       "visibility": null,
       "width": null
      }
     },
     "46145201285f450e840255ff22d0585e": {
      "model_module": "@jupyter-widgets/base",
      "model_module_version": "1.2.0",
      "model_name": "LayoutModel",
      "state": {
       "_model_module": "@jupyter-widgets/base",
       "_model_module_version": "1.2.0",
       "_model_name": "LayoutModel",
       "_view_count": null,
       "_view_module": "@jupyter-widgets/base",
       "_view_module_version": "1.2.0",
       "_view_name": "LayoutView",
       "align_content": null,
       "align_items": null,
       "align_self": null,
       "border": null,
       "bottom": null,
       "display": null,
       "flex": null,
       "flex_flow": null,
       "grid_area": null,
       "grid_auto_columns": null,
       "grid_auto_flow": null,
       "grid_auto_rows": null,
       "grid_column": null,
       "grid_gap": null,
       "grid_row": null,
       "grid_template_areas": null,
       "grid_template_columns": null,
       "grid_template_rows": null,
       "height": null,
       "justify_content": null,
       "justify_items": null,
       "left": null,
       "margin": null,
       "max_height": null,
       "max_width": null,
       "min_height": null,
       "min_width": null,
       "object_fit": null,
       "object_position": null,
       "order": null,
       "overflow": null,
       "overflow_x": null,
       "overflow_y": null,
       "padding": null,
       "right": null,
       "top": null,
       "visibility": null,
       "width": null
      }
     },
     "51de97dee2a6469db5f867151e20d65e": {
      "model_module": "@jupyter-widgets/base",
      "model_module_version": "1.2.0",
      "model_name": "LayoutModel",
      "state": {
       "_model_module": "@jupyter-widgets/base",
       "_model_module_version": "1.2.0",
       "_model_name": "LayoutModel",
       "_view_count": null,
       "_view_module": "@jupyter-widgets/base",
       "_view_module_version": "1.2.0",
       "_view_name": "LayoutView",
       "align_content": null,
       "align_items": null,
       "align_self": null,
       "border": null,
       "bottom": null,
       "display": null,
       "flex": null,
       "flex_flow": null,
       "grid_area": null,
       "grid_auto_columns": null,
       "grid_auto_flow": null,
       "grid_auto_rows": null,
       "grid_column": null,
       "grid_gap": null,
       "grid_row": null,
       "grid_template_areas": null,
       "grid_template_columns": null,
       "grid_template_rows": null,
       "height": null,
       "justify_content": null,
       "justify_items": null,
       "left": null,
       "margin": null,
       "max_height": null,
       "max_width": null,
       "min_height": null,
       "min_width": null,
       "object_fit": null,
       "object_position": null,
       "order": null,
       "overflow": null,
       "overflow_x": null,
       "overflow_y": null,
       "padding": null,
       "right": null,
       "top": null,
       "visibility": null,
       "width": null
      }
     },
     "543cc3b6834748b0b8bbac1c73e6f3b5": {
      "buffers": [
       {
        "data": "iVBORw0KGgoAAAANSUhEUgAAAZAAAAKACAYAAACygS7KAAAABmJLR0QA+gAAAAD7x/ODAAAACXBIWXMAAAsTAAALEwEAmpwYAAAAB3RJTUUH4wwVFQoYDV2YZwAAAB1pVFh0Q29tbWVudAAAAAAAQ3JlYXRlZCB3aXRoIEdJTVBkLmUHAAAM/ElEQVR42u3deYxt9wDA8W+rXhdqK6GCCEWkBBX7klhqb0kTihKC2tqilqgilsSzJA0hdq02gsazpLaoSKNaSysiNEURpEJL01ZspdVXf5wz5rwx8+7MvJn33rSfTzLJmZlzfnfeL/PO997fvefOHlfXdQHACu1pCgAQEAAEBAABAUBAAEBAABAQAAQEAAEBQEAAQEAAEBAABAQAAQFAQABAQAAQEAAEBAABAUBAAEBAABAQAAQEAAEBQEAAQEAAEBAABAQAAQFAQABAQAAQEAAEBAABAUBAAEBAABAQAAQEAAEBAAEBQEAAEBAABAQAAQEAAQFAQAAQEAAEBAABAQABAUBAABAQAAQEAAEBAAEBQEAAEBAABAQAAQEAAQFAQAAQEAAEBAABAQABAUBAABAQAAQEAAEBAAEBQEAAEBAABAQAAQEAAQFAQAAQEAAEBAAEBAABAUBAABAQAAQEAAQEAAEBQEAAEBAABAQABAQAAQFAQAAQEAAEBAAEBAABAUBAABAQAAQEAAQEAAEBQEAAEBAABAQABAQAAQFAQAAQEAAEBAAEBAABAUBAABAQABAQAAQEAAEBQEAAEBAAEBAABAQAAQFAQAAQEAAQEAAEBAABAUBAABAQABAQAAQEAAEBQEAAEBAAEBAABAQAAQFAQAAQEAAQEAAEBAABAUBAABAQABAQAAQEAAEBQEAAEBAAEBAABAQAAQFAQABAQAAQEAAEBAABAUBAAEBAABAQAAQEAAEBQEAAQEAAEBAABAQAAQFAQABAQAAQEAAEBAABAUBAAEBAABAQAAQEAAEBQEAAQEAAEBAABAQAAQFAQABAQAAQEAAEBAABAQABAUBAABAQAAQEAAEBAAEBQEAAEBAABAQAAQEAAQFAQAAQEAAEBAABAQABAUBAABAQAAQEAAEBAAEBQEAAEBAABAQAAQEAAQFAQAAQEAAEBAABAQABAUBAABAQAAQEAAEBAAEBQEAAEBAABAQABAQAAQFAQAAQEAAEBAAEBAABAUBAABAQAAQEAAQEAAEBQEAAEBAABAQABAQAAQFAQAAQEAAEBAAEBAABAUBAABAQAAQEAAQEAAEBQEAAEBAABAQABAQAAQFAQAAQEAAExBQAICAACAgAAgKAgACAgAAgIAAICAACAoCAAICAACAgAAgIAAICgIAAgIAAICAACAgAAgKAgACAgAAgIAAICAACAoCAAICAACAgAAgIAAICgIAAgIAAICAACAgAAgKAgACAgAAgIAAICAACAgACAoCAACAgAAgIAAICAAICgIAAICAACAgAAgIAAgKAgAAgIAAICAACAgACAoCAACAgAAgIAAICAAICgIAAICAACAgAAgIAAgKAgAAgIAAICAACAgACAoCAACAgAAgIAAICAAICgIAAICAACAgACAgAAgKAgAAgIAAICAAICAACAoCAACAgAAgIAAgIAAICgIAAICAACAgACAgAAgKAgAAgIAAICAAICAACAoCAACAgAAgIAAgIAAICgIAAICAACAgACAgAAgKAgAAgIAAgIAAICAACAoCAACAgACAgAAgIAAICgIAAICAAICAACAgAAgKAgAAgIAAgIAAICAACAoCAACAgACAgAAgIAAICgIAAICAAICAACAgAAgKAgAAgIAAgIAAICAACAoCAACAgACAgrMJ11aOrTZOPM1dw7OnV4dWdq5tWd6qeWJ1aXbvCn2Otxlpr51bHVvepblPdvDq4elr18erSDTzvsFp7XD38LnID9rHx5Dj1lerxM467ojqyOns7+zyg2lLdfieOtZb+XB1TnTFjvwdU392A8w4egbBqf6jeMG7fcgXHXV0dMeMkVvXD8V7y33fSWGvpkuoxy4jHRp13EBB2yLHV38Z7vY9dwXEfrr43+fyY6oJxrIuqEya/XD+t3rOTxlorW6tnjLc/58iGJaZLqn9WF1dfrV6yinv6u8O8w46yhHUD9rnqOQ3r5z8ZTz5bxu9tbynlmob19svHz99RvW6R/U6pXjpu7zuecG++jmOtpQ9Wx8/9J6k+WT37ejTv4BEIq3b55AT5ruqOKzj2rMlJ7C7Va5bY7wXV/cftq6qvrfNYa/no472Tz49fw3jsLvMOAsKqvba6rHpEdfQKj52+UuioGb9Ez5tsf3Mdx/reeG97U3XXyYl2Mb+uDhj3PWD8fOGJ+uLJPfgTr4fzDgLCqnyz+nS1T/XRhiWalbhwsv2IGfs+conj1nqsh1abx+3fjyfQxdZmr6qe2fCcQQ0vwT1owT7nTLYPr252PZx3EBBW7B/Vy8ftty5y8lyOX0227zZj34MmJ8pfrvNYx1dPnZysNy+yzysanlyuOq7hFU0L/WiRE/WZ1ZOqA6v9x5/lqOrrG3TeQUBYsTc1LM/cv3rlKsf4y2T7wBn7bqpuNbn3f806jlX1iYbnB6re3rAcNee08aPqQQ3PQSxmelHgvRuWnQ6rvtWwNPbvcQ63NFxIeNiCf8dGmHcQEFbkvOpD1V4NF7HdaAcexcydpJbzC7TfZPvv6zhWDa82Or3au2EJ67nVH8dHHceN+xxQfba68TJO1F+o3j/jZzpzfCRzzQaadxAQlu3q6sXjSfWE8Z71znLdTh7rvtX7xu3Lqmc1PO/xr4ZlndOqO2zn+K2T7Q+OxxzTsLT114Yrwc+qnjzZ79zq5OvxvIOA3IC9s/p5w/s3nbCDY91kcnLcuoz9r5ps33Qdx5p64fjoo+r7zb/S6sTqcTNuY//J9rUNF++9dzz57zPe7sOrL423M+ejG2jeQUBYlgsbrkjes2EJZdMOjneLyfYly3jkc8W4vW//v2y0lmMt9IG2fZuQB1dvXsa/b3rR3T0brqtYyuaGpam5eb5yg8w7CAjL8pmG9fmt1cPa9t1fpx9bJsccNvn6xxaMN30F0K9m3Pavm19Kufsi31/LsRY6ecEJ/WfV75Zx3D0m2w+cse8tF+x/6QaZdxAQlmWt18IPnmyfM2Pf7yxx3HqMNXV+9fpxe+46jr82PB/y7xnH7sjzFHtskHkHAWGXmD6H8Om2vx5/2mT70HUea84VYyj+0/CKpzOqF43f+3H16hn/vidMts+bse+VbfuGiwdukHkHAWFZNjesic/6ePrkmK9Mvv7iBeM9uvlrDH5TnbTE7Z7S/EV5+7Ttq5bWY6y5e/3Pb7gavYY3HHxYw5Pg9xu/9vGGl/ou5e4Nr+Sq+sV420s5cQxV1SFt+/zJ7jzvICDsEpuaXx6qemPDVeAXNSwP/bZ6S/NXXtdwBfgt1nmsqndX3xi3D5s82ti74dqPuRP8y8Y4LOVtk+2XjeNcMP5M/2j441FHtO1Ld4/ZQPMOa8HbufM/R7W8txVvPGEdWv1gGePeq+EPIO2/zmOdPf7MWxv+zOv5i5w8z5jc4z94DMF+S9zW0W27FLQ9T6k+v8p7ZLtq3sEjEHaJvasvNvtN/Q6pvjzjJLYWY13a8Dc2to731E9f4p73U6tXjdsXNn91+mI+3PxzJ9vz7IbnJPbcYPMOAsIuc+uG94c6teEJ3ts1XG9w2+pR1UcartC+wzqPde0Yjz+Nn580nkCXsrl6yLj9qYY/FrWYvRreguTbDe/ue5eGayr2bXjL+OeN3zt1/NpGnHfYEZawAPAIBAABAUBAABAQABAQAAQEAAEBQEAAEBAAEBAABAQAAQFAQAAQEAAQEAAEBAABAUBAABAQABAQAAQEAAEBQEAAEBAAEBAABAQAAQFAQAAQEAAQEAAEBAABAUBAABAQABAQAAQEAAEBQEAAQEAAEBAABAQAAQFAQABAQAAQEAAEBAABAUBAAEBAABAQAAQEAAEBQEAAQEAAEBAABAQAAQFAQABAQAAQEAAEBAABAUBAAEBAABAQAAQEAAEBQEAAQEAAEBAABAQAAQFAQEwBAAICgIAAICAACAgACAgAAgKAgAAgIAAICAAICAACAoCAACAgAAgIAAgIAAICgIAAICAACAgACAgAAgKAgAAgIAAICAAICAACAoCAACAgAAgIAAgIAAICgIAAICAACAgACAgAAgKAgAAgIAAgIAAICAACAoCAACAgACAgAAgIAAICgIAAICAAICAACAgAAgKAgAAgIAAgIAAICAACAoCAACAgACAgAAgIAAICgIAAICAAICAACAgAAgKAgAAgIAAgIAAICAACAoCAACAgACAgAAgIAAICgIAAgIAAICAACAgAAgKAgACAgAAgIAAICAACAoCAAICAACAgAAgIAAICgIAAgIAAICAACAgAAgKAgACAgAAgIAAICAACAoCAAICAACAgAAgIAAICgIAAgIAAICAACAgAAgIAAgKAgAAgIAAICAACAgACAoCAACAgAAgIAAICAAICgIAAICAACAgAAgIAAgKAgAAgIAAICAACAgACAoCAACAgAAgIAAICAAICgIAAsHv5L5rd1Y3SO5oeAAAAAElFTkSuQmCC",
        "encoding": "base64",
        "path": [
         "value"
        ]
       }
      ],
      "model_module": "@jupyter-widgets/controls",
      "model_module_version": "1.5.0",
      "model_name": "ImageModel",
      "state": {
       "_dom_classes": [],
       "_model_module": "@jupyter-widgets/controls",
       "_model_module_version": "1.5.0",
       "_model_name": "ImageModel",
       "_view_count": null,
       "_view_module": "@jupyter-widgets/controls",
       "_view_module_version": "1.5.0",
       "_view_name": "ImageView",
       "format": "png",
       "height": "",
       "layout": "IPY_MODEL_9486cef9611842288654def0909cd19d",
       "width": ""
      }
     },
     "569b80adf0044672af656786aa5f2b70": {
      "model_module": "@jupyter-widgets/base",
      "model_module_version": "1.2.0",
      "model_name": "LayoutModel",
      "state": {
       "_model_module": "@jupyter-widgets/base",
       "_model_module_version": "1.2.0",
       "_model_name": "LayoutModel",
       "_view_count": null,
       "_view_module": "@jupyter-widgets/base",
       "_view_module_version": "1.2.0",
       "_view_name": "LayoutView",
       "align_content": null,
       "align_items": null,
       "align_self": null,
       "border": null,
       "bottom": null,
       "display": null,
       "flex": null,
       "flex_flow": null,
       "grid_area": null,
       "grid_auto_columns": null,
       "grid_auto_flow": null,
       "grid_auto_rows": null,
       "grid_column": null,
       "grid_gap": null,
       "grid_row": null,
       "grid_template_areas": null,
       "grid_template_columns": null,
       "grid_template_rows": null,
       "height": null,
       "justify_content": null,
       "justify_items": null,
       "left": null,
       "margin": null,
       "max_height": null,
       "max_width": null,
       "min_height": null,
       "min_width": null,
       "object_fit": null,
       "object_position": null,
       "order": null,
       "overflow": null,
       "overflow_x": null,
       "overflow_y": null,
       "padding": null,
       "right": null,
       "top": null,
       "visibility": null,
       "width": null
      }
     },
     "58d85234548e4ed2b733e55ce3e1b326": {
      "model_module": "@jupyter-widgets/controls",
      "model_module_version": "1.5.0",
      "model_name": "LabelModel",
      "state": {
       "_dom_classes": [],
       "_model_module": "@jupyter-widgets/controls",
       "_model_module_version": "1.5.0",
       "_model_name": "LabelModel",
       "_view_count": null,
       "_view_module": "@jupyter-widgets/controls",
       "_view_module_version": "1.5.0",
       "_view_name": "LabelView",
       "description": "",
       "description_tooltip": null,
       "layout": "IPY_MODEL_d6613e2ce8c947289cab226c9acd6bc5",
       "placeholder": "​",
       "style": "IPY_MODEL_0fd80efe5c7942a4a64060d51f24e828",
       "value": ""
      }
     },
     "61abdff1519f4b32a701f8f3af2c0100": {
      "model_module": "@jupyter-widgets/base",
      "model_module_version": "1.2.0",
      "model_name": "LayoutModel",
      "state": {
       "_model_module": "@jupyter-widgets/base",
       "_model_module_version": "1.2.0",
       "_model_name": "LayoutModel",
       "_view_count": null,
       "_view_module": "@jupyter-widgets/base",
       "_view_module_version": "1.2.0",
       "_view_name": "LayoutView",
       "align_content": "center",
       "align_items": "center",
       "align_self": null,
       "border": null,
       "bottom": null,
       "display": "flex",
       "flex": null,
       "flex_flow": null,
       "grid_area": null,
       "grid_auto_columns": null,
       "grid_auto_flow": null,
       "grid_auto_rows": null,
       "grid_column": null,
       "grid_gap": null,
       "grid_row": null,
       "grid_template_areas": null,
       "grid_template_columns": null,
       "grid_template_rows": null,
       "height": null,
       "justify_content": "center",
       "justify_items": null,
       "left": null,
       "margin": null,
       "max_height": null,
       "max_width": null,
       "min_height": null,
       "min_width": null,
       "object_fit": null,
       "object_position": null,
       "order": null,
       "overflow": "hidden",
       "overflow_x": null,
       "overflow_y": null,
       "padding": null,
       "right": null,
       "top": null,
       "visibility": null,
       "width": null
      }
     },
     "6740b860360444bf9466f7deb6d65f0a": {
      "model_module": "@jupyter-widgets/controls",
      "model_module_version": "1.5.0",
      "model_name": "DescriptionStyleModel",
      "state": {
       "_model_module": "@jupyter-widgets/controls",
       "_model_module_version": "1.5.0",
       "_model_name": "DescriptionStyleModel",
       "_view_count": null,
       "_view_module": "@jupyter-widgets/base",
       "_view_module_version": "1.2.0",
       "_view_name": "StyleView",
       "description_width": ""
      }
     },
     "733390d5c15e4cb5b8fc244c3c87176b": {
      "model_module": "@jupyter-widgets/base",
      "model_module_version": "1.2.0",
      "model_name": "LayoutModel",
      "state": {
       "_model_module": "@jupyter-widgets/base",
       "_model_module_version": "1.2.0",
       "_model_name": "LayoutModel",
       "_view_count": null,
       "_view_module": "@jupyter-widgets/base",
       "_view_module_version": "1.2.0",
       "_view_name": "LayoutView",
       "align_content": null,
       "align_items": null,
       "align_self": null,
       "border": null,
       "bottom": null,
       "display": null,
       "flex": null,
       "flex_flow": null,
       "grid_area": null,
       "grid_auto_columns": null,
       "grid_auto_flow": null,
       "grid_auto_rows": null,
       "grid_column": null,
       "grid_gap": null,
       "grid_row": null,
       "grid_template_areas": null,
       "grid_template_columns": null,
       "grid_template_rows": null,
       "height": null,
       "justify_content": null,
       "justify_items": null,
       "left": null,
       "margin": null,
       "max_height": null,
       "max_width": null,
       "min_height": null,
       "min_width": null,
       "object_fit": null,
       "object_position": null,
       "order": null,
       "overflow": null,
       "overflow_x": null,
       "overflow_y": null,
       "padding": null,
       "right": null,
       "top": null,
       "visibility": null,
       "width": null
      }
     },
     "81c941cf37d84d049e3b4ddec753d01f": {
      "model_module": "@jupyter-widgets/controls",
      "model_module_version": "1.5.0",
      "model_name": "VBoxModel",
      "state": {
       "_dom_classes": [],
       "_model_module": "@jupyter-widgets/controls",
       "_model_module_version": "1.5.0",
       "_model_name": "VBoxModel",
       "_view_count": null,
       "_view_module": "@jupyter-widgets/controls",
       "_view_module_version": "1.5.0",
       "_view_name": "VBoxView",
       "box_style": "",
       "children": [
        "IPY_MODEL_187a240037ef4092a52f60a8da25441c",
        "IPY_MODEL_bf3d3c59e81d4973b3ccbac3ba3e3e01"
       ],
       "layout": "IPY_MODEL_acca8a61ca5841a3ac84a91a0e8fcd6e"
      }
     },
     "82079ff90ca04a0584d67a7e3fb664a0": {
      "buffers": [
       {
        "data": "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",
        "encoding": "base64",
        "path": [
         "value"
        ]
       }
      ],
      "model_module": "@jupyter-widgets/controls",
      "model_module_version": "1.5.0",
      "model_name": "ImageModel",
      "state": {
       "_dom_classes": [],
       "_model_module": "@jupyter-widgets/controls",
       "_model_module_version": "1.5.0",
       "_model_name": "ImageModel",
       "_view_count": null,
       "_view_module": "@jupyter-widgets/controls",
       "_view_module_version": "1.5.0",
       "_view_name": "ImageView",
       "format": "png",
       "height": "",
       "layout": "IPY_MODEL_e016128b61a24417a1739e109f2c490b",
       "width": ""
      }
     },
     "890a59bc80a642268862e7f511eb52cc": {
      "model_module": "@jupyter-widgets/base",
      "model_module_version": "1.2.0",
      "model_name": "LayoutModel",
      "state": {
       "_model_module": "@jupyter-widgets/base",
       "_model_module_version": "1.2.0",
       "_model_name": "LayoutModel",
       "_view_count": null,
       "_view_module": "@jupyter-widgets/base",
       "_view_module_version": "1.2.0",
       "_view_name": "LayoutView",
       "align_content": null,
       "align_items": null,
       "align_self": null,
       "border": "1px solid black",
       "bottom": null,
       "display": null,
       "flex": null,
       "flex_flow": null,
       "grid_area": null,
       "grid_auto_columns": null,
       "grid_auto_flow": null,
       "grid_auto_rows": null,
       "grid_column": null,
       "grid_gap": null,
       "grid_row": null,
       "grid_template_areas": null,
       "grid_template_columns": null,
       "grid_template_rows": null,
       "height": null,
       "justify_content": null,
       "justify_items": null,
       "left": null,
       "margin": null,
       "max_height": null,
       "max_width": null,
       "min_height": null,
       "min_width": null,
       "object_fit": null,
       "object_position": null,
       "order": null,
       "overflow": null,
       "overflow_x": null,
       "overflow_y": null,
       "padding": null,
       "right": null,
       "top": null,
       "visibility": null,
       "width": null
      }
     },
     "891a3c59ae564d06aae719c7c178d152": {
      "model_module": "@jupyter-widgets/base",
      "model_module_version": "1.2.0",
      "model_name": "LayoutModel",
      "state": {
       "_model_module": "@jupyter-widgets/base",
       "_model_module_version": "1.2.0",
       "_model_name": "LayoutModel",
       "_view_count": null,
       "_view_module": "@jupyter-widgets/base",
       "_view_module_version": "1.2.0",
       "_view_name": "LayoutView",
       "align_content": null,
       "align_items": null,
       "align_self": null,
       "border": null,
       "bottom": null,
       "display": null,
       "flex": null,
       "flex_flow": null,
       "grid_area": null,
       "grid_auto_columns": null,
       "grid_auto_flow": null,
       "grid_auto_rows": null,
       "grid_column": null,
       "grid_gap": null,
       "grid_row": null,
       "grid_template_areas": null,
       "grid_template_columns": null,
       "grid_template_rows": null,
       "height": null,
       "justify_content": null,
       "justify_items": null,
       "left": null,
       "margin": null,
       "max_height": null,
       "max_width": null,
       "min_height": null,
       "min_width": null,
       "object_fit": null,
       "object_position": null,
       "order": null,
       "overflow": null,
       "overflow_x": null,
       "overflow_y": null,
       "padding": null,
       "right": null,
       "top": null,
       "visibility": null,
       "width": null
      }
     },
     "8b85cdf8a26147a5a0cadf167c8f655f": {
      "model_module": "@jupyter-widgets/output",
      "model_module_version": "1.0.0",
      "model_name": "OutputModel",
      "state": {
       "_dom_classes": [],
       "_model_module": "@jupyter-widgets/output",
       "_model_module_version": "1.0.0",
       "_model_name": "OutputModel",
       "_view_count": null,
       "_view_module": "@jupyter-widgets/output",
       "_view_module_version": "1.0.0",
       "_view_name": "OutputView",
       "layout": "IPY_MODEL_f6696d4cd76c4455b3ff6d563717fcfa",
       "msg_id": "",
       "outputs": []
      }
     },
     "8c65bd181974492597b4d7ee58fe247b": {
      "model_module": "@jupyter-widgets/base",
      "model_module_version": "1.2.0",
      "model_name": "LayoutModel",
      "state": {
       "_model_module": "@jupyter-widgets/base",
       "_model_module_version": "1.2.0",
       "_model_name": "LayoutModel",
       "_view_count": null,
       "_view_module": "@jupyter-widgets/base",
       "_view_module_version": "1.2.0",
       "_view_name": "LayoutView",
       "align_content": null,
       "align_items": null,
       "align_self": null,
       "border": null,
       "bottom": null,
       "display": null,
       "flex": null,
       "flex_flow": null,
       "grid_area": null,
       "grid_auto_columns": null,
       "grid_auto_flow": null,
       "grid_auto_rows": null,
       "grid_column": null,
       "grid_gap": null,
       "grid_row": null,
       "grid_template_areas": null,
       "grid_template_columns": null,
       "grid_template_rows": null,
       "height": null,
       "justify_content": null,
       "justify_items": null,
       "left": null,
       "margin": null,
       "max_height": null,
       "max_width": null,
       "min_height": null,
       "min_width": null,
       "object_fit": null,
       "object_position": null,
       "order": null,
       "overflow": null,
       "overflow_x": null,
       "overflow_y": null,
       "padding": null,
       "right": null,
       "top": null,
       "visibility": null,
       "width": null
      }
     },
     "9096038c302c4159ae13a17f53777c63": {
      "model_module": "@jupyter-widgets/base",
      "model_module_version": "1.2.0",
      "model_name": "LayoutModel",
      "state": {
       "_model_module": "@jupyter-widgets/base",
       "_model_module_version": "1.2.0",
       "_model_name": "LayoutModel",
       "_view_count": null,
       "_view_module": "@jupyter-widgets/base",
       "_view_module_version": "1.2.0",
       "_view_name": "LayoutView",
       "align_content": null,
       "align_items": null,
       "align_self": null,
       "border": null,
       "bottom": null,
       "display": null,
       "flex": null,
       "flex_flow": null,
       "grid_area": null,
       "grid_auto_columns": null,
       "grid_auto_flow": null,
       "grid_auto_rows": null,
       "grid_column": null,
       "grid_gap": null,
       "grid_row": null,
       "grid_template_areas": null,
       "grid_template_columns": null,
       "grid_template_rows": null,
       "height": null,
       "justify_content": null,
       "justify_items": null,
       "left": null,
       "margin": null,
       "max_height": null,
       "max_width": null,
       "min_height": null,
       "min_width": null,
       "object_fit": null,
       "object_position": null,
       "order": null,
       "overflow": null,
       "overflow_x": null,
       "overflow_y": null,
       "padding": null,
       "right": null,
       "top": null,
       "visibility": null,
       "width": null
      }
     },
     "90f2a35d437449cbad5ba290ec9f1f45": {
      "buffers": [
       {
        "data": "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",
        "encoding": "base64",
        "path": [
         "value"
        ]
       }
      ],
      "model_module": "@jupyter-widgets/controls",
      "model_module_version": "1.5.0",
      "model_name": "ImageModel",
      "state": {
       "_dom_classes": [],
       "_model_module": "@jupyter-widgets/controls",
       "_model_module_version": "1.5.0",
       "_model_name": "ImageModel",
       "_view_count": null,
       "_view_module": "@jupyter-widgets/controls",
       "_view_module_version": "1.5.0",
       "_view_name": "ImageView",
       "format": "png",
       "height": "",
       "layout": "IPY_MODEL_fec8ef99a2c94daea0abad0582051b2a",
       "width": ""
      }
     },
     "9119ac97553f447ebb9520622d956a74": {
      "model_module": "@jupyter-widgets/base",
      "model_module_version": "1.2.0",
      "model_name": "LayoutModel",
      "state": {
       "_model_module": "@jupyter-widgets/base",
       "_model_module_version": "1.2.0",
       "_model_name": "LayoutModel",
       "_view_count": null,
       "_view_module": "@jupyter-widgets/base",
       "_view_module_version": "1.2.0",
       "_view_name": "LayoutView",
       "align_content": null,
       "align_items": null,
       "align_self": null,
       "border": null,
       "bottom": null,
       "display": null,
       "flex": null,
       "flex_flow": null,
       "grid_area": null,
       "grid_auto_columns": null,
       "grid_auto_flow": null,
       "grid_auto_rows": null,
       "grid_column": null,
       "grid_gap": null,
       "grid_row": null,
       "grid_template_areas": null,
       "grid_template_columns": null,
       "grid_template_rows": null,
       "height": null,
       "justify_content": null,
       "justify_items": null,
       "left": null,
       "margin": null,
       "max_height": null,
       "max_width": null,
       "min_height": null,
       "min_width": null,
       "object_fit": null,
       "object_position": null,
       "order": null,
       "overflow": null,
       "overflow_x": null,
       "overflow_y": null,
       "padding": null,
       "right": null,
       "top": null,
       "visibility": null,
       "width": null
      }
     },
     "93e8b7a1628e425c8740b60b73418313": {
      "model_module": "ipycanvas",
      "model_module_version": "^0.10.2",
      "model_name": "CanvasModel",
      "state": {
       "_dom_classes": [],
       "_model_module": "ipycanvas",
       "_model_module_version": "^0.10.2",
       "_model_name": "CanvasModel",
       "_send_client_ready_event": true,
       "_view_count": null,
       "_view_module": "ipycanvas",
       "_view_module_version": "^0.10.2",
       "_view_name": "CanvasView",
       "height": 300,
       "image_data": null,
       "layout": "IPY_MODEL_c3967e3258124bb78f1eb3f33f869007",
       "sync_image_data": false,
       "width": 300
      }
     },
     "9486cef9611842288654def0909cd19d": {
      "model_module": "@jupyter-widgets/base",
      "model_module_version": "1.2.0",
      "model_name": "LayoutModel",
      "state": {
       "_model_module": "@jupyter-widgets/base",
       "_model_module_version": "1.2.0",
       "_model_name": "LayoutModel",
       "_view_count": null,
       "_view_module": "@jupyter-widgets/base",
       "_view_module_version": "1.2.0",
       "_view_name": "LayoutView",
       "align_content": null,
       "align_items": null,
       "align_self": null,
       "border": null,
       "bottom": null,
       "display": null,
       "flex": null,
       "flex_flow": null,
       "grid_area": null,
       "grid_auto_columns": null,
       "grid_auto_flow": null,
       "grid_auto_rows": null,
       "grid_column": null,
       "grid_gap": null,
       "grid_row": null,
       "grid_template_areas": null,
       "grid_template_columns": null,
       "grid_template_rows": null,
       "height": null,
       "justify_content": null,
       "justify_items": null,
       "left": null,
       "margin": null,
       "max_height": null,
       "max_width": null,
       "min_height": null,
       "min_width": null,
       "object_fit": null,
       "object_position": null,
       "order": null,
       "overflow": null,
       "overflow_x": null,
       "overflow_y": null,
       "padding": null,
       "right": null,
       "top": null,
       "visibility": null,
       "width": null
      }
     },
     "950ec29fc2cb4a2aa3c2d5225c5d733b": {
      "buffers": [
       {
        "data": "",
        "encoding": "base64",
        "path": [
         "value"
        ]
       }
      ],
      "model_module": "@jupyter-widgets/controls",
      "model_module_version": "1.5.0",
      "model_name": "ImageModel",
      "state": {
       "_dom_classes": [],
       "_model_module": "@jupyter-widgets/controls",
       "_model_module_version": "1.5.0",
       "_model_name": "ImageModel",
       "_view_count": null,
       "_view_module": "@jupyter-widgets/controls",
       "_view_module_version": "1.5.0",
       "_view_name": "ImageView",
       "format": "png",
       "height": "",
       "layout": "IPY_MODEL_41e7bca7af9e4c7fb98fa19d9fed1a52",
       "width": ""
      }
     },
     "98af1099c825450fac2f176e73cfe24f": {
      "model_module": "@jupyter-widgets/base",
      "model_module_version": "1.2.0",
      "model_name": "LayoutModel",
      "state": {
       "_model_module": "@jupyter-widgets/base",
       "_model_module_version": "1.2.0",
       "_model_name": "LayoutModel",
       "_view_count": null,
       "_view_module": "@jupyter-widgets/base",
       "_view_module_version": "1.2.0",
       "_view_name": "LayoutView",
       "align_content": "center",
       "align_items": "center",
       "align_self": null,
       "border": null,
       "bottom": null,
       "display": "flex",
       "flex": null,
       "flex_flow": null,
       "grid_area": null,
       "grid_auto_columns": null,
       "grid_auto_flow": null,
       "grid_auto_rows": null,
       "grid_column": null,
       "grid_gap": null,
       "grid_row": null,
       "grid_template_areas": null,
       "grid_template_columns": null,
       "grid_template_rows": null,
       "height": null,
       "justify_content": "center",
       "justify_items": null,
       "left": null,
       "margin": null,
       "max_height": null,
       "max_width": null,
       "min_height": null,
       "min_width": null,
       "object_fit": null,
       "object_position": null,
       "order": null,
       "overflow": "hidden",
       "overflow_x": null,
       "overflow_y": null,
       "padding": null,
       "right": null,
       "top": null,
       "visibility": null,
       "width": null
      }
     },
     "9e4dc8c1a9334386ad5d22568669dc54": {
      "model_module": "@jupyter-widgets/controls",
      "model_module_version": "1.5.0",
      "model_name": "VBoxModel",
      "state": {
       "_dom_classes": [],
       "_model_module": "@jupyter-widgets/controls",
       "_model_module_version": "1.5.0",
       "_model_name": "VBoxModel",
       "_view_count": null,
       "_view_module": "@jupyter-widgets/controls",
       "_view_module_version": "1.5.0",
       "_view_name": "VBoxView",
       "box_style": "",
       "children": [
        "IPY_MODEL_22b56b79da2349eb915530af35230e39"
       ],
       "layout": "IPY_MODEL_a26f02b3440544c9b22b514b492fd304"
      }
     },
     "a0be46bc84154aa19f3d23ff94cc5c9f": {
      "buffers": [
       {
        "data": "",
        "encoding": "base64",
        "path": [
         "value"
        ]
       }
      ],
      "model_module": "@jupyter-widgets/controls",
      "model_module_version": "1.5.0",
      "model_name": "ImageModel",
      "state": {
       "_dom_classes": [],
       "_model_module": "@jupyter-widgets/controls",
       "_model_module_version": "1.5.0",
       "_model_name": "ImageModel",
       "_view_count": null,
       "_view_module": "@jupyter-widgets/controls",
       "_view_module_version": "1.5.0",
       "_view_name": "ImageView",
       "format": "png",
       "height": "",
       "layout": "IPY_MODEL_98af1099c825450fac2f176e73cfe24f",
       "width": ""
      }
     },
     "a0c67c4dc143464bb955c3b54439ce7c": {
      "model_module": "ipycanvas",
      "model_module_version": "^0.10.2",
      "model_name": "CanvasModel",
      "state": {
       "_dom_classes": [],
       "_model_module": "ipycanvas",
       "_model_module_version": "^0.10.2",
       "_model_name": "CanvasModel",
       "_send_client_ready_event": true,
       "_view_count": null,
       "_view_module": "ipycanvas",
       "_view_module_version": "^0.10.2",
       "_view_name": "CanvasView",
       "height": 100,
       "image_data": null,
       "layout": "IPY_MODEL_f382002093f441feadee0a48a1c97487",
       "sync_image_data": false,
       "width": 100
      }
     },
     "a20919b5488d4e9ead2d06e3fbe6dea1": {
      "model_module": "@jupyter-widgets/base",
      "model_module_version": "1.2.0",
      "model_name": "LayoutModel",
      "state": {
       "_model_module": "@jupyter-widgets/base",
       "_model_module_version": "1.2.0",
       "_model_name": "LayoutModel",
       "_view_count": null,
       "_view_module": "@jupyter-widgets/base",
       "_view_module_version": "1.2.0",
       "_view_name": "LayoutView",
       "align_content": "center",
       "align_items": "center",
       "align_self": null,
       "border": null,
       "bottom": null,
       "display": "flex",
       "flex": null,
       "flex_flow": null,
       "grid_area": null,
       "grid_auto_columns": null,
       "grid_auto_flow": null,
       "grid_auto_rows": null,
       "grid_column": null,
       "grid_gap": null,
       "grid_row": null,
       "grid_template_areas": null,
       "grid_template_columns": null,
       "grid_template_rows": null,
       "height": null,
       "justify_content": "center",
       "justify_items": null,
       "left": null,
       "margin": null,
       "max_height": null,
       "max_width": null,
       "min_height": null,
       "min_width": null,
       "object_fit": null,
       "object_position": null,
       "order": null,
       "overflow": "hidden",
       "overflow_x": null,
       "overflow_y": null,
       "padding": null,
       "right": null,
       "top": null,
       "visibility": null,
       "width": null
      }
     },
     "a26f02b3440544c9b22b514b492fd304": {
      "model_module": "@jupyter-widgets/base",
      "model_module_version": "1.2.0",
      "model_name": "LayoutModel",
      "state": {
       "_model_module": "@jupyter-widgets/base",
       "_model_module_version": "1.2.0",
       "_model_name": "LayoutModel",
       "_view_count": null,
       "_view_module": "@jupyter-widgets/base",
       "_view_module_version": "1.2.0",
       "_view_name": "LayoutView",
       "align_content": null,
       "align_items": null,
       "align_self": null,
       "border": null,
       "bottom": null,
       "display": null,
       "flex": null,
       "flex_flow": null,
       "grid_area": null,
       "grid_auto_columns": null,
       "grid_auto_flow": null,
       "grid_auto_rows": null,
       "grid_column": null,
       "grid_gap": null,
       "grid_row": null,
       "grid_template_areas": null,
       "grid_template_columns": null,
       "grid_template_rows": null,
       "height": null,
       "justify_content": null,
       "justify_items": null,
       "left": null,
       "margin": null,
       "max_height": null,
       "max_width": null,
       "min_height": null,
       "min_width": null,
       "object_fit": null,
       "object_position": null,
       "order": null,
       "overflow": null,
       "overflow_x": null,
       "overflow_y": null,
       "padding": null,
       "right": null,
       "top": null,
       "visibility": null,
       "width": null
      }
     },
     "a5a7adba83664b55bfde8c8d0b8117e9": {
      "model_module": "@jupyter-widgets/base",
      "model_module_version": "1.2.0",
      "model_name": "LayoutModel",
      "state": {
       "_model_module": "@jupyter-widgets/base",
       "_model_module_version": "1.2.0",
       "_model_name": "LayoutModel",
       "_view_count": null,
       "_view_module": "@jupyter-widgets/base",
       "_view_module_version": "1.2.0",
       "_view_name": "LayoutView",
       "align_content": null,
       "align_items": null,
       "align_self": null,
       "border": null,
       "bottom": null,
       "display": null,
       "flex": null,
       "flex_flow": null,
       "grid_area": null,
       "grid_auto_columns": null,
       "grid_auto_flow": null,
       "grid_auto_rows": null,
       "grid_column": null,
       "grid_gap": null,
       "grid_row": null,
       "grid_template_areas": null,
       "grid_template_columns": null,
       "grid_template_rows": null,
       "height": null,
       "justify_content": null,
       "justify_items": null,
       "left": null,
       "margin": null,
       "max_height": null,
       "max_width": null,
       "min_height": null,
       "min_width": null,
       "object_fit": null,
       "object_position": null,
       "order": null,
       "overflow": null,
       "overflow_x": null,
       "overflow_y": null,
       "padding": null,
       "right": null,
       "top": null,
       "visibility": null,
       "width": null
      }
     },
     "a5ee030a1f074329b21b39d44b61904c": {
      "model_module": "@jupyter-widgets/base",
      "model_module_version": "1.2.0",
      "model_name": "LayoutModel",
      "state": {
       "_model_module": "@jupyter-widgets/base",
       "_model_module_version": "1.2.0",
       "_model_name": "LayoutModel",
       "_view_count": null,
       "_view_module": "@jupyter-widgets/base",
       "_view_module_version": "1.2.0",
       "_view_name": "LayoutView",
       "align_content": null,
       "align_items": null,
       "align_self": null,
       "border": null,
       "bottom": null,
       "display": null,
       "flex": null,
       "flex_flow": null,
       "grid_area": null,
       "grid_auto_columns": null,
       "grid_auto_flow": null,
       "grid_auto_rows": null,
       "grid_column": null,
       "grid_gap": null,
       "grid_row": null,
       "grid_template_areas": null,
       "grid_template_columns": null,
       "grid_template_rows": null,
       "height": null,
       "justify_content": null,
       "justify_items": null,
       "left": null,
       "margin": null,
       "max_height": null,
       "max_width": null,
       "min_height": null,
       "min_width": null,
       "object_fit": null,
       "object_position": null,
       "order": null,
       "overflow": null,
       "overflow_x": null,
       "overflow_y": null,
       "padding": null,
       "right": null,
       "top": null,
       "visibility": null,
       "width": null
      }
     },
     "a932dd9935ec4f96bbba879846b3a14d": {
      "model_module": "@jupyter-widgets/base",
      "model_module_version": "1.2.0",
      "model_name": "LayoutModel",
      "state": {
       "_model_module": "@jupyter-widgets/base",
       "_model_module_version": "1.2.0",
       "_model_name": "LayoutModel",
       "_view_count": null,
       "_view_module": "@jupyter-widgets/base",
       "_view_module_version": "1.2.0",
       "_view_name": "LayoutView",
       "align_content": null,
       "align_items": null,
       "align_self": null,
       "border": null,
       "bottom": null,
       "display": null,
       "flex": null,
       "flex_flow": null,
       "grid_area": null,
       "grid_auto_columns": null,
       "grid_auto_flow": null,
       "grid_auto_rows": null,
       "grid_column": null,
       "grid_gap": null,
       "grid_row": null,
       "grid_template_areas": null,
       "grid_template_columns": null,
       "grid_template_rows": null,
       "height": null,
       "justify_content": null,
       "justify_items": null,
       "left": null,
       "margin": null,
       "max_height": null,
       "max_width": null,
       "min_height": null,
       "min_width": null,
       "object_fit": null,
       "object_position": null,
       "order": null,
       "overflow": null,
       "overflow_x": null,
       "overflow_y": null,
       "padding": null,
       "right": null,
       "top": null,
       "visibility": null,
       "width": null
      }
     },
     "a9a203f7988c40c6b94a26c74026fb36": {
      "model_module": "@jupyter-widgets/base",
      "model_module_version": "1.2.0",
      "model_name": "LayoutModel",
      "state": {
       "_model_module": "@jupyter-widgets/base",
       "_model_module_version": "1.2.0",
       "_model_name": "LayoutModel",
       "_view_count": null,
       "_view_module": "@jupyter-widgets/base",
       "_view_module_version": "1.2.0",
       "_view_name": "LayoutView",
       "align_content": null,
       "align_items": null,
       "align_self": null,
       "border": null,
       "bottom": null,
       "display": null,
       "flex": null,
       "flex_flow": null,
       "grid_area": null,
       "grid_auto_columns": null,
       "grid_auto_flow": null,
       "grid_auto_rows": null,
       "grid_column": null,
       "grid_gap": null,
       "grid_row": null,
       "grid_template_areas": null,
       "grid_template_columns": null,
       "grid_template_rows": null,
       "height": null,
       "justify_content": null,
       "justify_items": null,
       "left": null,
       "margin": null,
       "max_height": null,
       "max_width": null,
       "min_height": null,
       "min_width": null,
       "object_fit": null,
       "object_position": null,
       "order": null,
       "overflow": null,
       "overflow_x": null,
       "overflow_y": null,
       "padding": null,
       "right": null,
       "top": null,
       "visibility": null,
       "width": null
      }
     },
     "ab149c8d26fa4cc5a9ef711cf20be10f": {
      "model_module": "@jupyter-widgets/base",
      "model_module_version": "1.2.0",
      "model_name": "LayoutModel",
      "state": {
       "_model_module": "@jupyter-widgets/base",
       "_model_module_version": "1.2.0",
       "_model_name": "LayoutModel",
       "_view_count": null,
       "_view_module": "@jupyter-widgets/base",
       "_view_module_version": "1.2.0",
       "_view_name": "LayoutView",
       "align_content": null,
       "align_items": null,
       "align_self": null,
       "border": "1px solid black",
       "bottom": null,
       "display": null,
       "flex": null,
       "flex_flow": null,
       "grid_area": null,
       "grid_auto_columns": null,
       "grid_auto_flow": null,
       "grid_auto_rows": null,
       "grid_column": null,
       "grid_gap": null,
       "grid_row": null,
       "grid_template_areas": null,
       "grid_template_columns": null,
       "grid_template_rows": null,
       "height": null,
       "justify_content": null,
       "justify_items": null,
       "left": null,
       "margin": null,
       "max_height": null,
       "max_width": null,
       "min_height": null,
       "min_width": null,
       "object_fit": null,
       "object_position": null,
       "order": null,
       "overflow": null,
       "overflow_x": null,
       "overflow_y": null,
       "padding": null,
       "right": null,
       "top": null,
       "visibility": null,
       "width": null
      }
     },
     "acca8a61ca5841a3ac84a91a0e8fcd6e": {
      "model_module": "@jupyter-widgets/base",
      "model_module_version": "1.2.0",
      "model_name": "LayoutModel",
      "state": {
       "_model_module": "@jupyter-widgets/base",
       "_model_module_version": "1.2.0",
       "_model_name": "LayoutModel",
       "_view_count": null,
       "_view_module": "@jupyter-widgets/base",
       "_view_module_version": "1.2.0",
       "_view_name": "LayoutView",
       "align_content": null,
       "align_items": null,
       "align_self": null,
       "border": null,
       "bottom": null,
       "display": null,
       "flex": null,
       "flex_flow": null,
       "grid_area": null,
       "grid_auto_columns": null,
       "grid_auto_flow": null,
       "grid_auto_rows": null,
       "grid_column": null,
       "grid_gap": null,
       "grid_row": null,
       "grid_template_areas": null,
       "grid_template_columns": null,
       "grid_template_rows": null,
       "height": null,
       "justify_content": null,
       "justify_items": null,
       "left": null,
       "margin": null,
       "max_height": null,
       "max_width": null,
       "min_height": null,
       "min_width": null,
       "object_fit": null,
       "object_position": null,
       "order": null,
       "overflow": null,
       "overflow_x": null,
       "overflow_y": null,
       "padding": null,
       "right": null,
       "top": null,
       "visibility": null,
       "width": null
      }
     },
     "ae5909ea6c6540febbbefed311863d20": {
      "model_module": "@jupyter-widgets/base",
      "model_module_version": "1.2.0",
      "model_name": "LayoutModel",
      "state": {
       "_model_module": "@jupyter-widgets/base",
       "_model_module_version": "1.2.0",
       "_model_name": "LayoutModel",
       "_view_count": null,
       "_view_module": "@jupyter-widgets/base",
       "_view_module_version": "1.2.0",
       "_view_name": "LayoutView",
       "align_content": null,
       "align_items": null,
       "align_self": null,
       "border": null,
       "bottom": null,
       "display": null,
       "flex": null,
       "flex_flow": null,
       "grid_area": null,
       "grid_auto_columns": null,
       "grid_auto_flow": null,
       "grid_auto_rows": null,
       "grid_column": null,
       "grid_gap": null,
       "grid_row": null,
       "grid_template_areas": null,
       "grid_template_columns": null,
       "grid_template_rows": null,
       "height": null,
       "justify_content": null,
       "justify_items": null,
       "left": null,
       "margin": null,
       "max_height": null,
       "max_width": null,
       "min_height": null,
       "min_width": null,
       "object_fit": null,
       "object_position": null,
       "order": null,
       "overflow": null,
       "overflow_x": null,
       "overflow_y": null,
       "padding": null,
       "right": null,
       "top": null,
       "visibility": null,
       "width": null
      }
     },
     "b296d7357c934613bb935c73918993fe": {
      "buffers": [
       {
        "data": "",
        "encoding": "base64",
        "path": [
         "value"
        ]
       }
      ],
      "model_module": "@jupyter-widgets/controls",
      "model_module_version": "1.5.0",
      "model_name": "ImageModel",
      "state": {
       "_dom_classes": [],
       "_model_module": "@jupyter-widgets/controls",
       "_model_module_version": "1.5.0",
       "_model_name": "ImageModel",
       "_view_count": null,
       "_view_module": "@jupyter-widgets/controls",
       "_view_module_version": "1.5.0",
       "_view_name": "ImageView",
       "format": "png",
       "height": "",
       "layout": "IPY_MODEL_0f85c6ae5b5d462cbc8f3626758a00c9",
       "width": ""
      }
     },
     "b532ebcaca58497a9616793dc9a939d0": {
      "model_module": "@jupyter-widgets/base",
      "model_module_version": "1.2.0",
      "model_name": "LayoutModel",
      "state": {
       "_model_module": "@jupyter-widgets/base",
       "_model_module_version": "1.2.0",
       "_model_name": "LayoutModel",
       "_view_count": null,
       "_view_module": "@jupyter-widgets/base",
       "_view_module_version": "1.2.0",
       "_view_name": "LayoutView",
       "align_content": null,
       "align_items": null,
       "align_self": null,
       "border": null,
       "bottom": null,
       "display": null,
       "flex": null,
       "flex_flow": null,
       "grid_area": null,
       "grid_auto_columns": null,
       "grid_auto_flow": null,
       "grid_auto_rows": null,
       "grid_column": null,
       "grid_gap": null,
       "grid_row": null,
       "grid_template_areas": null,
       "grid_template_columns": null,
       "grid_template_rows": null,
       "height": null,
       "justify_content": null,
       "justify_items": null,
       "left": null,
       "margin": null,
       "max_height": null,
       "max_width": null,
       "min_height": null,
       "min_width": null,
       "object_fit": null,
       "object_position": null,
       "order": null,
       "overflow": null,
       "overflow_x": null,
       "overflow_y": null,
       "padding": null,
       "right": null,
       "top": null,
       "visibility": null,
       "width": null
      }
     },
     "b9eb63703c39412eae74ac7523954ecc": {
      "buffers": [
       {
        "data": "iVBORw0KGgoAAAANSUhEUgAAAGQAAABkCAIAAAD/gAIDAAAA6ElEQVR4nO3QwQ3AIBDAsNL9dz5WIC+EZE8QZc3Mx5n/dsBLzArMCswKzArMCswKzArMCswKzArMCswKzArMCswKzArMCswKzArMCswKzArMCswKzArMCswKzArMCswKzArMCswKzArMCswKzArMCswKzArMCswKzArMCswKzArMCswKzArMCswKzArMCswKzArMCswKzArMCswKzArMCswKzArMCswKzArMCswKzArMCswKzArMCswKzArMCswKzArMCswKzArMCswKzArMCswKzArMCswKzArMCswKzArMCswKzArMCjbP8QPFyqa8aAAAAABJRU5ErkJggg==",
        "encoding": "base64",
        "path": [
         "value"
        ]
       }
      ],
      "model_module": "@jupyter-widgets/controls",
      "model_module_version": "1.5.0",
      "model_name": "ImageModel",
      "state": {
       "_dom_classes": [],
       "_model_module": "@jupyter-widgets/controls",
       "_model_module_version": "1.5.0",
       "_model_name": "ImageModel",
       "_view_count": null,
       "_view_module": "@jupyter-widgets/controls",
       "_view_module_version": "1.5.0",
       "_view_name": "ImageView",
       "format": "png",
       "height": "100",
       "layout": "IPY_MODEL_ae5909ea6c6540febbbefed311863d20",
       "width": "100"
      }
     },
     "bcc705387c34490cbd10d875501b8cf1": {
      "buffers": [
       {
        "data": "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",
        "encoding": "base64",
        "path": [
         "value"
        ]
       }
      ],
      "model_module": "@jupyter-widgets/controls",
      "model_module_version": "1.5.0",
      "model_name": "ImageModel",
      "state": {
       "_dom_classes": [],
       "_model_module": "@jupyter-widgets/controls",
       "_model_module_version": "1.5.0",
       "_model_name": "ImageModel",
       "_view_count": null,
       "_view_module": "@jupyter-widgets/controls",
       "_view_module_version": "1.5.0",
       "_view_name": "ImageView",
       "format": "png",
       "height": "",
       "layout": "IPY_MODEL_c4967529d5b140ca87efacb7c8ec6d9f",
       "width": ""
      }
     },
     "bddd7e550cb3480691a3164123b0070b": {
      "buffers": [
       {
        "data": "iVBORw0KGgoAAAANSUhEUgAAAoAAAAGQCAYAAAA+89ElAAAABmJLR0QAkwDPAIwRGPjJAAAACXBIWXMAAAsTAAALEwEAmpwYAAAAB3RJTUUH4wwVFQcifv8/mAAAAB1pVFh0Q29tbWVudAAAAAAAQ3JlYXRlZCB3aXRoIEdJTVBkLmUHAAARcElEQVR42u3de5TWdYHH8c8zDLdRuSggIkIqigJaXgjDG6mZQpq43vJaXirPUfPs8VLbZautbdtsN6uzbi1q5qpZXlY9bkapQYIgomheAAEFRUDYhoszwMwwz/4x8ADCjKAz8oCv1x+e38zz+/2e5/s9cs57fren8LNnbygGAIAPjQpTAAAgAAEAEIAAAAhAAAAEIAAAAhAAAAEIAIAABABAAAIAIAABABCAAAAIQAAABCAAAAIQAEAAAgAgAAEAEIAAAAhAAAAEIAAAAhAAAAEIAIAABABAAAIAIAABABCAAAAIQAAABCAAAAIQAEAAAgAgAAEAEIAAAAhAAAAEIAAAAhAAAAEIAIAABABAAAIAIAABABCAAAAIQAAABCAAgAAEAEAAAgAgAAEAEIAAAAhAAAAEIAAAAhAAAAEIAIAABABAAAIAIAABABCAAAAIQAAABCAAgAAEAEAAAgAgAAEAEIAAAAhAAAAEIAAAAhAAAAEIAIAABABAAAIAIAABABCAAAAIQAAAAQgAgAAEAEAAAgAgAAEAEIAAAAhAAAAEIAAAAhAAAAEIAIAABABAAAIAIAABABCAAAAIQAAAAQgAgAAEAEAAAgAgAAEAEIAAAAhAAAAEIAAAAhAAAAEIAIAABABAAAIAIAABABCAAAAIQAAAAUhbKBaLSYomAgAQgAAACEAAAAQgAACtpdIUtK5iYzEpJIVCUkxh7WV/rv0DAATgjhl/xWIKFYXSz4W1/9GAAIAA3GEDsLD2yF9x4+ArJIVCQQUCAAJwR1OoKKZYbDoC2BR868KwuPZwIADAtucmkNYMwLXnejeMv3Ux6NgfACAAP3RxKAEBAAG4wymuveuj+I7YazoF7BwwAFAeXAPYmgHYWEhFRdOtHhtFoPYDAATgjqlQKCYppJDCRtG3LggdBAQABOAOF4CFFBvXhV4hKRQ9AxAAEIA7fARWbHiYr1B6GDQAQLlwEwgAgAAEAEAAAgAgAAEAEIAAAAhAAAAEIAAAAhAAAAEIAIAABABAAAIAIAABABCAAAAIQAAAAQgAgAAEAEAAAgAgAAEAEIAAAAhAAAAEIAAAAhAAAAEIAIAABABAAAIAIAABABCAAAAIQAAAAQgAwA6u0hTwQZn1zJxMfeTZzJo6J8veWpaGhjXp1qtrevXvmSHHDMrBIwanS48uW7XPYrGYGy+9KbOfmVP63eU/vzSDjjxgi7ad+si0TPnfqZk/483ULK1JVdeq7DGgdw4/6ZB8/DOHp6Ldtv0bqVzGtz3MFQACkDKy4m8r8pvv3ZvnH39hk9cWz1uSxfOW5MW/vJxJD0zJNbdftVX7nnDPkxvF0ZaqWVabm6+5La88PXuj3y9fsiLLl6zIjEmv5Il7JuWyH1+Urr26brO5K4fxbS9zBcCW8yc7bWrZ4uW58ZL/2Gz8vV9L31qWB258OElS1aXzFm/XUN+QX159yyZB805zX5iXm64ck9W1q7fJ3JXD+LaXuQJg6zgCSJtpbGzMmGtuy6LXFpd+d9hJH8snRg9L3/37pNPOnVKztCbzZy7IX8e9mGWLl2/V/u/+/r1ZVbM6g448IJ126phnxj63RduNv3tC5kx7rfTzsZ87KkefNTy79tk1yxYvy5P3P5U/3vpYio3FzJ+5IGNveSynXHHyBz5/5TC+7WWuANg6jgDSZv5y98S89vzcJEmhUMiF3z83n//B+Rn48f2yU7ed0q6yXbr06JIDhw/MWV87PZf92+e3eN9T/zAtL4x/KR2rOuacb5yxxdutqV+TsTc/Wvr51KtG5ozrTsvuH+mV9h0q02PP3XLKFSdvtM/H7xiflStWfqBzVw7j217mCgABSJlobGzMo7ePK/183AXHZujIQ1tl3zVLa3LPD/8nSXLa1aPSvXe3Ld52xlOvpGZpbZKkR9/dcvxFIza73vDRw9Jv8F5JkvpV9XnhLy9/YHNXLuPbHuYKAAFIGZk5eVaqF1QnSdp3ap9PX3ZCq+373hsezNvVb2fAYfvkyDM+sVXbvjRxeml56KjDUlHR/D+BYaccXlp+ecL0jV6bPe3VfOXw63LlIdfkWyd/LzVLa5rdz+J5S3LtUV/PlYdck2uP+noWz1tS9uNr7X0BIAD5EJi1wZ2rB48YnM47d2qV/b48cUamPDw17TtW5txvnZVCobBV2y+YtbC0POCwfVpcd7/D9y0tv7nBdkmy78f2zqlXjUySVC9cmtu+fmeKxeIm+6hbVZ+br70tq2qabo4479tnp2e/HmU/vtbeFwDlxU0gtIl5L72+Ph4ObYqHlyZMz+P/PT6vT38jq2vrsstuu2Tvg/pl6GcOy5CjB73rPlevXJ27vndPkmTU5Se1GFLNeWvu+htSevXv2eK6Pfv1SKFQSLFYzFvzFm/y+vEXjsicaa/l+cdfyMsTZ+SR//pTTv7ipzZa57c/uC/zZy5Ikow49+h87ISDt5vxtea+ACgvjgDSJpYvWX9Hb5/9+uS+Gx7MTVeMyfRJM1OztDYNdQ2pXlCdZ8Y+l19cdUtuumJMat/l5oGHfvb7VC+oTr/Be+WT5x/znj7XyhWrSstdeuzS8l9H7StT1bXp8Sv1q+qzpn7NJuuc/52z06PvbkmS3//n2MyY/ErptUkPTsnkB6ckST5ycP+cdvVntqvxtfZcASAA2cHVbhAP0/70fB6/Y3yL6780YXp+efWtzYbDq8/PzfjfTEhFZUXO+8ez3vO3TtStrFsbLO1avKZtnQ6dOpSWV6/c9Bl3nXfpnEtuuDCVHSpTLBbzq6/dkWVvLcv8mW/mt/98b5Jkp25VufhfL0i79u2afZ9yHF9rzxUA5cMpYNpEsbGxtDzuN0+kUCjkmHOOzPDRw9KzX480rmnM69Pn59Hb/pwXxr+UJJn9zJxMuG9Sjjn7yI321VDfkDu/89sUi8WcdMkJ6bPfHh/cODZzXd879R24Z868fnTu+qff5e3qt3PLdbdnRfXbqV/dkEKhkIu+f1667978nbzlPr5tsS8A2pYjgLSJTjutv+mjcU1jzvnmGTnjutPSZ7890r5j+3Ss6pgBh+6TL914cYaPHlZa94nfPbnJvv4w5tEsnLMoe+zbOydecvz7+lwdOndYG11r0rhBpDanfnV9ablj547Nrjf89GH5+No7Yec891rpTt9PX3ZCDhw+sMX3KNfxtdVcASAA2UF13mV9APbeZ/eNIu+dPnv1qFRUNv2vuGD2wtQury29tmD2wvzxlsdSqCjk3G+flcr2la32uZYvWdHiug31Dald1nRdYvtO7Vs8hZskZ3/t9I2+sm3vj/bPyV/6VIvblPP42nKuANi2nAKmTfTq3yuvPtf0LSD9h/Rrcd2qLlXZvX+vLJi9sBQbVV2qkiRTHp6aNQ1N1wX++IKfbtF733TFmPVR9g+n56gzh2/wuXpm6aJlSZrucu3Wq2uz+1k8b0nptGavfj3f9X0n3jc5tctXbhB3i/K3N6tLN4lsTjmPry3nCoBtyxFA2sSe+7+P69g2ePZda19WtseA3qXlWVPntLjuK0/PLi332WC7zXntr3Nz/08eSpJ0WvvMw1Vvr8rN1/469XUNzW5XzuNrq7kCQACygxp81IEbxVFLapfXZtHct0o/d32XR468Hwd+Yv31eFMentritW2TH3q6tHxAC9fx1SyrzS3X3Z7GhsZUtKvIl396SY78uyOSJG9Mn597f/TABzbvrTm+tpgrAMqDU8C0iV79e6bvwD55Y8abWfTqW5l4/+RmrwN84CcPp7GhKS72OrBvOu+y/jq6z35lVD77lVHv+n63Xn97nhn7XJLk8p9fmkFHHrDZ9QYO2y9VXatSu6w2S974vzx625/zqS8ct8l6E++fnHkvNj3Mun3Hygw5ZvMPqi4Wi/n1N+5M9cKlSZJTrxyZfQ/ZO/0G75W5L76eN6bPz4R7nsyAQ/fJ4Scfssn25Ty+1p4rAMpHu5FfPvHbpoG20H33bnn6988mSV4c/3JqltemW6+u6bRL5zTU1WfuC6/ndz+8P1MfmVba5tSrRqbvwD5b/V7T/vR8FsxelCQZOvLQZr9Fo6JdRSoqCpk+aWaSZMbkV1K7vDa77blrOlZ1TPXC6jx2+/g8cOPDydrTs8dfNKLZbyoZe/NjmXDvpCTJQSMG58zrRzf9w2pXkQOO2D9PPfR0Guoa8vLEGfnocQdl5+47vae53Bbja+25AqB8OAJImxl89IEZdurQTH5wSorFYsbd+UTG3flEs+sPOXZQho46tM0/1zHnHJXnHvtr6SaVcXc9kXF3bf5z7TGgd068+LjNvvbK07Py8E2PJEl267Nrzv/uORu93qPvbjnvu+dkzN//KnUr63LLtb/ONbdfVXq8SrmPr7X3BUD5cA0gbepz3zwjw08/4l3XGzry0HzhXy7Yom+ceL/ad6jMF//94gw4bJ8W19trUN9c/vNLN3qm4TrLlyzPrV+9I8XGYirbt8vFP7owVRucul7no58ckuMuODZJ0yNf7v7BfdvF+NpiXwCUD6eAadu/MCoqctCxgzLwiP1SLCara1anvq4h7SrbZdc9uuegEUNy5ldH55PnHZN2le/92XFbeop0nQ6dO2TYKYenZ7+eqVtVl7qVdWmoW5Odu++cjxzULydecnzOvH506XE0G2pc05hfXH1rFq59bM0Z14/OwSMGN/te+w8dkJlPzUr1oqWZP/PNdO/dLXsdsGfZjq8t9wVAeSj87NkbfH8TAMCHiFPAAAACEAAAAQgAgAAEAEAAAgAgAAEAEIAAAAhAAAAEIAAAAhAAAAEIAIAABABAAAIAIAABAAQgAAACEAAAAQgAgAAEAEAAAgAgAAEAEIAAAAhAAAAEIAAAAhAAAAEIAIAABABAAAIAIAABAAQgAAACEAAAAQgAgAAEAEAAAgAgAAEAEIAAAAhAAAAEIAAAAhAAAAEIAIAABABAAAIACEAAAAQgAAACEAAAAQgAgAAEAEAAAgAgAAEAEIAAAAhAAAAEIAAAAhAAAAEIAIAABABAAAIACEAAAAQgAAACEAAAAQgAgAAEAEAAAgAgAAEAEIAAAAhAAAAEIAAAAhAAAAEIAIAABAAQgAAACEAAAAQgAAACEAAAAQgAgAAEAEAAAgAgAAEAEIAAAAhAAAAEIAAAAhAAAAEIAIAABAAQgAAACEAAAAQgAAACEAAAAQgAgAAEAEAAAgAgAAEAEIAAAAhAAAAEIAAAAhAAAAEIAIAABAAQgAAACEAAAAQgAAACEAAAAQgAgAAEAEAAAgAgAAEAEIAAAAhAAAAEIAAAAhAAAAEIACAAAQAQgAAACEAAAAQgAAACEAAAAQgAgAAEAEAAAgAgAAEAEIAAAAhAAAAEIAAAAhAAAAEIACAAAQAQgAAACEAAAAQgAAACEAAAAQgAgAAEAEAAAgAgAAEAEIAAAAhAAAAEIAAAAhAAQAACACAAAQAQgAAACEAAAAQgAAACEAAAAQgAgAAEAEAAAgAgAAEAEIAAAAhAAAAEIAAAAhAAQAACACAAAQAQgAAACEAAAAQgAAACEAAAAQgAgAAEAEAAAgAgAAEAEIAAAAhAAAAEIACAADQFAAACEAAAAQgAgAAEAEAAAgAgAAEAEIAAAAhAAAAEIAAAAhAAAAEIAIAABABAAAIAIAABAAQgAAACEAAAAQgAgAAEAEAAAgAgAAEAEIAAAAhAAAAEIAAAAhAAAAEIAIAABABAAAIAIAABAAQgAAACEAAAAQgAgAAEAEAAAgAgAAEAEIAAAAhAAAAEIAAAAhAAAAEIAIAABABAAAIACEAAAAQgAAACEAAAAQgAgAAEAEAAAgAgAAEAEIAAAAhAAAAEIAAAAhAAAAEIAIAABABAAAIACEAAAAQgAAACEAAAAQgAgAAEAEAAAgAgAAEAEIAAAAhAAAAEIAAAAhAAAAEIAIAABAAQgAAACEAAAAQgAAACEAAAAQgAQLn7f27d+Z2nVuXvAAAAAElFTkSuQmCC",
        "encoding": "base64",
        "path": [
         "value"
        ]
       }
      ],
      "model_module": "@jupyter-widgets/controls",
      "model_module_version": "1.5.0",
      "model_name": "ImageModel",
      "state": {
       "_dom_classes": [],
       "_model_module": "@jupyter-widgets/controls",
       "_model_module_version": "1.5.0",
       "_model_name": "ImageModel",
       "_view_count": null,
       "_view_module": "@jupyter-widgets/controls",
       "_view_module_version": "1.5.0",
       "_view_name": "ImageView",
       "format": "png",
       "height": "",
       "layout": "IPY_MODEL_51de97dee2a6469db5f867151e20d65e",
       "width": ""
      }
     },
     "bf3d3c59e81d4973b3ccbac3ba3e3e01": {
      "model_module": "@jupyter-widgets/controls",
      "model_module_version": "1.5.0",
      "model_name": "LabelModel",
      "state": {
       "_dom_classes": [],
       "_model_module": "@jupyter-widgets/controls",
       "_model_module_version": "1.5.0",
       "_model_name": "LabelModel",
       "_view_count": null,
       "_view_module": "@jupyter-widgets/controls",
       "_view_module_version": "1.5.0",
       "_view_name": "LabelView",
       "description": "",
       "description_tooltip": null,
       "layout": "IPY_MODEL_9119ac97553f447ebb9520622d956a74",
       "placeholder": "​",
       "style": "IPY_MODEL_6740b860360444bf9466f7deb6d65f0a",
       "value": "blocks_1.png"
      }
     },
     "c0645286c62f44859e05ad0e7a70b73e": {
      "model_module": "@jupyter-widgets/controls",
      "model_module_version": "1.5.0",
      "model_name": "HBoxModel",
      "state": {
       "_dom_classes": [],
       "_model_module": "@jupyter-widgets/controls",
       "_model_module_version": "1.5.0",
       "_model_name": "HBoxModel",
       "_view_count": null,
       "_view_module": "@jupyter-widgets/controls",
       "_view_module_version": "1.5.0",
       "_view_name": "HBoxView",
       "box_style": "",
       "children": [
        "IPY_MODEL_152df40a694943f4858c9063453e99a2"
       ],
       "layout": "IPY_MODEL_a5a7adba83664b55bfde8c8d0b8117e9"
      }
     },
     "c2fa03a07a2e48f5b768102be5ce2d89": {
      "model_module": "@jupyter-widgets/base",
      "model_module_version": "1.2.0",
      "model_name": "LayoutModel",
      "state": {
       "_model_module": "@jupyter-widgets/base",
       "_model_module_version": "1.2.0",
       "_model_name": "LayoutModel",
       "_view_count": null,
       "_view_module": "@jupyter-widgets/base",
       "_view_module_version": "1.2.0",
       "_view_name": "LayoutView",
       "align_content": null,
       "align_items": null,
       "align_self": null,
       "border": null,
       "bottom": null,
       "display": null,
       "flex": null,
       "flex_flow": null,
       "grid_area": null,
       "grid_auto_columns": null,
       "grid_auto_flow": null,
       "grid_auto_rows": null,
       "grid_column": null,
       "grid_gap": null,
       "grid_row": null,
       "grid_template_areas": null,
       "grid_template_columns": null,
       "grid_template_rows": null,
       "height": null,
       "justify_content": null,
       "justify_items": null,
       "left": null,
       "margin": null,
       "max_height": null,
       "max_width": null,
       "min_height": null,
       "min_width": null,
       "object_fit": null,
       "object_position": null,
       "order": null,
       "overflow": null,
       "overflow_x": null,
       "overflow_y": null,
       "padding": null,
       "right": null,
       "top": null,
       "visibility": null,
       "width": null
      }
     },
     "c3967e3258124bb78f1eb3f33f869007": {
      "model_module": "@jupyter-widgets/base",
      "model_module_version": "1.2.0",
      "model_name": "LayoutModel",
      "state": {
       "_model_module": "@jupyter-widgets/base",
       "_model_module_version": "1.2.0",
       "_model_name": "LayoutModel",
       "_view_count": null,
       "_view_module": "@jupyter-widgets/base",
       "_view_module_version": "1.2.0",
       "_view_name": "LayoutView",
       "align_content": null,
       "align_items": null,
       "align_self": null,
       "border": null,
       "bottom": null,
       "display": null,
       "flex": null,
       "flex_flow": null,
       "grid_area": null,
       "grid_auto_columns": null,
       "grid_auto_flow": null,
       "grid_auto_rows": null,
       "grid_column": null,
       "grid_gap": null,
       "grid_row": null,
       "grid_template_areas": null,
       "grid_template_columns": null,
       "grid_template_rows": null,
       "height": null,
       "justify_content": null,
       "justify_items": null,
       "left": null,
       "margin": null,
       "max_height": null,
       "max_width": null,
       "min_height": null,
       "min_width": null,
       "object_fit": null,
       "object_position": null,
       "order": null,
       "overflow": null,
       "overflow_x": null,
       "overflow_y": null,
       "padding": null,
       "right": null,
       "top": null,
       "visibility": null,
       "width": null
      }
     },
     "c4967529d5b140ca87efacb7c8ec6d9f": {
      "model_module": "@jupyter-widgets/base",
      "model_module_version": "1.2.0",
      "model_name": "LayoutModel",
      "state": {
       "_model_module": "@jupyter-widgets/base",
       "_model_module_version": "1.2.0",
       "_model_name": "LayoutModel",
       "_view_count": null,
       "_view_module": "@jupyter-widgets/base",
       "_view_module_version": "1.2.0",
       "_view_name": "LayoutView",
       "align_content": null,
       "align_items": null,
       "align_self": null,
       "border": null,
       "bottom": null,
       "display": null,
       "flex": null,
       "flex_flow": null,
       "grid_area": null,
       "grid_auto_columns": null,
       "grid_auto_flow": null,
       "grid_auto_rows": null,
       "grid_column": null,
       "grid_gap": null,
       "grid_row": null,
       "grid_template_areas": null,
       "grid_template_columns": null,
       "grid_template_rows": null,
       "height": null,
       "justify_content": null,
       "justify_items": null,
       "left": null,
       "margin": null,
       "max_height": null,
       "max_width": null,
       "min_height": null,
       "min_width": null,
       "object_fit": null,
       "object_position": null,
       "order": null,
       "overflow": null,
       "overflow_x": null,
       "overflow_y": null,
       "padding": null,
       "right": null,
       "top": null,
       "visibility": null,
       "width": null
      }
     },
     "c51731a584fc482ca230b84b424de995": {
      "model_module": "@jupyter-widgets/base",
      "model_module_version": "1.2.0",
      "model_name": "LayoutModel",
      "state": {
       "_model_module": "@jupyter-widgets/base",
       "_model_module_version": "1.2.0",
       "_model_name": "LayoutModel",
       "_view_count": null,
       "_view_module": "@jupyter-widgets/base",
       "_view_module_version": "1.2.0",
       "_view_name": "LayoutView",
       "align_content": null,
       "align_items": null,
       "align_self": null,
       "border": null,
       "bottom": null,
       "display": null,
       "flex": null,
       "flex_flow": null,
       "grid_area": null,
       "grid_auto_columns": null,
       "grid_auto_flow": null,
       "grid_auto_rows": null,
       "grid_column": null,
       "grid_gap": null,
       "grid_row": null,
       "grid_template_areas": null,
       "grid_template_columns": null,
       "grid_template_rows": null,
       "height": null,
       "justify_content": null,
       "justify_items": null,
       "left": null,
       "margin": null,
       "max_height": null,
       "max_width": null,
       "min_height": null,
       "min_width": null,
       "object_fit": null,
       "object_position": null,
       "order": null,
       "overflow": null,
       "overflow_x": null,
       "overflow_y": null,
       "padding": null,
       "right": null,
       "top": null,
       "visibility": null,
       "width": null
      }
     },
     "c518759a6c554a91a8af5c3f89ef446b": {
      "model_module": "@jupyter-widgets/output",
      "model_module_version": "1.0.0",
      "model_name": "OutputModel",
      "state": {
       "_dom_classes": [],
       "_model_module": "@jupyter-widgets/output",
       "_model_module_version": "1.0.0",
       "_model_name": "OutputModel",
       "_view_count": null,
       "_view_module": "@jupyter-widgets/output",
       "_view_module_version": "1.0.0",
       "_view_name": "OutputView",
       "layout": "IPY_MODEL_ab149c8d26fa4cc5a9ef711cf20be10f",
       "msg_id": "",
       "outputs": []
      }
     },
     "c6dea929ab09413689f2c64980f08d01": {
      "model_module": "@jupyter-widgets/output",
      "model_module_version": "1.0.0",
      "model_name": "OutputModel",
      "state": {
       "_dom_classes": [],
       "_model_module": "@jupyter-widgets/output",
       "_model_module_version": "1.0.0",
       "_model_name": "OutputModel",
       "_view_count": null,
       "_view_module": "@jupyter-widgets/output",
       "_view_module_version": "1.0.0",
       "_view_name": "OutputView",
       "layout": "IPY_MODEL_0c9b180627e948b0b6d521a76c8c5d9a",
       "msg_id": "",
       "outputs": []
      }
     },
     "cbd71f45dd4a4c48b2a9ef27ae601ce9": {
      "model_module": "@jupyter-widgets/controls",
      "model_module_version": "1.5.0",
      "model_name": "VBoxModel",
      "state": {
       "_dom_classes": [],
       "_model_module": "@jupyter-widgets/controls",
       "_model_module_version": "1.5.0",
       "_model_name": "VBoxModel",
       "_view_count": null,
       "_view_module": "@jupyter-widgets/controls",
       "_view_module_version": "1.5.0",
       "_view_name": "VBoxView",
       "box_style": "",
       "children": [
        "IPY_MODEL_b9eb63703c39412eae74ac7523954ecc"
       ],
       "layout": "IPY_MODEL_46145201285f450e840255ff22d0585e"
      }
     },
     "cd7f2a5830ed4016974ba79d8c1a6863": {
      "model_module": "ipycanvas",
      "model_module_version": "^0.10.2",
      "model_name": "CanvasModel",
      "state": {
       "_dom_classes": [],
       "_model_module": "ipycanvas",
       "_model_module_version": "^0.10.2",
       "_model_name": "CanvasModel",
       "_send_client_ready_event": true,
       "_view_count": null,
       "_view_module": "ipycanvas",
       "_view_module_version": "^0.10.2",
       "_view_name": "CanvasView",
       "height": 300,
       "image_data": null,
       "layout": "IPY_MODEL_44b7ae5d79b1449796a2a196979311dc",
       "sync_image_data": false,
       "width": 600
      }
     },
     "ce15a438da394db6bc507aa9120f14ec": {
      "model_module": "@jupyter-widgets/controls",
      "model_module_version": "1.5.0",
      "model_name": "VBoxModel",
      "state": {
       "_dom_classes": [],
       "_model_module": "@jupyter-widgets/controls",
       "_model_module_version": "1.5.0",
       "_model_name": "VBoxModel",
       "_view_count": null,
       "_view_module": "@jupyter-widgets/controls",
       "_view_module_version": "1.5.0",
       "_view_name": "VBoxView",
       "box_style": "",
       "children": [
        "IPY_MODEL_01f8a9a82d384e4aabd7d92a52e690c1",
        "IPY_MODEL_58d85234548e4ed2b733e55ce3e1b326"
       ],
       "layout": "IPY_MODEL_c51731a584fc482ca230b84b424de995"
      }
     },
     "ce6f6ff8bbc34cc6ad4f77d4da9831e0": {
      "model_module": "@jupyter-widgets/base",
      "model_module_version": "1.2.0",
      "model_name": "LayoutModel",
      "state": {
       "_model_module": "@jupyter-widgets/base",
       "_model_module_version": "1.2.0",
       "_model_name": "LayoutModel",
       "_view_count": null,
       "_view_module": "@jupyter-widgets/base",
       "_view_module_version": "1.2.0",
       "_view_name": "LayoutView",
       "align_content": null,
       "align_items": null,
       "align_self": null,
       "border": null,
       "bottom": null,
       "display": null,
       "flex": null,
       "flex_flow": null,
       "grid_area": null,
       "grid_auto_columns": null,
       "grid_auto_flow": null,
       "grid_auto_rows": null,
       "grid_column": null,
       "grid_gap": null,
       "grid_row": null,
       "grid_template_areas": null,
       "grid_template_columns": null,
       "grid_template_rows": null,
       "height": null,
       "justify_content": null,
       "justify_items": null,
       "left": null,
       "margin": null,
       "max_height": null,
       "max_width": null,
       "min_height": null,
       "min_width": null,
       "object_fit": null,
       "object_position": null,
       "order": null,
       "overflow": null,
       "overflow_x": null,
       "overflow_y": null,
       "padding": null,
       "right": null,
       "top": null,
       "visibility": null,
       "width": null
      }
     },
     "d37ec120a0b64a4a876e81f2e0ea11ca": {
      "model_module": "@jupyter-widgets/base",
      "model_module_version": "1.2.0",
      "model_name": "LayoutModel",
      "state": {
       "_model_module": "@jupyter-widgets/base",
       "_model_module_version": "1.2.0",
       "_model_name": "LayoutModel",
       "_view_count": null,
       "_view_module": "@jupyter-widgets/base",
       "_view_module_version": "1.2.0",
       "_view_name": "LayoutView",
       "align_content": null,
       "align_items": null,
       "align_self": null,
       "border": null,
       "bottom": null,
       "display": null,
       "flex": null,
       "flex_flow": null,
       "grid_area": null,
       "grid_auto_columns": null,
       "grid_auto_flow": null,
       "grid_auto_rows": null,
       "grid_column": null,
       "grid_gap": null,
       "grid_row": null,
       "grid_template_areas": null,
       "grid_template_columns": null,
       "grid_template_rows": null,
       "height": null,
       "justify_content": null,
       "justify_items": null,
       "left": null,
       "margin": null,
       "max_height": null,
       "max_width": null,
       "min_height": null,
       "min_width": null,
       "object_fit": null,
       "object_position": null,
       "order": null,
       "overflow": null,
       "overflow_x": null,
       "overflow_y": null,
       "padding": null,
       "right": null,
       "top": null,
       "visibility": null,
       "width": null
      }
     },
     "d6613e2ce8c947289cab226c9acd6bc5": {
      "model_module": "@jupyter-widgets/base",
      "model_module_version": "1.2.0",
      "model_name": "LayoutModel",
      "state": {
       "_model_module": "@jupyter-widgets/base",
       "_model_module_version": "1.2.0",
       "_model_name": "LayoutModel",
       "_view_count": null,
       "_view_module": "@jupyter-widgets/base",
       "_view_module_version": "1.2.0",
       "_view_name": "LayoutView",
       "align_content": null,
       "align_items": null,
       "align_self": null,
       "border": null,
       "bottom": null,
       "display": null,
       "flex": null,
       "flex_flow": null,
       "grid_area": null,
       "grid_auto_columns": null,
       "grid_auto_flow": null,
       "grid_auto_rows": null,
       "grid_column": null,
       "grid_gap": null,
       "grid_row": null,
       "grid_template_areas": null,
       "grid_template_columns": null,
       "grid_template_rows": null,
       "height": null,
       "justify_content": null,
       "justify_items": null,
       "left": null,
       "margin": null,
       "max_height": null,
       "max_width": null,
       "min_height": null,
       "min_width": null,
       "object_fit": null,
       "object_position": null,
       "order": null,
       "overflow": null,
       "overflow_x": null,
       "overflow_y": null,
       "padding": null,
       "right": null,
       "top": null,
       "visibility": null,
       "width": null
      }
     },
     "d726ebf6a9a94a4197c862f85c17b7a4": {
      "buffers": [
       {
        "data": "iVBORw0KGgoAAAANSUhEUgAAAMgAAADICAIAAAAiOjnJAAAAAXNSR0IArs4c6QAAAARnQU1BAACxjwv8YQUAAAAJcEhZcwAAEOoAABDqAYLTCpgAAAaRSURBVHhe7d3RVeM6GEVh6qIg6qEamqEYRrZkx4li2GdwgrzW/l5GKCH+R+dcyNyH+OVL2MuLx0V5UgGLxQ16UmNGaLE4ixWwWJzFCjgVZ7ECTsVZrMBPU32+v768vL5/ti/r17O3j72d3ysv1lYjsViBb6f6eCud+nh/XYs1lajWZ36o7PY7R9if6qbo5aKLZfMRRa/OUqynHsqecqm22lNm2oy3ZlrX/U5d/9LOVF3Ry87NJcsQPxV9Pfft5G1rOfZ+p7gz093nPVm5eFs1/3Moh+um6pSpllk2y7bud+r6l76b6uoyt2f48zyf7291szxcT3tdrMfe78y6mXae92Q/Fmt7ENv1Q52+WOWps7qXzNPK0H/L3ovczrT3vCcrf/m2an5zKIcpV2+rPZtR+gkfNPN3U92/zG5L6vqO5eH+W/Ze5CzFWuWHcpyoWNOa/db4pbxY0+XLHDfD7g90ebD/lr0XOV2x0kM50rfFKnNdrPWp1vH6nd8rr9ZWvbtHUzaTom8f64+936nrsxWrzJQcyrG+i/Dv7Ey1dnhS/1NsX2z+VfZT0dfjXvTHvhNEN9NfBNYrf9W2mv3XoRyvXKutRvLAqdYjntVz7o/9bhB3Znp+YL1y9bYaiVNxI85UGCFnsQJGyFmsgBFyFitghJzFChghZ7ECRshZrIARchYrYIScxQoYIWexAkbIWayAEXIWK2CEnMUKGCFnsQJGyFmsgBFyFitghJzFChghZ7ECRshZrIARchYrYIScxQoYIWexAkbIWayAEXIWK2CEnMUKGCFnsQJGyFmsgBFyFitghNzgxdp8sMjyYSCXz3hZP+HlWco122okTsVtinXz4TJ/+nlGRsidrFilV+vGdv0cRsgNX6wy4Kx2yGL1nIrrZ2q/+CxWz6m4NlMZTjpSLdZF+elUfxlOC9+8X3Eqrs00tWjxh58euyoXbauROBU34kyFEXIWK2CEnMUKGCFnsQJGyFmsgBFyFitghJzFChghZ7ECRshZrIARchYrYIScxQoYIWexAkbIWayAEXIWK2CEnMUKGCFnsQJGyFmsgBFyFitghJzFChghZ7ECRshZrIARchYrYIScxQoYIWexAkbIWayAEXIWK2CEnMUKGCFnsQJGyFmsgBFyFitghJzFChghZ7ECRshZrIARchYrYIScxQoYIWexAkbIWayAEXIWK2CEnMUKGCFnsQJGyFmsgBFypyjWfIeKzY0oLnesWO5X0e88Qnn5thqJU3HbmeZ75nxc3/Xr5nY6/c5jGCE3frFmpTpLYTbLtu536vpwRshZrIARchYrYIScxQoYITd0scpw0pFqsWbrjS8n67/9qvWHU7/zCOX122okTsWNOFNhhJzFChghZ7ECRshZrIARchYrYIScxQoYIWexAkbIWayAEXIWK2CEnMUKGCFnsQJGyFmsgBFyFitghJzFChghZ7ECRshZrIARchYrYIScxQoYIWexAkbIWayAEXIWK2CEnMUKGCFnsQJGyFmsgBFyFitghJzFChghZ7ECRshZrIARchYrYIScxQoYIWexAkbIWayAEXIWK2CEnMUKGCFnsQJGyFmsgBFyFitghJzFChghZ7ECRshZrIARchYrYIScxQoYIXeKYn1e32F1cxOUZXN+xsw7rI5h0Knan5P5pqnbO6yWnZs75ky18g6rYxm/WLOru8XdFmv74NUTj2aE3DmLVaae1T2L1VYjGXSq9ufqfl/aLz6L1VYjOXWxpmaV91YWq61GMm6xymTSwWq/Zpd3VEX9+dS+2Py/hfVJj/txVZTXb6uROBU34kyFEXIWK2CEnMUKGCFnsQJGyFmsgBFyFitghJzFChghZ7ECRshZrIARchYrYIScxQoYIWexAkbIWayAEXIWK2CEnMUKGCFnsQJGyFmsgBFyFitghJzFChghZ7ECRshZrIARchYrYIScxQoYIWexAkbIWayAEXIWK2CEnMUKGCFnsQJGyFmsgBFyFitghNw5itV/StHlw4yWjzLqdw5XXrutRuJU3PVMn+9vtU9Td+bWrIvl0yLv7DyAEXJnKNZFK01p0fZHV1n3O3V9LCPkTlWspTIWa8upuLszXQpjsbacirsz0/atk8XaciruZqZSles35NOGb94bp+KuZypV2aitWffWEvU7hysv3lYjcSpuxJkKI+QsVsAIOYsVMELOYgWMkLNYASPkLFbACDmLFTBCzmIFjJCzWAEj5CxWwAjP7evrH+59EyPBzAjTAAAAAElFTkSuQmCC",
        "encoding": "base64",
        "path": [
         "value"
        ]
       }
      ],
      "model_module": "@jupyter-widgets/controls",
      "model_module_version": "1.5.0",
      "model_name": "ImageModel",
      "state": {
       "_dom_classes": [],
       "_model_module": "@jupyter-widgets/controls",
       "_model_module_version": "1.5.0",
       "_model_name": "ImageModel",
       "_view_count": null,
       "_view_module": "@jupyter-widgets/controls",
       "_view_module_version": "1.5.0",
       "_view_name": "ImageView",
       "format": "png",
       "height": "",
       "layout": "IPY_MODEL_569b80adf0044672af656786aa5f2b70",
       "width": ""
      }
     },
     "d75f852a71554fd59e41f4399027cef4": {
      "model_module": "@jupyter-widgets/base",
      "model_module_version": "1.2.0",
      "model_name": "LayoutModel",
      "state": {
       "_model_module": "@jupyter-widgets/base",
       "_model_module_version": "1.2.0",
       "_model_name": "LayoutModel",
       "_view_count": null,
       "_view_module": "@jupyter-widgets/base",
       "_view_module_version": "1.2.0",
       "_view_name": "LayoutView",
       "align_content": null,
       "align_items": null,
       "align_self": null,
       "border": null,
       "bottom": null,
       "display": null,
       "flex": null,
       "flex_flow": null,
       "grid_area": null,
       "grid_auto_columns": null,
       "grid_auto_flow": null,
       "grid_auto_rows": null,
       "grid_column": null,
       "grid_gap": null,
       "grid_row": null,
       "grid_template_areas": null,
       "grid_template_columns": null,
       "grid_template_rows": null,
       "height": null,
       "justify_content": null,
       "justify_items": null,
       "left": null,
       "margin": null,
       "max_height": null,
       "max_width": null,
       "min_height": null,
       "min_width": null,
       "object_fit": null,
       "object_position": null,
       "order": null,
       "overflow": null,
       "overflow_x": null,
       "overflow_y": null,
       "padding": null,
       "right": null,
       "top": null,
       "visibility": null,
       "width": null
      }
     },
     "df8e2811f9d045fea712235fc93d5b9d": {
      "model_module": "@jupyter-widgets/controls",
      "model_module_version": "1.5.0",
      "model_name": "LabelModel",
      "state": {
       "_dom_classes": [],
       "_model_module": "@jupyter-widgets/controls",
       "_model_module_version": "1.5.0",
       "_model_name": "LabelModel",
       "_view_count": null,
       "_view_module": "@jupyter-widgets/controls",
       "_view_module_version": "1.5.0",
       "_view_name": "LabelView",
       "description": "",
       "description_tooltip": null,
       "layout": "IPY_MODEL_02f7b22979154680802be402d3aa4f50",
       "placeholder": "​",
       "style": "IPY_MODEL_f86e45b9929d46f9975c20f91b06d6a4",
       "value": ""
      }
     },
     "e016128b61a24417a1739e109f2c490b": {
      "model_module": "@jupyter-widgets/base",
      "model_module_version": "1.2.0",
      "model_name": "LayoutModel",
      "state": {
       "_model_module": "@jupyter-widgets/base",
       "_model_module_version": "1.2.0",
       "_model_name": "LayoutModel",
       "_view_count": null,
       "_view_module": "@jupyter-widgets/base",
       "_view_module_version": "1.2.0",
       "_view_name": "LayoutView",
       "align_content": null,
       "align_items": null,
       "align_self": null,
       "border": null,
       "bottom": null,
       "display": null,
       "flex": null,
       "flex_flow": null,
       "grid_area": null,
       "grid_auto_columns": null,
       "grid_auto_flow": null,
       "grid_auto_rows": null,
       "grid_column": null,
       "grid_gap": null,
       "grid_row": null,
       "grid_template_areas": null,
       "grid_template_columns": null,
       "grid_template_rows": null,
       "height": null,
       "justify_content": null,
       "justify_items": null,
       "left": null,
       "margin": null,
       "max_height": null,
       "max_width": null,
       "min_height": null,
       "min_width": null,
       "object_fit": null,
       "object_position": null,
       "order": null,
       "overflow": null,
       "overflow_x": null,
       "overflow_y": null,
       "padding": null,
       "right": null,
       "top": null,
       "visibility": null,
       "width": null
      }
     },
     "e131a379a33a465ba7b7a096ea336ff3": {
      "model_module": "ipycanvas",
      "model_module_version": "^0.10.2",
      "model_name": "CanvasModel",
      "state": {
       "_dom_classes": [],
       "_model_module": "ipycanvas",
       "_model_module_version": "^0.10.2",
       "_model_name": "CanvasModel",
       "_send_client_ready_event": true,
       "_view_count": null,
       "_view_module": "ipycanvas",
       "_view_module_version": "^0.10.2",
       "_view_name": "CanvasView",
       "height": 300,
       "image_data": null,
       "layout": "IPY_MODEL_ec3d401ae5714228ae629008b1b358bc",
       "sync_image_data": false,
       "width": 300
      }
     },
     "e15d30bf66374fe5b46c523adebbd5a6": {
      "model_module": "@jupyter-widgets/base",
      "model_module_version": "1.2.0",
      "model_name": "LayoutModel",
      "state": {
       "_model_module": "@jupyter-widgets/base",
       "_model_module_version": "1.2.0",
       "_model_name": "LayoutModel",
       "_view_count": null,
       "_view_module": "@jupyter-widgets/base",
       "_view_module_version": "1.2.0",
       "_view_name": "LayoutView",
       "align_content": null,
       "align_items": null,
       "align_self": null,
       "border": null,
       "bottom": null,
       "display": null,
       "flex": null,
       "flex_flow": null,
       "grid_area": null,
       "grid_auto_columns": null,
       "grid_auto_flow": null,
       "grid_auto_rows": null,
       "grid_column": null,
       "grid_gap": null,
       "grid_row": null,
       "grid_template_areas": null,
       "grid_template_columns": null,
       "grid_template_rows": null,
       "height": null,
       "justify_content": null,
       "justify_items": null,
       "left": null,
       "margin": null,
       "max_height": null,
       "max_width": null,
       "min_height": null,
       "min_width": null,
       "object_fit": null,
       "object_position": null,
       "order": null,
       "overflow": null,
       "overflow_x": null,
       "overflow_y": null,
       "padding": null,
       "right": null,
       "top": null,
       "visibility": null,
       "width": null
      }
     },
     "e523853796b648bfabafad065acb31d6": {
      "model_module": "@jupyter-widgets/base",
      "model_module_version": "1.2.0",
      "model_name": "LayoutModel",
      "state": {
       "_model_module": "@jupyter-widgets/base",
       "_model_module_version": "1.2.0",
       "_model_name": "LayoutModel",
       "_view_count": null,
       "_view_module": "@jupyter-widgets/base",
       "_view_module_version": "1.2.0",
       "_view_name": "LayoutView",
       "align_content": null,
       "align_items": null,
       "align_self": null,
       "border": null,
       "bottom": null,
       "display": null,
       "flex": null,
       "flex_flow": null,
       "grid_area": null,
       "grid_auto_columns": null,
       "grid_auto_flow": null,
       "grid_auto_rows": null,
       "grid_column": null,
       "grid_gap": null,
       "grid_row": null,
       "grid_template_areas": null,
       "grid_template_columns": null,
       "grid_template_rows": null,
       "height": null,
       "justify_content": null,
       "justify_items": null,
       "left": null,
       "margin": null,
       "max_height": null,
       "max_width": null,
       "min_height": null,
       "min_width": null,
       "object_fit": null,
       "object_position": null,
       "order": null,
       "overflow": null,
       "overflow_x": null,
       "overflow_y": null,
       "padding": null,
       "right": null,
       "top": null,
       "visibility": null,
       "width": null
      }
     },
     "e6be87f2b0f54a0d862096c52eb96afb": {
      "buffers": [
       {
        "data": "iVBORw0KGgoAAAANSUhEUgAAAGQAAABkCAIAAAD/gAIDAAAA6ElEQVR4nO3QwQ3AIBDAsNL9dz5WIC+EZE8QZc3Mx5n/dsBLzArMCswKzArMCswKzArMCswKzArMCswKzArMCswKzArMCswKzArMCswKzArMCswKzArMCswKzArMCswKzArMCswKzArMCswKzArMCswKzArMCswKzArMCswKzArMCswKzArMCswKzArMCswKzArMCswKzArMCswKzArMCswKzArMCswKzArMCswKzArMCswKzArMCswKzArMCswKzArMCswKzArMCswKzArMCswKzArMCswKzArMCswKzArMCswKzArMCjbP8QPFyqa8aAAAAABJRU5ErkJggg==",
        "encoding": "base64",
        "path": [
         "value"
        ]
       }
      ],
      "model_module": "@jupyter-widgets/controls",
      "model_module_version": "1.5.0",
      "model_name": "ImageModel",
      "state": {
       "_dom_classes": [],
       "_model_module": "@jupyter-widgets/controls",
       "_model_module_version": "1.5.0",
       "_model_name": "ImageModel",
       "_view_count": null,
       "_view_module": "@jupyter-widgets/controls",
       "_view_module_version": "1.5.0",
       "_view_name": "ImageView",
       "format": "png",
       "height": "200",
       "layout": "IPY_MODEL_a932dd9935ec4f96bbba879846b3a14d",
       "width": "200"
      }
     },
     "e6cd256e416643e68c29797894c2a10e": {
      "buffers": [
       {
        "data": "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",
        "encoding": "base64",
        "path": [
         "value"
        ]
       }
      ],
      "model_module": "@jupyter-widgets/controls",
      "model_module_version": "1.5.0",
      "model_name": "ImageModel",
      "state": {
       "_dom_classes": [],
       "_model_module": "@jupyter-widgets/controls",
       "_model_module_version": "1.5.0",
       "_model_name": "ImageModel",
       "_view_count": null,
       "_view_module": "@jupyter-widgets/controls",
       "_view_module_version": "1.5.0",
       "_view_name": "ImageView",
       "format": "png",
       "height": "",
       "layout": "IPY_MODEL_9096038c302c4159ae13a17f53777c63",
       "width": ""
      }
     },
     "ec3d401ae5714228ae629008b1b358bc": {
      "model_module": "@jupyter-widgets/base",
      "model_module_version": "1.2.0",
      "model_name": "LayoutModel",
      "state": {
       "_model_module": "@jupyter-widgets/base",
       "_model_module_version": "1.2.0",
       "_model_name": "LayoutModel",
       "_view_count": null,
       "_view_module": "@jupyter-widgets/base",
       "_view_module_version": "1.2.0",
       "_view_name": "LayoutView",
       "align_content": null,
       "align_items": null,
       "align_self": null,
       "border": null,
       "bottom": null,
       "display": null,
       "flex": null,
       "flex_flow": null,
       "grid_area": null,
       "grid_auto_columns": null,
       "grid_auto_flow": null,
       "grid_auto_rows": null,
       "grid_column": null,
       "grid_gap": null,
       "grid_row": null,
       "grid_template_areas": null,
       "grid_template_columns": null,
       "grid_template_rows": null,
       "height": null,
       "justify_content": null,
       "justify_items": null,
       "left": null,
       "margin": null,
       "max_height": null,
       "max_width": null,
       "min_height": null,
       "min_width": null,
       "object_fit": null,
       "object_position": null,
       "order": null,
       "overflow": null,
       "overflow_x": null,
       "overflow_y": null,
       "padding": null,
       "right": null,
       "top": null,
       "visibility": null,
       "width": null
      }
     },
     "efeb6be0a45041309de4f837ef0e378d": {
      "model_module": "@jupyter-widgets/base",
      "model_module_version": "1.2.0",
      "model_name": "LayoutModel",
      "state": {
       "_model_module": "@jupyter-widgets/base",
       "_model_module_version": "1.2.0",
       "_model_name": "LayoutModel",
       "_view_count": null,
       "_view_module": "@jupyter-widgets/base",
       "_view_module_version": "1.2.0",
       "_view_name": "LayoutView",
       "align_content": null,
       "align_items": null,
       "align_self": null,
       "border": null,
       "bottom": null,
       "display": null,
       "flex": null,
       "flex_flow": null,
       "grid_area": null,
       "grid_auto_columns": null,
       "grid_auto_flow": null,
       "grid_auto_rows": null,
       "grid_column": null,
       "grid_gap": null,
       "grid_row": null,
       "grid_template_areas": null,
       "grid_template_columns": null,
       "grid_template_rows": null,
       "height": null,
       "justify_content": null,
       "justify_items": null,
       "left": null,
       "margin": null,
       "max_height": null,
       "max_width": null,
       "min_height": null,
       "min_width": null,
       "object_fit": null,
       "object_position": null,
       "order": null,
       "overflow": null,
       "overflow_x": null,
       "overflow_y": null,
       "padding": null,
       "right": null,
       "top": null,
       "visibility": null,
       "width": null
      }
     },
     "f11b652cf9c744cfbb7b43c704d639e0": {
      "buffers": [
       {
        "data": "",
        "encoding": "base64",
        "path": [
         "value"
        ]
       }
      ],
      "model_module": "@jupyter-widgets/controls",
      "model_module_version": "1.5.0",
      "model_name": "ImageModel",
      "state": {
       "_dom_classes": [],
       "_model_module": "@jupyter-widgets/controls",
       "_model_module_version": "1.5.0",
       "_model_name": "ImageModel",
       "_view_count": null,
       "_view_module": "@jupyter-widgets/controls",
       "_view_module_version": "1.5.0",
       "_view_name": "ImageView",
       "format": "png",
       "height": "",
       "layout": "IPY_MODEL_a20919b5488d4e9ead2d06e3fbe6dea1",
       "width": ""
      }
     },
     "f1e450874f6b48858d57ed7d6c658d9b": {
      "model_module": "@jupyter-widgets/base",
      "model_module_version": "1.2.0",
      "model_name": "LayoutModel",
      "state": {
       "_model_module": "@jupyter-widgets/base",
       "_model_module_version": "1.2.0",
       "_model_name": "LayoutModel",
       "_view_count": null,
       "_view_module": "@jupyter-widgets/base",
       "_view_module_version": "1.2.0",
       "_view_name": "LayoutView",
       "align_content": null,
       "align_items": null,
       "align_self": null,
       "border": null,
       "bottom": null,
       "display": null,
       "flex": null,
       "flex_flow": null,
       "grid_area": null,
       "grid_auto_columns": null,
       "grid_auto_flow": null,
       "grid_auto_rows": null,
       "grid_column": null,
       "grid_gap": null,
       "grid_row": null,
       "grid_template_areas": null,
       "grid_template_columns": null,
       "grid_template_rows": null,
       "height": null,
       "justify_content": null,
       "justify_items": null,
       "left": null,
       "margin": null,
       "max_height": null,
       "max_width": null,
       "min_height": null,
       "min_width": null,
       "object_fit": null,
       "object_position": null,
       "order": null,
       "overflow": null,
       "overflow_x": null,
       "overflow_y": null,
       "padding": null,
       "right": null,
       "top": null,
       "visibility": null,
       "width": null
      }
     },
     "f382002093f441feadee0a48a1c97487": {
      "model_module": "@jupyter-widgets/base",
      "model_module_version": "1.2.0",
      "model_name": "LayoutModel",
      "state": {
       "_model_module": "@jupyter-widgets/base",
       "_model_module_version": "1.2.0",
       "_model_name": "LayoutModel",
       "_view_count": null,
       "_view_module": "@jupyter-widgets/base",
       "_view_module_version": "1.2.0",
       "_view_name": "LayoutView",
       "align_content": null,
       "align_items": null,
       "align_self": null,
       "border": null,
       "bottom": null,
       "display": null,
       "flex": null,
       "flex_flow": null,
       "grid_area": null,
       "grid_auto_columns": null,
       "grid_auto_flow": null,
       "grid_auto_rows": null,
       "grid_column": null,
       "grid_gap": null,
       "grid_row": null,
       "grid_template_areas": null,
       "grid_template_columns": null,
       "grid_template_rows": null,
       "height": null,
       "justify_content": null,
       "justify_items": null,
       "left": null,
       "margin": null,
       "max_height": null,
       "max_width": null,
       "min_height": null,
       "min_width": null,
       "object_fit": null,
       "object_position": null,
       "order": null,
       "overflow": null,
       "overflow_x": null,
       "overflow_y": null,
       "padding": null,
       "right": null,
       "top": null,
       "visibility": null,
       "width": null
      }
     },
     "f3d709565c1b45d6b2639da01f2abace": {
      "model_module": "@jupyter-widgets/controls",
      "model_module_version": "1.5.0",
      "model_name": "HBoxModel",
      "state": {
       "_dom_classes": [],
       "_model_module": "@jupyter-widgets/controls",
       "_model_module_version": "1.5.0",
       "_model_name": "HBoxModel",
       "_view_count": null,
       "_view_module": "@jupyter-widgets/controls",
       "_view_module_version": "1.5.0",
       "_view_name": "HBoxView",
       "box_style": "",
       "children": [
        "IPY_MODEL_9e4dc8c1a9334386ad5d22568669dc54"
       ],
       "layout": "IPY_MODEL_04f632b59e1945eeaa7470c2d63a1ece"
      }
     },
     "f6696d4cd76c4455b3ff6d563717fcfa": {
      "model_module": "@jupyter-widgets/base",
      "model_module_version": "1.2.0",
      "model_name": "LayoutModel",
      "state": {
       "_model_module": "@jupyter-widgets/base",
       "_model_module_version": "1.2.0",
       "_model_name": "LayoutModel",
       "_view_count": null,
       "_view_module": "@jupyter-widgets/base",
       "_view_module_version": "1.2.0",
       "_view_name": "LayoutView",
       "align_content": null,
       "align_items": null,
       "align_self": null,
       "border": "1px solid black",
       "bottom": null,
       "display": null,
       "flex": null,
       "flex_flow": null,
       "grid_area": null,
       "grid_auto_columns": null,
       "grid_auto_flow": null,
       "grid_auto_rows": null,
       "grid_column": null,
       "grid_gap": null,
       "grid_row": null,
       "grid_template_areas": null,
       "grid_template_columns": null,
       "grid_template_rows": null,
       "height": null,
       "justify_content": null,
       "justify_items": null,
       "left": null,
       "margin": null,
       "max_height": null,
       "max_width": null,
       "min_height": null,
       "min_width": null,
       "object_fit": null,
       "object_position": null,
       "order": null,
       "overflow": null,
       "overflow_x": null,
       "overflow_y": null,
       "padding": null,
       "right": null,
       "top": null,
       "visibility": null,
       "width": null
      }
     },
     "f7424c9da8954b9a8572e9ecf51a20c8": {
      "model_module": "ipycanvas",
      "model_module_version": "^0.10.2",
      "model_name": "CanvasModel",
      "state": {
       "_dom_classes": [],
       "_model_module": "ipycanvas",
       "_model_module_version": "^0.10.2",
       "_model_name": "CanvasModel",
       "_send_client_ready_event": true,
       "_view_count": null,
       "_view_module": "ipycanvas",
       "_view_module_version": "^0.10.2",
       "_view_name": "CanvasView",
       "height": 300,
       "image_data": null,
       "layout": "IPY_MODEL_c2fa03a07a2e48f5b768102be5ce2d89",
       "sync_image_data": false,
       "width": 300
      }
     },
     "f86e45b9929d46f9975c20f91b06d6a4": {
      "model_module": "@jupyter-widgets/controls",
      "model_module_version": "1.5.0",
      "model_name": "DescriptionStyleModel",
      "state": {
       "_model_module": "@jupyter-widgets/controls",
       "_model_module_version": "1.5.0",
       "_model_name": "DescriptionStyleModel",
       "_view_count": null,
       "_view_module": "@jupyter-widgets/base",
       "_view_module_version": "1.2.0",
       "_view_name": "StyleView",
       "description_width": ""
      }
     },
     "fc5ceb3efaed45a793c4b4adca1a7f7b": {
      "buffers": [
       {
        "data": "",
        "encoding": "base64",
        "path": [
         "value"
        ]
       }
      ],
      "model_module": "@jupyter-widgets/controls",
      "model_module_version": "1.5.0",
      "model_name": "ImageModel",
      "state": {
       "_dom_classes": [],
       "_model_module": "@jupyter-widgets/controls",
       "_model_module_version": "1.5.0",
       "_model_name": "ImageModel",
       "_view_count": null,
       "_view_module": "@jupyter-widgets/controls",
       "_view_module_version": "1.5.0",
       "_view_name": "ImageView",
       "format": "png",
       "height": "",
       "layout": "IPY_MODEL_61abdff1519f4b32a701f8f3af2c0100",
       "width": ""
      }
     },
     "fcb60a4118af48228652fea679802eac": {
      "buffers": [
       {
        "data": "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",
        "encoding": "base64",
        "path": [
         "value"
        ]
       }
      ],
      "model_module": "@jupyter-widgets/controls",
      "model_module_version": "1.5.0",
      "model_name": "ImageModel",
      "state": {
       "_dom_classes": [],
       "_model_module": "@jupyter-widgets/controls",
       "_model_module_version": "1.5.0",
       "_model_name": "ImageModel",
       "_view_count": null,
       "_view_module": "@jupyter-widgets/controls",
       "_view_module_version": "1.5.0",
       "_view_name": "ImageView",
       "format": "png",
       "height": "",
       "layout": "IPY_MODEL_b532ebcaca58497a9616793dc9a939d0",
       "width": ""
      }
     },
     "fec8ef99a2c94daea0abad0582051b2a": {
      "model_module": "@jupyter-widgets/base",
      "model_module_version": "1.2.0",
      "model_name": "LayoutModel",
      "state": {
       "_model_module": "@jupyter-widgets/base",
       "_model_module_version": "1.2.0",
       "_model_name": "LayoutModel",
       "_view_count": null,
       "_view_module": "@jupyter-widgets/base",
       "_view_module_version": "1.2.0",
       "_view_name": "LayoutView",
       "align_content": null,
       "align_items": null,
       "align_self": null,
       "border": null,
       "bottom": null,
       "display": null,
       "flex": null,
       "flex_flow": null,
       "grid_area": null,
       "grid_auto_columns": null,
       "grid_auto_flow": null,
       "grid_auto_rows": null,
       "grid_column": null,
       "grid_gap": null,
       "grid_row": null,
       "grid_template_areas": null,
       "grid_template_columns": null,
       "grid_template_rows": null,
       "height": null,
       "justify_content": null,
       "justify_items": null,
       "left": null,
       "margin": null,
       "max_height": null,
       "max_width": null,
       "min_height": null,
       "min_width": null,
       "object_fit": null,
       "object_position": null,
       "order": null,
       "overflow": null,
       "overflow_x": null,
       "overflow_y": null,
       "padding": null,
       "right": null,
       "top": null,
       "visibility": null,
       "width": null
      }
     },
     "ff858bb16ab244378fa15a54d96a0541": {
      "model_module": "@jupyter-widgets/controls",
      "model_module_version": "1.5.0",
      "model_name": "HBoxModel",
      "state": {
       "_dom_classes": [],
       "_model_module": "@jupyter-widgets/controls",
       "_model_module_version": "1.5.0",
       "_model_name": "HBoxModel",
       "_view_count": null,
       "_view_module": "@jupyter-widgets/controls",
       "_view_module_version": "1.5.0",
       "_view_name": "HBoxView",
       "box_style": "",
       "children": [
        "IPY_MODEL_81c941cf37d84d049e3b4ddec753d01f"
       ],
       "layout": "IPY_MODEL_3559dec457e34d12b1d35baadcc82c2f"
      }
     }
    },
    "version_major": 2,
    "version_minor": 0
   }
  }
 },
 "nbformat": 4,
 "nbformat_minor": 4
}