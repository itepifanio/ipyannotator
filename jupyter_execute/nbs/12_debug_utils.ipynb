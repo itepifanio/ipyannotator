{
 "cells": [
  {
   "cell_type": "code",
   "execution_count": 1,
   "id": "de4865f1",
   "metadata": {},
   "outputs": [],
   "source": [
    "# default_exp debug_utils"
   ]
  },
  {
   "cell_type": "code",
   "execution_count": 2,
   "id": "dfc0aac0",
   "metadata": {
    "tags": [
     "remove-cell"
    ]
   },
   "outputs": [],
   "source": [
    "# hide\n",
    "%load_ext autoreload\n",
    "%autoreload 2"
   ]
  },
  {
   "cell_type": "code",
   "execution_count": 3,
   "id": "919888ab",
   "metadata": {},
   "outputs": [
    {
     "name": "stderr",
     "output_type": "stream",
     "text": [
      "<ipython-input-3-7e79a1338067>:5: DeprecationWarning: Importing display from IPython.core.display is deprecated since IPython 7.14, please import from IPython display\n",
      "  from IPython.core.display import display\n"
     ]
    }
   ],
   "source": [
    "#exporti\n",
    "import logging\n",
    "from typing import List, Any\n",
    "\n",
    "from IPython.core.display import display\n",
    "from ipywidgets import Output\n",
    "from pubsub import pub"
   ]
  },
  {
   "cell_type": "markdown",
   "id": "ca3908a8",
   "metadata": {},
   "source": [
    "# Debug tools"
   ]
  },
  {
   "cell_type": "markdown",
   "id": "09eb16d5",
   "metadata": {},
   "source": [
    "## Output"
   ]
  },
  {
   "cell_type": "markdown",
   "id": "f69f880c",
   "metadata": {},
   "source": [
    "It's necessary to have a output to where show the `log`. To use the default `logging` lib with `ipywidgets`, one could use the `OutputWidgetHandler` class."
   ]
  },
  {
   "cell_type": "code",
   "execution_count": 4,
   "id": "8654715d",
   "metadata": {},
   "outputs": [],
   "source": [
    "#exporti\n",
    "class OutputWidgetHandler(logging.Handler):\n",
    "    \"\"\" Custom logging handler sending logs to an output widget \"\"\"\n",
    "\n",
    "    def __init__(self, *args, **kwargs):\n",
    "        super(OutputWidgetHandler, self).__init__(*args, **kwargs)\n",
    "        layout = {\n",
    "            'border': '1px solid black'\n",
    "        }\n",
    "        self.out = Output(layout=layout)\n",
    "\n",
    "    def emit(self, record):\n",
    "        \"\"\" Overload of logging.Handler method \"\"\"\n",
    "        formatted_record = self.format(record)\n",
    "        new_output = {\n",
    "            'name': 'stdout',\n",
    "            'output_type': 'stream',\n",
    "            'text': formatted_record + '\\n'\n",
    "        }\n",
    "        self.out.outputs = (new_output, ) + self.out.outputs\n",
    "\n",
    "    def show_logs(self):\n",
    "        \"\"\" Show the logs \"\"\"\n",
    "        display(self.out)\n",
    "\n",
    "    def clear_logs(self):\n",
    "        \"\"\" Clear the current logs \"\"\"\n",
    "        self.out.clear_output()"
   ]
  },
  {
   "cell_type": "code",
   "execution_count": 5,
   "id": "c9606bc2",
   "metadata": {},
   "outputs": [],
   "source": [
    "# example of logger configuration\n",
    "example_logger = logging.getLogger(__name__)\n",
    "example_handler = OutputWidgetHandler()\n",
    "example_handler.setFormatter(logging.Formatter('%(asctime)s  - [%(levelname)s] %(message)s'))\n",
    "example_logger.addHandler(example_handler)\n",
    "example_logger.setLevel(logging.INFO)"
   ]
  },
  {
   "cell_type": "markdown",
   "id": "4f6fedc0",
   "metadata": {},
   "source": [
    "## Debug tools"
   ]
  },
  {
   "cell_type": "code",
   "execution_count": 6,
   "id": "85489b89",
   "metadata": {},
   "outputs": [],
   "source": [
    "#export\n",
    "\n",
    "class IpyLogger:\n",
    "    \"\"\"\n",
    "    Redirects logging and pubsub messages (if subscribed) to output widget.\n",
    "\n",
    "    Use `@subscribe` class decorator or `subscribe_to_states` method to listen pubsub events.\n",
    "    \"\"\"\n",
    "\n",
    "    def __init__(self, class_name: str, log_level=logging.INFO):\n",
    "        self._class_name = class_name\n",
    "\n",
    "        # config the logger/output\n",
    "        logger = logging.getLogger(__name__)\n",
    "        handler = OutputWidgetHandler()\n",
    "        handler.setFormatter(logging.Formatter('%(asctime)s - %(message)s'))\n",
    "        logger.addHandler(handler)\n",
    "        logger.setLevel(log_level)\n",
    "        self._logger = logger\n",
    "        self._handler = handler\n",
    "\n",
    "    def debug(self, msg, *args, **kwargs):\n",
    "        self._logger.debug(msg, *args, **kwargs)\n",
    "\n",
    "    def info(self, msg, *args, **kwargs):\n",
    "        self._logger.info(msg, *args, **kwargs)\n",
    "\n",
    "    def warning(self, msg, *args, **kwargs):\n",
    "        self._logger.warning(msg, *args, **kwargs)\n",
    "\n",
    "    def error(self, msg, *args, **kwargs):\n",
    "        self._logger.error(msg, *args, **kwargs)\n",
    "\n",
    "    def critical(self, msg, *args, **kwargs):\n",
    "        self._logger.critical(msg, *args, **kwargs)\n",
    "\n",
    "    def subscribe(self, states):\n",
    "        def wrapper(cls):\n",
    "            def inside_wrapper(*args, **kwargs):\n",
    "                self.subscribe_to_states(states=states)\n",
    "                return cls(*args, **kwargs)\n",
    "            return inside_wrapper\n",
    "        return wrapper\n",
    "\n",
    "    def show_logs(self):\n",
    "        return self._handler.show_logs()\n",
    "\n",
    "    def clear_logs(self):\n",
    "        return self._handler.clear_logs()\n",
    "\n",
    "    def subscribe_to_states(self, states: List[Any]):\n",
    "        states = self._validate_states(states)\n",
    "        for state in states:\n",
    "            pub.subscribe(self._pub_handler, state)\n",
    "\n",
    "    def _pub_handler(self, topic_obj=pub.AUTO_TOPIC, *args, **kwargs):\n",
    "        self._logger.info(f\"[{self._class_name} - {topic_obj.getName()}] : {kwargs}\")\n",
    "\n",
    "    @staticmethod\n",
    "    def _validate_states(states):\n",
    "        \"\"\"Avoids errors where string is handled as list\"\"\"\n",
    "        if isinstance(states, str):\n",
    "            states = [states]\n",
    "        return states"
   ]
  },
  {
   "cell_type": "code",
   "execution_count": 7,
   "id": "88016d06",
   "metadata": {},
   "outputs": [],
   "source": [
    "logger = IpyLogger(\"mylogger\", log_level=logging.DEBUG)"
   ]
  },
  {
   "cell_type": "code",
   "execution_count": 8,
   "id": "6e54a106",
   "metadata": {},
   "outputs": [
    {
     "data": {
      "application/vnd.jupyter.widget-view+json": {
       "model_id": "a264bd79869b4f6caa50a2a1f1d109b0",
       "version_major": 2,
       "version_minor": 0
      },
      "text/plain": [
       "Output(layout=Layout(border='1px solid black'))"
      ]
     },
     "metadata": {},
     "output_type": "display_data"
    }
   ],
   "source": [
    "logger.show_logs()"
   ]
  },
  {
   "cell_type": "code",
   "execution_count": 9,
   "id": "261ec426",
   "metadata": {},
   "outputs": [],
   "source": [
    "from pubsub import pub\n",
    "\n",
    "\n",
    "def test_listener(a1, a2=None):\n",
    "    print('listener:')\n",
    "    print('a1 =', a1)\n",
    "    print('a2 =', a2)\n",
    "\n",
    "\n",
    "pub.subscribe(test_listener, 'rootTopic')\n",
    "\n",
    "logger.subscribe_to_states(['rootTopic'])"
   ]
  },
  {
   "cell_type": "code",
   "execution_count": 10,
   "id": "12a9d219",
   "metadata": {},
   "outputs": [
    {
     "name": "stdout",
     "output_type": "stream",
     "text": [
      "listener:\n",
      "a1 = 123\n",
      "a2 = {'a': 456, 'b': 'abc'}\n"
     ]
    }
   ],
   "source": [
    "pub.sendMessage('rootTopic', a1=123, a2=dict(a=456, b='abc'))"
   ]
  },
  {
   "cell_type": "code",
   "execution_count": 11,
   "id": "badb4652",
   "metadata": {},
   "outputs": [
    {
     "name": "stdout",
     "output_type": "stream",
     "text": [
      "listener:\n",
      "a1 = 122\n",
      "a2 = 334\n"
     ]
    }
   ],
   "source": [
    "pub.sendMessage('rootTopic', a1=122, a2=334)"
   ]
  },
  {
   "cell_type": "code",
   "execution_count": 12,
   "id": "eb38cf52",
   "metadata": {},
   "outputs": [],
   "source": [
    "# l.info(\"Hey info\", stack_info=True)\n",
    "logger.debug(\"Hey debug\")"
   ]
  },
  {
   "cell_type": "code",
   "execution_count": 13,
   "id": "a1e7df3e",
   "metadata": {
    "tags": [
     "remove-cell"
    ]
   },
   "outputs": [
    {
     "name": "stdout",
     "output_type": "stream",
     "text": [
      "Converted 00_base.ipynb.\n",
      "Converted 00a_annotator.ipynb.\n",
      "Converted 00b_mltypes.ipynb.\n",
      "Converted 00c_annotation_types.ipynb.\n",
      "Converted 00d_doc_utils.ipynb.\n",
      "Converted 01_bbox_canvas.ipynb.\n",
      "Converted 01_helpers.ipynb.\n",
      "Converted 01a_datasets.ipynb.\n"
     ]
    },
    {
     "name": "stdout",
     "output_type": "stream",
     "text": [
      "Converted 01a_datasets_download.ipynb.\n",
      "Converted 01a_datasets_factory.ipynb.\n",
      "Converted 01b_dataset_video.ipynb.\n",
      "Converted 01b_tutorial_image_classification.ipynb.\n",
      "Converted 01c_tutorial_bbox.ipynb.\n",
      "Converted 01d_tutorial_video_annotator.ipynb.\n",
      "Converted 02_navi_widget.ipynb.\n",
      "Converted 02a_right_menu_widget.ipynb.\n",
      "Converted 02b_grid_menu.ipynb.\n"
     ]
    },
    {
     "name": "stdout",
     "output_type": "stream",
     "text": [
      "Converted 03_storage.ipynb.\n",
      "Converted 04_bbox_annotator.ipynb.\n",
      "Converted 05_image_button.ipynb.\n",
      "Converted 06_capture_annotator.ipynb.\n",
      "Converted 07_im2im_annotator.ipynb.\n",
      "Converted 08_tutorial_road_damage.ipynb.\n",
      "Converted 09_voila_example.ipynb.\n",
      "Converted 11_build_annotator_tutorial.ipynb.\n"
     ]
    },
    {
     "name": "stdout",
     "output_type": "stream",
     "text": [
      "Converted 12_debug_utils.ipynb.\n",
      "Converted 13_datasets_legacy.ipynb.\n",
      "Converted 14_datasets_factory_legacy.ipynb.\n",
      "Converted 15_coordinates_input.ipynb.\n",
      "Converted 16_custom_buttons.ipynb.\n",
      "Converted 17_annotator_explorer.ipynb.\n",
      "Converted 18_bbox_trajectory.ipynb.\n",
      "Converted 19_bbox_video_annotator.ipynb.\n",
      "Converted 20_image_classification_user_story.ipynb.\n",
      "Converted index.ipynb.\n"
     ]
    }
   ],
   "source": [
    "#hide\n",
    "from nbdev.export import notebook2script\n",
    "notebook2script()"
   ]
  },
  {
   "cell_type": "code",
   "execution_count": null,
   "id": "7ab72a02",
   "metadata": {},
   "outputs": [],
   "source": []
  }
 ],
 "metadata": {
  "kernelspec": {
   "display_name": "Python 3 (ipykernel)",
   "language": "python",
   "name": "python3"
  },
  "language_info": {
   "codemirror_mode": {
    "name": "ipython",
    "version": 3
   },
   "file_extension": ".py",
   "mimetype": "text/x-python",
   "name": "python",
   "nbconvert_exporter": "python",
   "pygments_lexer": "ipython3",
   "version": "3.8.12"
  },
  "widgets": {
   "application/vnd.jupyter.widget-state+json": {
    "state": {
     "2871bb479fc8433a85ae0f19d17a9d6c": {
      "model_module": "@jupyter-widgets/output",
      "model_module_version": "1.0.0",
      "model_name": "OutputModel",
      "state": {
       "_dom_classes": [],
       "_model_module": "@jupyter-widgets/output",
       "_model_module_version": "1.0.0",
       "_model_name": "OutputModel",
       "_view_count": null,
       "_view_module": "@jupyter-widgets/output",
       "_view_module_version": "1.0.0",
       "_view_name": "OutputView",
       "layout": "IPY_MODEL_7e1e16b5319d4ea99d69084aea5e8677",
       "msg_id": "",
       "outputs": [
        {
         "name": "stdout",
         "output_type": "stream",
         "text": "2022-04-13 13:36:02,906  - [DEBUG] Hey debug\n"
        },
        {
         "name": "stdout",
         "output_type": "stream",
         "text": "2022-04-13 13:36:02,887  - [INFO] [mylogger - rootTopic] : {'a1': 122, 'a2': 334}\n"
        },
        {
         "name": "stdout",
         "output_type": "stream",
         "text": "2022-04-13 13:36:02,865  - [INFO] [mylogger - rootTopic] : {'a1': 123, 'a2': {'a': 456, 'b': 'abc'}}\n"
        }
       ]
      }
     },
     "7e1e16b5319d4ea99d69084aea5e8677": {
      "model_module": "@jupyter-widgets/base",
      "model_module_version": "1.2.0",
      "model_name": "LayoutModel",
      "state": {
       "_model_module": "@jupyter-widgets/base",
       "_model_module_version": "1.2.0",
       "_model_name": "LayoutModel",
       "_view_count": null,
       "_view_module": "@jupyter-widgets/base",
       "_view_module_version": "1.2.0",
       "_view_name": "LayoutView",
       "align_content": null,
       "align_items": null,
       "align_self": null,
       "border": "1px solid black",
       "bottom": null,
       "display": null,
       "flex": null,
       "flex_flow": null,
       "grid_area": null,
       "grid_auto_columns": null,
       "grid_auto_flow": null,
       "grid_auto_rows": null,
       "grid_column": null,
       "grid_gap": null,
       "grid_row": null,
       "grid_template_areas": null,
       "grid_template_columns": null,
       "grid_template_rows": null,
       "height": null,
       "justify_content": null,
       "justify_items": null,
       "left": null,
       "margin": null,
       "max_height": null,
       "max_width": null,
       "min_height": null,
       "min_width": null,
       "object_fit": null,
       "object_position": null,
       "order": null,
       "overflow": null,
       "overflow_x": null,
       "overflow_y": null,
       "padding": null,
       "right": null,
       "top": null,
       "visibility": null,
       "width": null
      }
     },
     "9758377ee1f1432ebf903f7208e0843d": {
      "model_module": "@jupyter-widgets/base",
      "model_module_version": "1.2.0",
      "model_name": "LayoutModel",
      "state": {
       "_model_module": "@jupyter-widgets/base",
       "_model_module_version": "1.2.0",
       "_model_name": "LayoutModel",
       "_view_count": null,
       "_view_module": "@jupyter-widgets/base",
       "_view_module_version": "1.2.0",
       "_view_name": "LayoutView",
       "align_content": null,
       "align_items": null,
       "align_self": null,
       "border": "1px solid black",
       "bottom": null,
       "display": null,
       "flex": null,
       "flex_flow": null,
       "grid_area": null,
       "grid_auto_columns": null,
       "grid_auto_flow": null,
       "grid_auto_rows": null,
       "grid_column": null,
       "grid_gap": null,
       "grid_row": null,
       "grid_template_areas": null,
       "grid_template_columns": null,
       "grid_template_rows": null,
       "height": null,
       "justify_content": null,
       "justify_items": null,
       "left": null,
       "margin": null,
       "max_height": null,
       "max_width": null,
       "min_height": null,
       "min_width": null,
       "object_fit": null,
       "object_position": null,
       "order": null,
       "overflow": null,
       "overflow_x": null,
       "overflow_y": null,
       "padding": null,
       "right": null,
       "top": null,
       "visibility": null,
       "width": null
      }
     },
     "a264bd79869b4f6caa50a2a1f1d109b0": {
      "model_module": "@jupyter-widgets/output",
      "model_module_version": "1.0.0",
      "model_name": "OutputModel",
      "state": {
       "_dom_classes": [],
       "_model_module": "@jupyter-widgets/output",
       "_model_module_version": "1.0.0",
       "_model_name": "OutputModel",
       "_view_count": null,
       "_view_module": "@jupyter-widgets/output",
       "_view_module_version": "1.0.0",
       "_view_name": "OutputView",
       "layout": "IPY_MODEL_9758377ee1f1432ebf903f7208e0843d",
       "msg_id": "",
       "outputs": [
        {
         "name": "stdout",
         "output_type": "stream",
         "text": "2022-04-13 13:36:02,906 - Hey debug\n"
        },
        {
         "name": "stdout",
         "output_type": "stream",
         "text": "2022-04-13 13:36:02,887 - [mylogger - rootTopic] : {'a1': 122, 'a2': 334}\n"
        },
        {
         "name": "stdout",
         "output_type": "stream",
         "text": "2022-04-13 13:36:02,865 - [mylogger - rootTopic] : {'a1': 123, 'a2': {'a': 456, 'b': 'abc'}}\n"
        }
       ]
      }
     }
    },
    "version_major": 2,
    "version_minor": 0
   }
  }
 },
 "nbformat": 4,
 "nbformat_minor": 5
}