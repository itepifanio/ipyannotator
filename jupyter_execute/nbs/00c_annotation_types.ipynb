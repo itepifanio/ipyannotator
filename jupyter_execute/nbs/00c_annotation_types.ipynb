{
 "cells": [
  {
   "cell_type": "code",
   "execution_count": 1,
   "id": "dc763abf",
   "metadata": {},
   "outputs": [],
   "source": [
    "# default_exp ipytyping.annotations"
   ]
  },
  {
   "cell_type": "code",
   "execution_count": 2,
   "id": "06fa07ff",
   "metadata": {
    "tags": [
     "remove-cell"
    ]
   },
   "outputs": [],
   "source": [
    "# hide\n",
    "%load_ext autoreload\n",
    "%autoreload 2"
   ]
  },
  {
   "cell_type": "code",
   "execution_count": 3,
   "id": "3f14dc56",
   "metadata": {},
   "outputs": [],
   "source": [
    "#exporti\n",
    "from pathlib import Path\n",
    "from collections.abc import MutableMapping\n",
    "from typing import Dict, Optional, Iterable, Any, Union\n",
    "from ipywidgets import Layout\n",
    "from ipyannotator.mltypes import OutputImageLabel, OutputLabel\n",
    "from ipyannotator.custom_input.buttons import ImageButton, ImageButtonSetting, ActionButton"
   ]
  },
  {
   "cell_type": "code",
   "execution_count": 4,
   "id": "be5e23da",
   "metadata": {
    "tags": [
     "remove-cell"
    ]
   },
   "outputs": [],
   "source": [
    "# hide\n",
    "import ipytest\n",
    "import pytest\n",
    "ipytest.autoconfig(raise_on_error=True)"
   ]
  },
  {
   "cell_type": "markdown",
   "id": "491d358f",
   "metadata": {},
   "source": [
    "## Annotation Types\n",
    "\n",
    "The current notebook store the annotation data typing. Every annotator stores its data in a particular way, this notebook designs the store and it's casting types."
   ]
  },
  {
   "cell_type": "code",
   "execution_count": 5,
   "id": "196e5fde",
   "metadata": {},
   "outputs": [],
   "source": [
    "#exporti\n",
    "class AnnotationStore(MutableMapping):\n",
    "    def __init__(self, annotations: Optional[Dict] = None):\n",
    "        self._annotations = annotations or {}\n",
    "\n",
    "    def __getitem__(self, key: str):\n",
    "        return self._annotations[key]\n",
    "\n",
    "    def __delitem__(self, key: str):\n",
    "        if key in self:\n",
    "            del self._annotations[key]\n",
    "\n",
    "    def __setitem__(self, key: str, value: Any):\n",
    "        self._annotations[key] = value\n",
    "\n",
    "    def __iter__(self):\n",
    "        return iter(self._annotations)\n",
    "\n",
    "    def __len__(self):\n",
    "        return len(self._annotations)\n",
    "\n",
    "    def __repr__(self):\n",
    "        return \"{}({!r})\".format(self.__class__.__name__, self._annotations)"
   ]
  },
  {
   "cell_type": "markdown",
   "id": "698063e8",
   "metadata": {},
   "source": [
    "### LabelStore Data Type\n",
    "\n",
    "The `LabelStore` stores a path as a key it's answer in the format: `{'<path>': {'answer': <bool>}`."
   ]
  },
  {
   "cell_type": "code",
   "execution_count": 6,
   "id": "16418a55",
   "metadata": {},
   "outputs": [],
   "source": [
    "#exporti\n",
    "class LabelStore(AnnotationStore):\n",
    "    def __getitem__(self, key: str):\n",
    "        assert isinstance(key, str)\n",
    "        return self._annotations[key]\n",
    "\n",
    "    def __delitem__(self, key: str):\n",
    "        assert isinstance(key, str)\n",
    "        if key in self:\n",
    "            del self._annotations[key]\n",
    "\n",
    "    def __setitem__(self, key: str, value: Optional[Dict[str, bool]]):\n",
    "        assert isinstance(key, str)\n",
    "        if value:\n",
    "            assert isinstance(value, dict)\n",
    "        self._annotations[key] = value"
   ]
  },
  {
   "cell_type": "markdown",
   "id": "7971dff5",
   "metadata": {},
   "source": [
    "The following cell will define a cast from the annotation to a custom widget called `ImageButton`."
   ]
  },
  {
   "cell_type": "code",
   "execution_count": 7,
   "id": "ff3545e4",
   "metadata": {},
   "outputs": [],
   "source": [
    "#exporti\n",
    "def _label_store_to_image_button(\n",
    "    annotation: LabelStore,\n",
    "    width: int = 150,\n",
    "    height: int = 150,\n",
    "    disabled: bool = False\n",
    ") -> Iterable[ImageButton]:\n",
    "    button_setting = ImageButtonSetting(\n",
    "        display_label=False,\n",
    "        image_width=f'{width}px',\n",
    "        image_height=f'{height}px'\n",
    "    )\n",
    "\n",
    "    buttons = []\n",
    "\n",
    "    for path, value in annotation.items():\n",
    "        image_button = ImageButton(button_setting)\n",
    "        image_button.image_path = str(path)\n",
    "        image_button.label_value = Path(path).stem\n",
    "        image_button.active = value.get('answer', False)\n",
    "        image_button.disabled = disabled\n",
    "        buttons.append(image_button)\n",
    "\n",
    "    return buttons"
   ]
  },
  {
   "cell_type": "code",
   "execution_count": 8,
   "id": "351f50fb",
   "metadata": {},
   "outputs": [],
   "source": [
    "#exporti\n",
    "def _label_store_to_button(\n",
    "    annotation: LabelStore,\n",
    "    disabled: bool\n",
    ") -> Iterable[ActionButton]:\n",
    "    layout = {\n",
    "        'width': 'auto',\n",
    "        'height': 'auto'\n",
    "    }\n",
    "    buttons = []\n",
    "\n",
    "    for label, value in annotation.items():\n",
    "        button = ActionButton(layout=Layout(**layout))\n",
    "        button.description = label\n",
    "        button.value = label\n",
    "        button.tooltip = label\n",
    "        button.disabled = disabled\n",
    "        if value.get('answer', True):\n",
    "            button.layout.border = 'solid 2px #1B8CF3'\n",
    "        buttons.append(button)\n",
    "\n",
    "    return buttons"
   ]
  },
  {
   "cell_type": "code",
   "execution_count": 9,
   "id": "b67c7dcf",
   "metadata": {},
   "outputs": [],
   "source": [
    "#exporti\n",
    "class LabelStoreCaster:  # pylint: disable=too-few-public-methods\n",
    "    \"\"\"Factory that casts the correctly widget\n",
    "    accordingly with the input\"\"\"\n",
    "\n",
    "    def __init__(\n",
    "        self,\n",
    "        output: Union[OutputImageLabel, OutputLabel],\n",
    "        width: int = 150,\n",
    "        height: int = 150,\n",
    "        widgets_disabled: bool = False\n",
    "    ):\n",
    "        self.width = width\n",
    "        self.height = height\n",
    "        self.output = output\n",
    "        self.widgets_disabled = widgets_disabled\n",
    "\n",
    "    def __call__(self, annotation: LabelStore) -> Iterable:\n",
    "        if isinstance(self.output, OutputImageLabel):\n",
    "            return _label_store_to_image_button(\n",
    "                annotation,\n",
    "                self.width,\n",
    "                self.height,\n",
    "                self.widgets_disabled\n",
    "            )\n",
    "\n",
    "        if isinstance(self.output, OutputLabel):\n",
    "            return _label_store_to_button(\n",
    "                annotation,\n",
    "                disabled=self.widgets_disabled\n",
    "            )\n",
    "\n",
    "        raise ValueError(\n",
    "            f\"output should have type OutputImageLabel or OutputLabel. {type(self.output)} given\"\n",
    "        )"
   ]
  },
  {
   "cell_type": "code",
   "execution_count": 10,
   "id": "55895901",
   "metadata": {},
   "outputs": [],
   "source": [
    "@pytest.fixture\n",
    "def str_label_fixture():\n",
    "    return {\n",
    "        'A': {'answer': False},\n",
    "        'B': {'answer': True}\n",
    "    }"
   ]
  },
  {
   "cell_type": "code",
   "execution_count": 11,
   "id": "b848452c",
   "metadata": {},
   "outputs": [],
   "source": [
    "@pytest.fixture\n",
    "def img_label_fixture():\n",
    "    return {\n",
    "        '../data/projects/capture1/pics/pink25x25.png': {'answer': False},\n",
    "    }"
   ]
  },
  {
   "cell_type": "code",
   "execution_count": 12,
   "id": "6dbe324d",
   "metadata": {
    "tags": [
     "remove-cell"
    ]
   },
   "outputs": [
    {
     "name": "stdout",
     "output_type": "stream",
     "text": [
      "\u001b[32m.\u001b[0m"
     ]
    },
    {
     "name": "stdout",
     "output_type": "stream",
     "text": [
      "\u001b[32m                                                                                            [100%]\u001b[0m"
     ]
    },
    {
     "name": "stdout",
     "output_type": "stream",
     "text": [
      "\n",
      "\u001b[32m\u001b[32m\u001b[1m1 passed\u001b[0m\u001b[32m in 0.02s\u001b[0m\u001b[0m\n"
     ]
    }
   ],
   "source": [
    "%%ipytest\n",
    "def test_it_cast_label_store_to_image_button(img_label_fixture):\n",
    "    label_store = LabelStore()\n",
    "    label_store.update(img_label_fixture)\n",
    "    \n",
    "    output = OutputImageLabel()\n",
    "    caster = LabelStoreCaster(output)\n",
    "    image_buttons = caster(label_store)\n",
    "\n",
    "    for image_button in image_buttons:\n",
    "        assert isinstance(image_button, ImageButton)\n",
    "    assert len(image_buttons) == 1"
   ]
  },
  {
   "cell_type": "code",
   "execution_count": 13,
   "id": "24c1d615",
   "metadata": {
    "tags": [
     "remove-cell"
    ]
   },
   "outputs": [
    {
     "name": "stdout",
     "output_type": "stream",
     "text": [
      "\u001b[32m.\u001b[0m"
     ]
    },
    {
     "name": "stdout",
     "output_type": "stream",
     "text": [
      "\u001b[32m                                                                                            [100%]\u001b[0m"
     ]
    },
    {
     "name": "stdout",
     "output_type": "stream",
     "text": [
      "\n",
      "\u001b[32m\u001b[32m\u001b[1m1 passed\u001b[0m\u001b[32m in 0.02s\u001b[0m\u001b[0m\n"
     ]
    }
   ],
   "source": [
    "%%ipytest\n",
    "def test_it_cast_label_store_to_button(str_label_fixture):    \n",
    "    label_store = LabelStore()\n",
    "    label_store.update(str_label_fixture)\n",
    "    \n",
    "    output = OutputLabel(class_labels=list(str_label_fixture.keys()))\n",
    "    caster = LabelStoreCaster(output)\n",
    "    buttons = caster(label_store)\n",
    "\n",
    "    assert len(buttons) == 2\n",
    "    for button in buttons:\n",
    "        assert isinstance(button, ActionButton)\n",
    "    assert buttons[0].description == 'A'\n",
    "    assert buttons[1].description == 'B'\n",
    "    assert buttons[0].value == 'A'\n",
    "    assert buttons[1].value == 'B'"
   ]
  },
  {
   "cell_type": "code",
   "execution_count": 14,
   "id": "5be283a2",
   "metadata": {
    "tags": [
     "remove-cell"
    ]
   },
   "outputs": [
    {
     "name": "stdout",
     "output_type": "stream",
     "text": [
      "\u001b[32m.\u001b[0m"
     ]
    },
    {
     "name": "stdout",
     "output_type": "stream",
     "text": [
      "\u001b[32m                                                                                            [100%]\u001b[0m"
     ]
    },
    {
     "name": "stdout",
     "output_type": "stream",
     "text": [
      "\n",
      "\u001b[32m\u001b[32m\u001b[1m1 passed\u001b[0m\u001b[32m in 0.03s\u001b[0m\u001b[0m\n"
     ]
    }
   ],
   "source": [
    "%%ipytest\n",
    "def test_it_can_disable_widgets(str_label_fixture):\n",
    "    label_store = LabelStore()\n",
    "    label_store.update(str_label_fixture)\n",
    "    \n",
    "    output = OutputLabel(class_labels=list(str_label_fixture.keys()))\n",
    "    caster = LabelStoreCaster(output, widgets_disabled=True)\n",
    "    buttons = caster(label_store)\n",
    "    for button in buttons:\n",
    "        assert button.disabled is True"
   ]
  },
  {
   "cell_type": "code",
   "execution_count": 15,
   "id": "4ab48220",
   "metadata": {
    "tags": [
     "remove-cell"
    ]
   },
   "outputs": [
    {
     "name": "stdout",
     "output_type": "stream",
     "text": [
      "Converted 00_base.ipynb.\n",
      "Converted 00a_annotator.ipynb.\n",
      "Converted 00b_mltypes.ipynb.\n",
      "Converted 00c_annotation_types.ipynb.\n",
      "Converted 00d_doc_utils.ipynb.\n",
      "Converted 01_bbox_canvas.ipynb.\n",
      "Converted 01_helpers.ipynb.\n",
      "Converted 01a_datasets.ipynb.\n"
     ]
    },
    {
     "name": "stdout",
     "output_type": "stream",
     "text": [
      "Converted 01a_datasets_download.ipynb.\n",
      "Converted 01a_datasets_factory.ipynb.\n",
      "Converted 01b_dataset_video.ipynb.\n",
      "Converted 01b_tutorial_image_classification.ipynb.\n",
      "Converted 01c_tutorial_bbox.ipynb.\n",
      "Converted 01d_tutorial_video_annotator.ipynb.\n",
      "Converted 02_navi_widget.ipynb.\n",
      "Converted 02a_right_menu_widget.ipynb.\n",
      "Converted 02b_grid_menu.ipynb.\n"
     ]
    },
    {
     "name": "stdout",
     "output_type": "stream",
     "text": [
      "Converted 03_storage.ipynb.\n",
      "Converted 04_bbox_annotator.ipynb.\n",
      "Converted 05_image_button.ipynb.\n",
      "Converted 06_capture_annotator.ipynb.\n",
      "Converted 07_im2im_annotator.ipynb.\n",
      "Converted 08_tutorial_road_damage.ipynb.\n",
      "Converted 09_voila_example.ipynb.\n",
      "Converted 11_build_annotator_tutorial.ipynb.\n"
     ]
    },
    {
     "name": "stdout",
     "output_type": "stream",
     "text": [
      "Converted 12_debug_utils.ipynb.\n",
      "Converted 13_datasets_legacy.ipynb.\n",
      "Converted 14_datasets_factory_legacy.ipynb.\n",
      "Converted 15_coordinates_input.ipynb.\n",
      "Converted 16_custom_buttons.ipynb.\n",
      "Converted 17_annotator_explorer.ipynb.\n",
      "Converted 18_bbox_trajectory.ipynb.\n",
      "Converted 19_bbox_video_annotator.ipynb.\n",
      "Converted 20_image_classification_user_story.ipynb.\n",
      "Converted index.ipynb.\n"
     ]
    }
   ],
   "source": [
    "#hide\n",
    "from nbdev.export import notebook2script\n",
    "notebook2script()"
   ]
  },
  {
   "cell_type": "code",
   "execution_count": null,
   "id": "8fc4bbc5",
   "metadata": {},
   "outputs": [],
   "source": []
  }
 ],
 "metadata": {
  "kernelspec": {
   "display_name": "Python 3",
   "language": "python",
   "name": "python3"
  },
  "language_info": {
   "codemirror_mode": {
    "name": "ipython",
    "version": 3
   },
   "file_extension": ".py",
   "mimetype": "text/x-python",
   "name": "python",
   "nbconvert_exporter": "python",
   "pygments_lexer": "ipython3",
   "version": "3.8.12"
  },
  "widgets": {
   "application/vnd.jupyter.widget-state+json": {
    "state": {
     "08d56985654a4ad5bd6ba1521b273dce": {
      "model_module": "@jupyter-widgets/controls",
      "model_module_version": "1.5.0",
      "model_name": "ButtonModel",
      "state": {
       "_dom_classes": [],
       "_model_module": "@jupyter-widgets/controls",
       "_model_module_version": "1.5.0",
       "_model_name": "ButtonModel",
       "_view_count": null,
       "_view_module": "@jupyter-widgets/controls",
       "_view_module_version": "1.5.0",
       "_view_name": "ButtonView",
       "button_style": "",
       "description": "B",
       "disabled": false,
       "icon": "",
       "layout": "IPY_MODEL_ebfd94b9841345b1afd6a9642431f2c8",
       "style": "IPY_MODEL_d6c5470d608342c2b1291e01a582f517",
       "tooltip": "B"
      }
     },
     "27533f26ca0b409385b729d5132abf86": {
      "model_module": "@jupyter-widgets/controls",
      "model_module_version": "1.5.0",
      "model_name": "ButtonStyleModel",
      "state": {
       "_model_module": "@jupyter-widgets/controls",
       "_model_module_version": "1.5.0",
       "_model_name": "ButtonStyleModel",
       "_view_count": null,
       "_view_module": "@jupyter-widgets/base",
       "_view_module_version": "1.2.0",
       "_view_name": "StyleView",
       "button_color": null,
       "font_weight": ""
      }
     },
     "3f6daded58e043868c7cb748f817713f": {
      "model_module": "@jupyter-widgets/base",
      "model_module_version": "1.2.0",
      "model_name": "LayoutModel",
      "state": {
       "_model_module": "@jupyter-widgets/base",
       "_model_module_version": "1.2.0",
       "_model_name": "LayoutModel",
       "_view_count": null,
       "_view_module": "@jupyter-widgets/base",
       "_view_module_version": "1.2.0",
       "_view_name": "LayoutView",
       "align_content": null,
       "align_items": "center",
       "align_self": null,
       "border": null,
       "bottom": null,
       "display": null,
       "flex": null,
       "flex_flow": null,
       "grid_area": null,
       "grid_auto_columns": null,
       "grid_auto_flow": null,
       "grid_auto_rows": null,
       "grid_column": null,
       "grid_gap": null,
       "grid_row": null,
       "grid_template_areas": null,
       "grid_template_columns": null,
       "grid_template_rows": null,
       "height": null,
       "justify_content": null,
       "justify_items": null,
       "left": null,
       "margin": "3px",
       "max_height": null,
       "max_width": null,
       "min_height": null,
       "min_width": null,
       "object_fit": null,
       "object_position": null,
       "order": null,
       "overflow": "hidden",
       "overflow_x": null,
       "overflow_y": null,
       "padding": "2px",
       "right": null,
       "top": null,
       "visibility": null,
       "width": null
      }
     },
     "44ce3f51282d4066b15a907b89a1aef9": {
      "model_module": "@jupyter-widgets/controls",
      "model_module_version": "1.5.0",
      "model_name": "ButtonStyleModel",
      "state": {
       "_model_module": "@jupyter-widgets/controls",
       "_model_module_version": "1.5.0",
       "_model_name": "ButtonStyleModel",
       "_view_count": null,
       "_view_module": "@jupyter-widgets/base",
       "_view_module_version": "1.2.0",
       "_view_name": "StyleView",
       "button_color": null,
       "font_weight": ""
      }
     },
     "55efd9ec1c7e4cbeb28ee1d9ee15200f": {
      "model_module": "@jupyter-widgets/base",
      "model_module_version": "1.2.0",
      "model_name": "LayoutModel",
      "state": {
       "_model_module": "@jupyter-widgets/base",
       "_model_module_version": "1.2.0",
       "_model_name": "LayoutModel",
       "_view_count": null,
       "_view_module": "@jupyter-widgets/base",
       "_view_module_version": "1.2.0",
       "_view_name": "LayoutView",
       "align_content": null,
       "align_items": null,
       "align_self": null,
       "border": null,
       "bottom": null,
       "display": null,
       "flex": null,
       "flex_flow": null,
       "grid_area": null,
       "grid_auto_columns": null,
       "grid_auto_flow": null,
       "grid_auto_rows": null,
       "grid_column": null,
       "grid_gap": null,
       "grid_row": null,
       "grid_template_areas": null,
       "grid_template_columns": null,
       "grid_template_rows": null,
       "height": "auto",
       "justify_content": null,
       "justify_items": null,
       "left": null,
       "margin": null,
       "max_height": null,
       "max_width": null,
       "min_height": null,
       "min_width": null,
       "object_fit": null,
       "object_position": null,
       "order": null,
       "overflow": null,
       "overflow_x": null,
       "overflow_y": null,
       "padding": null,
       "right": null,
       "top": null,
       "visibility": null,
       "width": "auto"
      }
     },
     "57b4fe4be9344dd18711e10534db9f4c": {
      "model_module": "@jupyter-widgets/base",
      "model_module_version": "1.2.0",
      "model_name": "LayoutModel",
      "state": {
       "_model_module": "@jupyter-widgets/base",
       "_model_module_version": "1.2.0",
       "_model_name": "LayoutModel",
       "_view_count": null,
       "_view_module": "@jupyter-widgets/base",
       "_view_module_version": "1.2.0",
       "_view_name": "LayoutView",
       "align_content": "center",
       "align_items": "center",
       "align_self": null,
       "border": "solid 1px gray",
       "bottom": null,
       "display": "flex",
       "flex": null,
       "flex_flow": null,
       "grid_area": null,
       "grid_auto_columns": null,
       "grid_auto_flow": null,
       "grid_auto_rows": null,
       "grid_column": null,
       "grid_gap": null,
       "grid_row": null,
       "grid_template_areas": null,
       "grid_template_columns": null,
       "grid_template_rows": null,
       "height": "150px",
       "justify_content": "center",
       "justify_items": null,
       "left": null,
       "margin": "0 0 0 0",
       "max_height": null,
       "max_width": null,
       "min_height": null,
       "min_width": null,
       "object_fit": "contain",
       "object_position": null,
       "order": null,
       "overflow": "hidden",
       "overflow_x": null,
       "overflow_y": null,
       "padding": null,
       "right": null,
       "top": null,
       "visibility": null,
       "width": "150px"
      }
     },
     "61565ed02ef248ef8644bfc8bf40746f": {
      "model_module": "@jupyter-widgets/output",
      "model_module_version": "1.0.0",
      "model_name": "OutputModel",
      "state": {
       "_dom_classes": [],
       "_model_module": "@jupyter-widgets/output",
       "_model_module_version": "1.0.0",
       "_model_name": "OutputModel",
       "_view_count": null,
       "_view_module": "@jupyter-widgets/output",
       "_view_module_version": "1.0.0",
       "_view_name": "OutputView",
       "layout": "IPY_MODEL_9c23423459ce4e27a63dc4d6571bb29b",
       "msg_id": "",
       "outputs": []
      }
     },
     "846d1f94e2a84691847e946f882d7312": {
      "model_module": "@jupyter-widgets/controls",
      "model_module_version": "1.5.0",
      "model_name": "ButtonModel",
      "state": {
       "_dom_classes": [],
       "_model_module": "@jupyter-widgets/controls",
       "_model_module_version": "1.5.0",
       "_model_name": "ButtonModel",
       "_view_count": null,
       "_view_module": "@jupyter-widgets/controls",
       "_view_module_version": "1.5.0",
       "_view_name": "ButtonView",
       "button_style": "",
       "description": "A",
       "disabled": true,
       "icon": "",
       "layout": "IPY_MODEL_aea3caf5fd9242088ec9d5b79e09b2ba",
       "style": "IPY_MODEL_44ce3f51282d4066b15a907b89a1aef9",
       "tooltip": "A"
      }
     },
     "99a066849f0548c188ad788d2372131a": {
      "model_module": "ipyevents",
      "model_module_version": "1.8.2",
      "model_name": "EventModel",
      "state": {
       "_model_module": "ipyevents",
       "_model_module_version": "1.8.2",
       "_model_name": "EventModel",
       "_supported_key_events": [
        "keydown",
        "keyup"
       ],
       "_supported_mouse_events": [
        "click",
        "auxclick",
        "dblclick",
        "mouseenter",
        "mouseleave",
        "mousedown",
        "mouseup",
        "mousemove",
        "wheel",
        "contextmenu",
        "dragstart",
        "drag",
        "dragend",
        "dragenter",
        "dragover",
        "dragleave",
        "drop"
       ],
       "_view_count": null,
       "_view_module": "@jupyter-widgets/controls",
       "_view_module_version": "1.5.0",
       "_view_name": null,
       "ignore_modifier_key_events": false,
       "prevent_default_action": false,
       "source": "IPY_MODEL_e5f83e9a704740f7b514b76ffa2bbcef",
       "throttle_or_debounce": "",
       "wait": 0,
       "watched_events": [
        "click"
       ],
       "xy": [],
       "xy_coordinate_system": ""
      }
     },
     "9c23423459ce4e27a63dc4d6571bb29b": {
      "model_module": "@jupyter-widgets/base",
      "model_module_version": "1.2.0",
      "model_name": "LayoutModel",
      "state": {
       "_model_module": "@jupyter-widgets/base",
       "_model_module_version": "1.2.0",
       "_model_name": "LayoutModel",
       "_view_count": null,
       "_view_module": "@jupyter-widgets/base",
       "_view_module_version": "1.2.0",
       "_view_name": "LayoutView",
       "align_content": null,
       "align_items": null,
       "align_self": null,
       "border": "1px solid black",
       "bottom": null,
       "display": null,
       "flex": null,
       "flex_flow": null,
       "grid_area": null,
       "grid_auto_columns": null,
       "grid_auto_flow": null,
       "grid_auto_rows": null,
       "grid_column": null,
       "grid_gap": null,
       "grid_row": null,
       "grid_template_areas": null,
       "grid_template_columns": null,
       "grid_template_rows": null,
       "height": null,
       "justify_content": null,
       "justify_items": null,
       "left": null,
       "margin": null,
       "max_height": null,
       "max_width": null,
       "min_height": null,
       "min_width": null,
       "object_fit": null,
       "object_position": null,
       "order": null,
       "overflow": null,
       "overflow_x": null,
       "overflow_y": null,
       "padding": null,
       "right": null,
       "top": null,
       "visibility": null,
       "width": null
      }
     },
     "ab21383fc18f4df8ad232c706c6490a7": {
      "model_module": "@jupyter-widgets/controls",
      "model_module_version": "1.5.0",
      "model_name": "ButtonStyleModel",
      "state": {
       "_model_module": "@jupyter-widgets/controls",
       "_model_module_version": "1.5.0",
       "_model_name": "ButtonStyleModel",
       "_view_count": null,
       "_view_module": "@jupyter-widgets/base",
       "_view_module_version": "1.2.0",
       "_view_name": "StyleView",
       "button_color": null,
       "font_weight": ""
      }
     },
     "aea3caf5fd9242088ec9d5b79e09b2ba": {
      "model_module": "@jupyter-widgets/base",
      "model_module_version": "1.2.0",
      "model_name": "LayoutModel",
      "state": {
       "_model_module": "@jupyter-widgets/base",
       "_model_module_version": "1.2.0",
       "_model_name": "LayoutModel",
       "_view_count": null,
       "_view_module": "@jupyter-widgets/base",
       "_view_module_version": "1.2.0",
       "_view_name": "LayoutView",
       "align_content": null,
       "align_items": null,
       "align_self": null,
       "border": null,
       "bottom": null,
       "display": null,
       "flex": null,
       "flex_flow": null,
       "grid_area": null,
       "grid_auto_columns": null,
       "grid_auto_flow": null,
       "grid_auto_rows": null,
       "grid_column": null,
       "grid_gap": null,
       "grid_row": null,
       "grid_template_areas": null,
       "grid_template_columns": null,
       "grid_template_rows": null,
       "height": "auto",
       "justify_content": null,
       "justify_items": null,
       "left": null,
       "margin": null,
       "max_height": null,
       "max_width": null,
       "min_height": null,
       "min_width": null,
       "object_fit": null,
       "object_position": null,
       "order": null,
       "overflow": null,
       "overflow_x": null,
       "overflow_y": null,
       "padding": null,
       "right": null,
       "top": null,
       "visibility": null,
       "width": "auto"
      }
     },
     "cc0648de3ba24b64b19b6771b6911e16": {
      "model_module": "@jupyter-widgets/controls",
      "model_module_version": "1.5.0",
      "model_name": "ButtonModel",
      "state": {
       "_dom_classes": [],
       "_model_module": "@jupyter-widgets/controls",
       "_model_module_version": "1.5.0",
       "_model_name": "ButtonModel",
       "_view_count": null,
       "_view_module": "@jupyter-widgets/controls",
       "_view_module_version": "1.5.0",
       "_view_name": "ButtonView",
       "button_style": "",
       "description": "B",
       "disabled": true,
       "icon": "",
       "layout": "IPY_MODEL_f81cff15ce4c45d68d665da481a2453a",
       "style": "IPY_MODEL_27533f26ca0b409385b729d5132abf86",
       "tooltip": "B"
      }
     },
     "d6c5470d608342c2b1291e01a582f517": {
      "model_module": "@jupyter-widgets/controls",
      "model_module_version": "1.5.0",
      "model_name": "ButtonStyleModel",
      "state": {
       "_model_module": "@jupyter-widgets/controls",
       "_model_module_version": "1.5.0",
       "_model_name": "ButtonStyleModel",
       "_view_count": null,
       "_view_module": "@jupyter-widgets/base",
       "_view_module_version": "1.2.0",
       "_view_name": "StyleView",
       "button_color": null,
       "font_weight": ""
      }
     },
     "e5f83e9a704740f7b514b76ffa2bbcef": {
      "model_module": "@jupyter-widgets/controls",
      "model_module_version": "1.5.0",
      "model_name": "VBoxModel",
      "state": {
       "_dom_classes": [],
       "_model_module": "@jupyter-widgets/controls",
       "_model_module_version": "1.5.0",
       "_model_name": "VBoxModel",
       "_view_count": null,
       "_view_module": "@jupyter-widgets/controls",
       "_view_module_version": "1.5.0",
       "_view_name": "VBoxView",
       "box_style": "",
       "children": [
        "IPY_MODEL_eb9393bfb59e408da9b391dac025a0a1"
       ],
       "layout": "IPY_MODEL_3f6daded58e043868c7cb748f817713f"
      }
     },
     "eb9393bfb59e408da9b391dac025a0a1": {
      "buffers": [
       {
        "data": "iVBORw0KGgoAAAANSUhEUgAAABkAAAAZCAIAAABLixI0AAAACXBIWXMAAC4jAAAuIwF4pT92AAAAB3RJTUUH5AINFQ4z8hVVigAAABl0RVh0Q29tbWVudABDcmVhdGVkIHdpdGggR0lNUFeBDhcAAAAjSURBVDjLY3w3dy4DlQATA/XAqFmjZo2aNWrWqFmjZg0XswC+yQJajz+CqAAAAABJRU5ErkJggg==",
        "encoding": "base64",
        "path": [
         "value"
        ]
       }
      ],
      "model_module": "@jupyter-widgets/controls",
      "model_module_version": "1.5.0",
      "model_name": "ImageModel",
      "state": {
       "_dom_classes": [],
       "_model_module": "@jupyter-widgets/controls",
       "_model_module_version": "1.5.0",
       "_model_name": "ImageModel",
       "_view_count": null,
       "_view_module": "@jupyter-widgets/controls",
       "_view_module_version": "1.5.0",
       "_view_name": "ImageView",
       "format": "png",
       "height": "",
       "layout": "IPY_MODEL_57b4fe4be9344dd18711e10534db9f4c",
       "width": ""
      }
     },
     "ebfd94b9841345b1afd6a9642431f2c8": {
      "model_module": "@jupyter-widgets/base",
      "model_module_version": "1.2.0",
      "model_name": "LayoutModel",
      "state": {
       "_model_module": "@jupyter-widgets/base",
       "_model_module_version": "1.2.0",
       "_model_name": "LayoutModel",
       "_view_count": null,
       "_view_module": "@jupyter-widgets/base",
       "_view_module_version": "1.2.0",
       "_view_name": "LayoutView",
       "align_content": null,
       "align_items": null,
       "align_self": null,
       "border": "solid 2px #1B8CF3",
       "bottom": null,
       "display": null,
       "flex": null,
       "flex_flow": null,
       "grid_area": null,
       "grid_auto_columns": null,
       "grid_auto_flow": null,
       "grid_auto_rows": null,
       "grid_column": null,
       "grid_gap": null,
       "grid_row": null,
       "grid_template_areas": null,
       "grid_template_columns": null,
       "grid_template_rows": null,
       "height": "auto",
       "justify_content": null,
       "justify_items": null,
       "left": null,
       "margin": null,
       "max_height": null,
       "max_width": null,
       "min_height": null,
       "min_width": null,
       "object_fit": null,
       "object_position": null,
       "order": null,
       "overflow": null,
       "overflow_x": null,
       "overflow_y": null,
       "padding": null,
       "right": null,
       "top": null,
       "visibility": null,
       "width": "auto"
      }
     },
     "f81cff15ce4c45d68d665da481a2453a": {
      "model_module": "@jupyter-widgets/base",
      "model_module_version": "1.2.0",
      "model_name": "LayoutModel",
      "state": {
       "_model_module": "@jupyter-widgets/base",
       "_model_module_version": "1.2.0",
       "_model_name": "LayoutModel",
       "_view_count": null,
       "_view_module": "@jupyter-widgets/base",
       "_view_module_version": "1.2.0",
       "_view_name": "LayoutView",
       "align_content": null,
       "align_items": null,
       "align_self": null,
       "border": "solid 2px #1B8CF3",
       "bottom": null,
       "display": null,
       "flex": null,
       "flex_flow": null,
       "grid_area": null,
       "grid_auto_columns": null,
       "grid_auto_flow": null,
       "grid_auto_rows": null,
       "grid_column": null,
       "grid_gap": null,
       "grid_row": null,
       "grid_template_areas": null,
       "grid_template_columns": null,
       "grid_template_rows": null,
       "height": "auto",
       "justify_content": null,
       "justify_items": null,
       "left": null,
       "margin": null,
       "max_height": null,
       "max_width": null,
       "min_height": null,
       "min_width": null,
       "object_fit": null,
       "object_position": null,
       "order": null,
       "overflow": null,
       "overflow_x": null,
       "overflow_y": null,
       "padding": null,
       "right": null,
       "top": null,
       "visibility": null,
       "width": "auto"
      }
     },
     "fdfdbce020e94049944755b890a3b3ec": {
      "model_module": "@jupyter-widgets/controls",
      "model_module_version": "1.5.0",
      "model_name": "ButtonModel",
      "state": {
       "_dom_classes": [],
       "_model_module": "@jupyter-widgets/controls",
       "_model_module_version": "1.5.0",
       "_model_name": "ButtonModel",
       "_view_count": null,
       "_view_module": "@jupyter-widgets/controls",
       "_view_module_version": "1.5.0",
       "_view_name": "ButtonView",
       "button_style": "",
       "description": "A",
       "disabled": false,
       "icon": "",
       "layout": "IPY_MODEL_55efd9ec1c7e4cbeb28ee1d9ee15200f",
       "style": "IPY_MODEL_ab21383fc18f4df8ad232c706c6490a7",
       "tooltip": "A"
      }
     }
    },
    "version_major": 2,
    "version_minor": 0
   }
  }
 },
 "nbformat": 4,
 "nbformat_minor": 5
}