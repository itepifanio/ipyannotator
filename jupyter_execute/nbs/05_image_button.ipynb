{
 "cells": [
  {
   "cell_type": "code",
   "execution_count": 1,
   "metadata": {},
   "outputs": [],
   "source": [
    "# default_exp custom_input.buttons"
   ]
  },
  {
   "cell_type": "code",
   "execution_count": 2,
   "metadata": {
    "tags": [
     "remove-cell"
    ]
   },
   "outputs": [],
   "source": [
    "# hide\n",
    "%load_ext autoreload\n",
    "%autoreload 2"
   ]
  },
  {
   "cell_type": "code",
   "execution_count": 3,
   "metadata": {
    "tags": [
     "remove-cell"
    ]
   },
   "outputs": [],
   "source": [
    "# hide\n",
    "from nbdev import *"
   ]
  },
  {
   "cell_type": "code",
   "execution_count": 4,
   "metadata": {},
   "outputs": [],
   "source": [
    "#exporti\n",
    "from pathlib import Path\n",
    "\n",
    "import attr\n",
    "from ipyevents import Event\n",
    "from ipywidgets import Image, VBox, Layout, Output, HTML\n",
    "from traitlets import Bool, Unicode, HasTraits, observe\n",
    "from typing import Optional, Union, Any"
   ]
  },
  {
   "cell_type": "code",
   "execution_count": 5,
   "metadata": {
    "tags": [
     "remove-cell"
    ]
   },
   "outputs": [],
   "source": [
    "# hide\n",
    "\n",
    "from IPython.display import display"
   ]
  },
  {
   "cell_type": "markdown",
   "metadata": {},
   "source": [
    "# Image button"
   ]
  },
  {
   "cell_type": "code",
   "execution_count": 6,
   "metadata": {},
   "outputs": [],
   "source": [
    "#exporti\n",
    "@attr.define(slots=False)\n",
    "class ImageButtonSetting:\n",
    "    im_path: Optional[str] = None\n",
    "    label: Optional[Union[HTML, str]] = None\n",
    "    im_name: Optional[str] = None\n",
    "    im_index: Optional[Any] = None\n",
    "    display_label: bool = True\n",
    "    image_width: str = '50px'\n",
    "    image_height: Optional[str] = None"
   ]
  },
  {
   "cell_type": "code",
   "execution_count": 7,
   "metadata": {},
   "outputs": [],
   "source": [
    "#export\n",
    "\n",
    "class ImageButton(VBox, HasTraits):\n",
    "    \"\"\"\n",
    "    Represents simple image with label and toggle button functionality.\n",
    "\n",
    "    # Class methods\n",
    "\n",
    "    - clear(): Clear image infos\n",
    "\n",
    "    - on_click(p_function): Handle click events\n",
    "\n",
    "    # Class methods\n",
    "\n",
    "    - clear(): Clear image infos\n",
    "\n",
    "    - on_click(p_function): Handle click events\n",
    "\n",
    "    - reset_callbacks(): Reset event callbacks\n",
    "    \"\"\"\n",
    "    debug_output = Output(layout={'border': '1px solid black'})\n",
    "    active = Bool()\n",
    "    image_path = Unicode()\n",
    "    label_value = Unicode()\n",
    "\n",
    "    def __init__(self, setting: ImageButtonSetting):\n",
    "\n",
    "        self.setting = setting\n",
    "        self.image = Image(\n",
    "            layout=Layout(display='flex',\n",
    "                          justify_content='center',\n",
    "                          align_items='center',\n",
    "                          align_content='center',\n",
    "                          width=setting.image_width,\n",
    "                          margin='0 0 0 0',\n",
    "                          height=setting.image_height),\n",
    "        )\n",
    "\n",
    "        if self.setting.display_label:  # both image and label\n",
    "            self.setting.label = HTML(\n",
    "                value='?',\n",
    "                layout=Layout(display='flex',\n",
    "                              justify_content='center',\n",
    "                              align_items='center',\n",
    "                              align_content='center'),\n",
    "            )\n",
    "        else:  # no label (capture image case)\n",
    "            self.im_name = self.setting.im_name\n",
    "            self.im_index = self.setting.im_index\n",
    "            self.image.layout.border = 'solid 1px gray'\n",
    "            self.image.layout.object_fit = 'contain'\n",
    "            self.image.margin = '0 0 0 0'\n",
    "            self.image.layout.overflow = 'hidden'\n",
    "\n",
    "        super().__init__(layout=Layout(align_items='center',\n",
    "                                       margin='3px',\n",
    "                                       overflow='hidden',\n",
    "                                       padding='2px'))\n",
    "        if not setting.im_path:\n",
    "            self.clear()\n",
    "\n",
    "        self.d = Event(source=self, watched_events=['click'])\n",
    "\n",
    "    @observe('image_path')\n",
    "    def _read_image(self, change=None):\n",
    "        new_path = change['new']\n",
    "        if new_path:\n",
    "            self.image.value = open(new_path, \"rb\").read()\n",
    "            if not self.children:\n",
    "                self.children = (self.image,)\n",
    "                if self.setting.display_label:\n",
    "                    self.children += (self.setting.label,)\n",
    "        else:\n",
    "            #do not display image widget\n",
    "            self.children = tuple()\n",
    "\n",
    "    @observe('label_value')\n",
    "    def _read_label(self, change=None):\n",
    "        new_label = change['new']\n",
    "\n",
    "        if isinstance(self.setting.label, HTML):\n",
    "            self.setting.label.value = new_label\n",
    "        else:\n",
    "            self.setting.label = new_label\n",
    "\n",
    "    def clear(self):\n",
    "        if isinstance(self.setting.label, HTML):\n",
    "            self.setting.label.value = ''\n",
    "        else:\n",
    "            self.setting.label = ''\n",
    "        self.image_path = ''\n",
    "        self.active = False\n",
    "\n",
    "    @observe('active')\n",
    "    def mark(self, ev):\n",
    "        # pad to compensate self size with border\n",
    "        if self.active:\n",
    "            if self.setting.display_label:\n",
    "                self.layout.border = 'solid 2px #1B8CF3'\n",
    "                self.layout.padding = '0px'\n",
    "            else:\n",
    "                self.image.layout.border = 'solid 3px #1B8CF3'\n",
    "                self.image.layout.padding = '0px'\n",
    "        else:\n",
    "            if self.setting.display_label:\n",
    "                self.layout.border = 'none'\n",
    "                self.layout.padding = '2px'\n",
    "            else:\n",
    "                self.image.layout.border = 'solid 1px gray'\n",
    "\n",
    "    def __eq__(self, other):\n",
    "        equals = [\n",
    "            other.image_path == self.image_path,\n",
    "            other.label_value == self.label_value,\n",
    "            other.active == self.active,\n",
    "        ]\n",
    "\n",
    "        return all(equals)\n",
    "\n",
    "    def update(self, other):\n",
    "        if self != other:\n",
    "            self.image_path = other.image_path\n",
    "            self.label_value = other.label_value\n",
    "            self.active = other.active\n",
    "\n",
    "    @property\n",
    "    def value(self):\n",
    "        return Path(self.image_path).name\n",
    "\n",
    "    @debug_output.capture(clear_output=False)\n",
    "    def on_click(self, cb):\n",
    "        self.d.on_dom_event(cb)\n",
    "\n",
    "    def reset_callbacks(self):\n",
    "        self.d.reset_callbacks()"
   ]
  },
  {
   "cell_type": "code",
   "execution_count": 8,
   "metadata": {
    "tags": [
     "remove-cell"
    ]
   },
   "outputs": [
    {
     "data": {
      "application/vnd.jupyter.widget-view+json": {
       "model_id": "506cb1545f71430d8abd9e95ee5571f8",
       "version_major": 2,
       "version_minor": 0
      },
      "text/plain": [
       "Image(value=b'\\x89PNG\\r\\n\\x1a\\n\\x00\\x00\\x00\\rIHDR\\x00\\x00\\x00\\xc8\\x00\\x00\\x00\\xc8\\x08\\x02\\x00\\x00\\x00\":9\\xc9\\x…"
      ]
     },
     "metadata": {},
     "output_type": "display_data"
    }
   ],
   "source": [
    "# hide\n",
    "im = Image()\n",
    "im.value = open('../data/mock/pics/test200x200.png', \"rb\").read()\n",
    "im"
   ]
  },
  {
   "cell_type": "code",
   "execution_count": 9,
   "metadata": {
    "tags": [
     "remove-cell"
    ]
   },
   "outputs": [
    {
     "data": {
      "application/vnd.jupyter.widget-view+json": {
       "model_id": "491912dfe1c4485f97538c65f59f569d",
       "version_major": 2,
       "version_minor": 0
      },
      "text/plain": [
       "ImageButton(layout=Layout(align_items='center', margin='3px', overflow='hidden', padding='2px'))"
      ]
     },
     "metadata": {},
     "output_type": "display_data"
    },
    {
     "data": {
      "application/vnd.jupyter.widget-view+json": {
       "model_id": "3dbf4dac5f7a4d6ab5cbd57e04bc6e19",
       "version_major": 2,
       "version_minor": 0
      },
      "text/plain": [
       "Output(layout=Layout(border='1px solid black'))"
      ]
     },
     "metadata": {},
     "output_type": "display_data"
    },
    {
     "data": {
      "text/plain": [
       "(None, None)"
      ]
     },
     "execution_count": 9,
     "metadata": {},
     "output_type": "execute_result"
    }
   ],
   "source": [
    "# hide\n",
    "setting = ImageButtonSetting()\n",
    "imb = ImageButton(setting)\n",
    "display(imb), display(imb.debug_output)"
   ]
  },
  {
   "cell_type": "code",
   "execution_count": 10,
   "metadata": {
    "tags": [
     "remove-cell"
    ]
   },
   "outputs": [
    {
     "data": {
      "text/plain": [
       "''"
      ]
     },
     "execution_count": 10,
     "metadata": {},
     "output_type": "execute_result"
    }
   ],
   "source": [
    "# hide\n",
    "assert not imb.active\n",
    "imb.value"
   ]
  },
  {
   "cell_type": "code",
   "execution_count": 11,
   "metadata": {
    "tags": [
     "remove-cell"
    ]
   },
   "outputs": [
    {
     "data": {
      "application/vnd.jupyter.widget-view+json": {
       "model_id": "0550f910fde846ae88fc9b25652c33b2",
       "version_major": 2,
       "version_minor": 0
      },
      "text/plain": [
       "HTML(value='Event info')"
      ]
     },
     "metadata": {},
     "output_type": "display_data"
    }
   ],
   "source": [
    "# hide\n",
    "h = HTML('Event info')\n",
    "display(h)"
   ]
  },
  {
   "cell_type": "code",
   "execution_count": 12,
   "metadata": {
    "tags": [
     "remove-cell"
    ]
   },
   "outputs": [
    {
     "data": {
      "text/plain": [
       "[functools.partial(<function handle_event at 0x7fac5ccd38b0>, name='imb')]"
      ]
     },
     "execution_count": 12,
     "metadata": {},
     "output_type": "execute_result"
    }
   ],
   "source": [
    "# hide\n",
    "from functools import partial\n",
    "\n",
    "\n",
    "def handle_event(event, name=None):\n",
    "    event.update({'bname': name})\n",
    "    lines = ['{}: {}'.format(k, v) for k, v in event.items() if k in ['bname', 'type']]\n",
    "    content = '<br>'.join(lines)\n",
    "    h.value = content\n",
    "\n",
    "\n",
    "imb.on_click(partial(handle_event, name='imb'))\n",
    "imb.d._dom_handlers.callbacks"
   ]
  },
  {
   "cell_type": "code",
   "execution_count": 13,
   "metadata": {
    "tags": [
     "remove-cell"
    ]
   },
   "outputs": [
    {
     "data": {
      "text/plain": [
       "[]"
      ]
     },
     "execution_count": 13,
     "metadata": {},
     "output_type": "execute_result"
    }
   ],
   "source": [
    "# hide\n",
    "imb.reset_callbacks()\n",
    "imb.d._dom_handlers.callbacks"
   ]
  },
  {
   "cell_type": "code",
   "execution_count": 14,
   "metadata": {
    "tags": [
     "remove-cell"
    ]
   },
   "outputs": [],
   "source": [
    "# hide\n",
    "imb.image_path = '../data/mock/pics/test200x200.png'\n",
    "imb.label_value = 'new_label'\n",
    "imb.active = True\n",
    "assert imb.value == 'test200x200.png'"
   ]
  },
  {
   "cell_type": "code",
   "execution_count": 15,
   "metadata": {
    "tags": [
     "remove-cell"
    ]
   },
   "outputs": [],
   "source": [
    "# hide\n",
    "imb.clear()"
   ]
  },
  {
   "cell_type": "code",
   "execution_count": 16,
   "metadata": {
    "tags": [
     "remove-cell"
    ]
   },
   "outputs": [
    {
     "data": {
      "application/vnd.jupyter.widget-view+json": {
       "model_id": "735942351ff34c72b108ea4bc2ed247e",
       "version_major": 2,
       "version_minor": 0
      },
      "text/plain": [
       "ImageButton(layout=Layout(align_items='center', margin='3px', overflow='hidden', padding='2px'))"
      ]
     },
     "metadata": {},
     "output_type": "display_data"
    }
   ],
   "source": [
    "# hide\n",
    "button_setting = ImageButtonSetting(\n",
    "    im_path='../data/mock/pics/test200x200.png',\n",
    "    label='hm',\n",
    "    display_label=False\n",
    ")\n",
    "im_button = ImageButton(button_setting)\n",
    "\n",
    "\n",
    "def handle_event_(event, name=None):\n",
    "    if name == im_button.name:\n",
    "        im_button.active = not im_button.active\n",
    "\n",
    "\n",
    "im_button.on_click(partial(handle_event_, name='test200x200.png'))\n",
    "\n",
    "display(im_button)"
   ]
  },
  {
   "cell_type": "code",
   "execution_count": 17,
   "metadata": {
    "tags": [
     "remove-cell"
    ]
   },
   "outputs": [
    {
     "name": "stdout",
     "output_type": "stream",
     "text": [
      "Converted 00_base.ipynb.\n",
      "Converted 00a_annotator.ipynb.\n",
      "Converted 00b_mltypes.ipynb.\n",
      "Converted 00c_annotation_types.ipynb.\n",
      "Converted 00d_doc_utils.ipynb.\n",
      "Converted 01_bbox_canvas.ipynb.\n",
      "Converted 01_helpers.ipynb.\n",
      "Converted 01a_datasets.ipynb.\n"
     ]
    },
    {
     "name": "stdout",
     "output_type": "stream",
     "text": [
      "Converted 01a_datasets_download.ipynb.\n",
      "Converted 01a_datasets_factory.ipynb.\n",
      "Converted 01b_dataset_video.ipynb.\n",
      "Converted 01b_tutorial_image_classification.ipynb.\n",
      "Converted 01c_tutorial_bbox.ipynb.\n",
      "Converted 01d_tutorial_video_annotator.ipynb.\n",
      "Converted 02_navi_widget.ipynb.\n",
      "Converted 02a_right_menu_widget.ipynb.\n",
      "Converted 02b_grid_menu.ipynb.\n"
     ]
    },
    {
     "name": "stdout",
     "output_type": "stream",
     "text": [
      "Converted 03_storage.ipynb.\n",
      "Converted 04_bbox_annotator.ipynb.\n",
      "Converted 05_image_button.ipynb.\n",
      "Converted 06_capture_annotator.ipynb.\n",
      "Converted 07_im2im_annotator.ipynb.\n",
      "Converted 08_tutorial_road_damage.ipynb.\n",
      "Converted 09_voila_example.ipynb.\n",
      "Converted 11_build_annotator_tutorial.ipynb.\n"
     ]
    },
    {
     "name": "stdout",
     "output_type": "stream",
     "text": [
      "Converted 12_debug_utils.ipynb.\n",
      "Converted 13_datasets_legacy.ipynb.\n",
      "Converted 14_datasets_factory_legacy.ipynb.\n",
      "Converted 15_coordinates_input.ipynb.\n",
      "Converted 16_custom_buttons.ipynb.\n",
      "Converted 17_annotator_explorer.ipynb.\n",
      "Converted 18_bbox_trajectory.ipynb.\n",
      "Converted 19_bbox_video_annotator.ipynb.\n",
      "Converted 20_image_classification_user_story.ipynb.\n",
      "Converted index.ipynb.\n"
     ]
    }
   ],
   "source": [
    "#hide\n",
    "from nbdev.export import notebook2script\n",
    "notebook2script()"
   ]
  },
  {
   "cell_type": "code",
   "execution_count": null,
   "metadata": {},
   "outputs": [],
   "source": []
  }
 ],
 "metadata": {
  "kernelspec": {
   "display_name": "Python 3",
   "language": "python",
   "name": "python3"
  },
  "language_info": {
   "codemirror_mode": {
    "name": "ipython",
    "version": 3
   },
   "file_extension": ".py",
   "mimetype": "text/x-python",
   "name": "python",
   "nbconvert_exporter": "python",
   "pygments_lexer": "ipython3",
   "version": "3.8.12"
  },
  "widgets": {
   "application/vnd.jupyter.widget-state+json": {
    "state": {
     "0550f910fde846ae88fc9b25652c33b2": {
      "model_module": "@jupyter-widgets/controls",
      "model_module_version": "1.5.0",
      "model_name": "HTMLModel",
      "state": {
       "_dom_classes": [],
       "_model_module": "@jupyter-widgets/controls",
       "_model_module_version": "1.5.0",
       "_model_name": "HTMLModel",
       "_view_count": null,
       "_view_module": "@jupyter-widgets/controls",
       "_view_module_version": "1.5.0",
       "_view_name": "HTMLView",
       "description": "",
       "description_tooltip": null,
       "layout": "IPY_MODEL_7746b328efd945d2855ccaad7b55da5e",
       "placeholder": "​",
       "style": "IPY_MODEL_9f271e200bfe4176ad9dd05c51d2bdfe",
       "value": "Event info"
      }
     },
     "0f58aaf36a28497896867f806d4b0429": {
      "buffers": [
       {
        "data": "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",
        "encoding": "base64",
        "path": [
         "value"
        ]
       }
      ],
      "model_module": "@jupyter-widgets/controls",
      "model_module_version": "1.5.0",
      "model_name": "ImageModel",
      "state": {
       "_dom_classes": [],
       "_model_module": "@jupyter-widgets/controls",
       "_model_module_version": "1.5.0",
       "_model_name": "ImageModel",
       "_view_count": null,
       "_view_module": "@jupyter-widgets/controls",
       "_view_module_version": "1.5.0",
       "_view_name": "ImageView",
       "format": "png",
       "height": "",
       "layout": "IPY_MODEL_d218861c56164db380304e7fd880ff26",
       "width": ""
      }
     },
     "252a8be2c9c344149ede386ca14be1e8": {
      "model_module": "@jupyter-widgets/base",
      "model_module_version": "1.2.0",
      "model_name": "LayoutModel",
      "state": {
       "_model_module": "@jupyter-widgets/base",
       "_model_module_version": "1.2.0",
       "_model_name": "LayoutModel",
       "_view_count": null,
       "_view_module": "@jupyter-widgets/base",
       "_view_module_version": "1.2.0",
       "_view_name": "LayoutView",
       "align_content": null,
       "align_items": null,
       "align_self": null,
       "border": null,
       "bottom": null,
       "display": null,
       "flex": null,
       "flex_flow": null,
       "grid_area": null,
       "grid_auto_columns": null,
       "grid_auto_flow": null,
       "grid_auto_rows": null,
       "grid_column": null,
       "grid_gap": null,
       "grid_row": null,
       "grid_template_areas": null,
       "grid_template_columns": null,
       "grid_template_rows": null,
       "height": null,
       "justify_content": null,
       "justify_items": null,
       "left": null,
       "margin": null,
       "max_height": null,
       "max_width": null,
       "min_height": null,
       "min_width": null,
       "object_fit": null,
       "object_position": null,
       "order": null,
       "overflow": null,
       "overflow_x": null,
       "overflow_y": null,
       "padding": null,
       "right": null,
       "top": null,
       "visibility": null,
       "width": null
      }
     },
     "312a7e02e824469f90dd816b04617fe6": {
      "model_module": "@jupyter-widgets/base",
      "model_module_version": "1.2.0",
      "model_name": "LayoutModel",
      "state": {
       "_model_module": "@jupyter-widgets/base",
       "_model_module_version": "1.2.0",
       "_model_name": "LayoutModel",
       "_view_count": null,
       "_view_module": "@jupyter-widgets/base",
       "_view_module_version": "1.2.0",
       "_view_name": "LayoutView",
       "align_content": null,
       "align_items": null,
       "align_self": null,
       "border": "1px solid black",
       "bottom": null,
       "display": null,
       "flex": null,
       "flex_flow": null,
       "grid_area": null,
       "grid_auto_columns": null,
       "grid_auto_flow": null,
       "grid_auto_rows": null,
       "grid_column": null,
       "grid_gap": null,
       "grid_row": null,
       "grid_template_areas": null,
       "grid_template_columns": null,
       "grid_template_rows": null,
       "height": null,
       "justify_content": null,
       "justify_items": null,
       "left": null,
       "margin": null,
       "max_height": null,
       "max_width": null,
       "min_height": null,
       "min_width": null,
       "object_fit": null,
       "object_position": null,
       "order": null,
       "overflow": null,
       "overflow_x": null,
       "overflow_y": null,
       "padding": null,
       "right": null,
       "top": null,
       "visibility": null,
       "width": null
      }
     },
     "3dbf4dac5f7a4d6ab5cbd57e04bc6e19": {
      "model_module": "@jupyter-widgets/output",
      "model_module_version": "1.0.0",
      "model_name": "OutputModel",
      "state": {
       "_dom_classes": [],
       "_model_module": "@jupyter-widgets/output",
       "_model_module_version": "1.0.0",
       "_model_name": "OutputModel",
       "_view_count": null,
       "_view_module": "@jupyter-widgets/output",
       "_view_module_version": "1.0.0",
       "_view_name": "OutputView",
       "layout": "IPY_MODEL_312a7e02e824469f90dd816b04617fe6",
       "msg_id": "",
       "outputs": []
      }
     },
     "491912dfe1c4485f97538c65f59f569d": {
      "model_module": "@jupyter-widgets/controls",
      "model_module_version": "1.5.0",
      "model_name": "VBoxModel",
      "state": {
       "_dom_classes": [],
       "_model_module": "@jupyter-widgets/controls",
       "_model_module_version": "1.5.0",
       "_model_name": "VBoxModel",
       "_view_count": null,
       "_view_module": "@jupyter-widgets/controls",
       "_view_module_version": "1.5.0",
       "_view_name": "VBoxView",
       "box_style": "",
       "children": [],
       "layout": "IPY_MODEL_bcc87d9addb64e39b3905d041358c72f"
      }
     },
     "506cb1545f71430d8abd9e95ee5571f8": {
      "buffers": [
       {
        "data": "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",
        "encoding": "base64",
        "path": [
         "value"
        ]
       }
      ],
      "model_module": "@jupyter-widgets/controls",
      "model_module_version": "1.5.0",
      "model_name": "ImageModel",
      "state": {
       "_dom_classes": [],
       "_model_module": "@jupyter-widgets/controls",
       "_model_module_version": "1.5.0",
       "_model_name": "ImageModel",
       "_view_count": null,
       "_view_module": "@jupyter-widgets/controls",
       "_view_module_version": "1.5.0",
       "_view_name": "ImageView",
       "format": "png",
       "height": "",
       "layout": "IPY_MODEL_252a8be2c9c344149ede386ca14be1e8",
       "width": ""
      }
     },
     "735942351ff34c72b108ea4bc2ed247e": {
      "model_module": "@jupyter-widgets/controls",
      "model_module_version": "1.5.0",
      "model_name": "VBoxModel",
      "state": {
       "_dom_classes": [],
       "_model_module": "@jupyter-widgets/controls",
       "_model_module_version": "1.5.0",
       "_model_name": "VBoxModel",
       "_view_count": null,
       "_view_module": "@jupyter-widgets/controls",
       "_view_module_version": "1.5.0",
       "_view_name": "VBoxView",
       "box_style": "",
       "children": [],
       "layout": "IPY_MODEL_bdd1ec3b43f541ef8a21977ad5e2f9e8"
      }
     },
     "7746b328efd945d2855ccaad7b55da5e": {
      "model_module": "@jupyter-widgets/base",
      "model_module_version": "1.2.0",
      "model_name": "LayoutModel",
      "state": {
       "_model_module": "@jupyter-widgets/base",
       "_model_module_version": "1.2.0",
       "_model_name": "LayoutModel",
       "_view_count": null,
       "_view_module": "@jupyter-widgets/base",
       "_view_module_version": "1.2.0",
       "_view_name": "LayoutView",
       "align_content": null,
       "align_items": null,
       "align_self": null,
       "border": null,
       "bottom": null,
       "display": null,
       "flex": null,
       "flex_flow": null,
       "grid_area": null,
       "grid_auto_columns": null,
       "grid_auto_flow": null,
       "grid_auto_rows": null,
       "grid_column": null,
       "grid_gap": null,
       "grid_row": null,
       "grid_template_areas": null,
       "grid_template_columns": null,
       "grid_template_rows": null,
       "height": null,
       "justify_content": null,
       "justify_items": null,
       "left": null,
       "margin": null,
       "max_height": null,
       "max_width": null,
       "min_height": null,
       "min_width": null,
       "object_fit": null,
       "object_position": null,
       "order": null,
       "overflow": null,
       "overflow_x": null,
       "overflow_y": null,
       "padding": null,
       "right": null,
       "top": null,
       "visibility": null,
       "width": null
      }
     },
     "797f677c0e034ba5906ae592ce1233d5": {
      "model_module": "ipyevents",
      "model_module_version": "1.8.2",
      "model_name": "EventModel",
      "state": {
       "_model_module": "ipyevents",
       "_model_module_version": "1.8.2",
       "_model_name": "EventModel",
       "_supported_key_events": [
        "keydown",
        "keyup"
       ],
       "_supported_mouse_events": [
        "click",
        "auxclick",
        "dblclick",
        "mouseenter",
        "mouseleave",
        "mousedown",
        "mouseup",
        "mousemove",
        "wheel",
        "contextmenu",
        "dragstart",
        "drag",
        "dragend",
        "dragenter",
        "dragover",
        "dragleave",
        "drop"
       ],
       "_view_count": null,
       "_view_module": "@jupyter-widgets/controls",
       "_view_module_version": "1.5.0",
       "_view_name": null,
       "ignore_modifier_key_events": false,
       "prevent_default_action": false,
       "source": "IPY_MODEL_491912dfe1c4485f97538c65f59f569d",
       "throttle_or_debounce": "",
       "wait": 0,
       "watched_events": [
        "click"
       ],
       "xy": [],
       "xy_coordinate_system": ""
      }
     },
     "9bf0205effba49608e72e3cc0649d5ec": {
      "model_module": "@jupyter-widgets/base",
      "model_module_version": "1.2.0",
      "model_name": "LayoutModel",
      "state": {
       "_model_module": "@jupyter-widgets/base",
       "_model_module_version": "1.2.0",
       "_model_name": "LayoutModel",
       "_view_count": null,
       "_view_module": "@jupyter-widgets/base",
       "_view_module_version": "1.2.0",
       "_view_name": "LayoutView",
       "align_content": "center",
       "align_items": "center",
       "align_self": null,
       "border": "solid 1px gray",
       "bottom": null,
       "display": "flex",
       "flex": null,
       "flex_flow": null,
       "grid_area": null,
       "grid_auto_columns": null,
       "grid_auto_flow": null,
       "grid_auto_rows": null,
       "grid_column": null,
       "grid_gap": null,
       "grid_row": null,
       "grid_template_areas": null,
       "grid_template_columns": null,
       "grid_template_rows": null,
       "height": null,
       "justify_content": "center",
       "justify_items": null,
       "left": null,
       "margin": "0 0 0 0",
       "max_height": null,
       "max_width": null,
       "min_height": null,
       "min_width": null,
       "object_fit": "contain",
       "object_position": null,
       "order": null,
       "overflow": "hidden",
       "overflow_x": null,
       "overflow_y": null,
       "padding": null,
       "right": null,
       "top": null,
       "visibility": null,
       "width": "50px"
      }
     },
     "9f271e200bfe4176ad9dd05c51d2bdfe": {
      "model_module": "@jupyter-widgets/controls",
      "model_module_version": "1.5.0",
      "model_name": "DescriptionStyleModel",
      "state": {
       "_model_module": "@jupyter-widgets/controls",
       "_model_module_version": "1.5.0",
       "_model_name": "DescriptionStyleModel",
       "_view_count": null,
       "_view_module": "@jupyter-widgets/base",
       "_view_module_version": "1.2.0",
       "_view_name": "StyleView",
       "description_width": ""
      }
     },
     "ac3e894aa62148eaaff28fe52a008d6d": {
      "model_module": "ipyevents",
      "model_module_version": "1.8.2",
      "model_name": "EventModel",
      "state": {
       "_model_module": "ipyevents",
       "_model_module_version": "1.8.2",
       "_model_name": "EventModel",
       "_supported_key_events": [
        "keydown",
        "keyup"
       ],
       "_supported_mouse_events": [
        "click",
        "auxclick",
        "dblclick",
        "mouseenter",
        "mouseleave",
        "mousedown",
        "mouseup",
        "mousemove",
        "wheel",
        "contextmenu",
        "dragstart",
        "drag",
        "dragend",
        "dragenter",
        "dragover",
        "dragleave",
        "drop"
       ],
       "_view_count": null,
       "_view_module": "@jupyter-widgets/controls",
       "_view_module_version": "1.5.0",
       "_view_name": null,
       "ignore_modifier_key_events": false,
       "prevent_default_action": false,
       "source": "IPY_MODEL_735942351ff34c72b108ea4bc2ed247e",
       "throttle_or_debounce": "",
       "wait": 0,
       "watched_events": [
        "click"
       ],
       "xy": [],
       "xy_coordinate_system": ""
      }
     },
     "bcc87d9addb64e39b3905d041358c72f": {
      "model_module": "@jupyter-widgets/base",
      "model_module_version": "1.2.0",
      "model_name": "LayoutModel",
      "state": {
       "_model_module": "@jupyter-widgets/base",
       "_model_module_version": "1.2.0",
       "_model_name": "LayoutModel",
       "_view_count": null,
       "_view_module": "@jupyter-widgets/base",
       "_view_module_version": "1.2.0",
       "_view_name": "LayoutView",
       "align_content": null,
       "align_items": "center",
       "align_self": null,
       "border": "none",
       "bottom": null,
       "display": null,
       "flex": null,
       "flex_flow": null,
       "grid_area": null,
       "grid_auto_columns": null,
       "grid_auto_flow": null,
       "grid_auto_rows": null,
       "grid_column": null,
       "grid_gap": null,
       "grid_row": null,
       "grid_template_areas": null,
       "grid_template_columns": null,
       "grid_template_rows": null,
       "height": null,
       "justify_content": null,
       "justify_items": null,
       "left": null,
       "margin": "3px",
       "max_height": null,
       "max_width": null,
       "min_height": null,
       "min_width": null,
       "object_fit": null,
       "object_position": null,
       "order": null,
       "overflow": "hidden",
       "overflow_x": null,
       "overflow_y": null,
       "padding": "2px",
       "right": null,
       "top": null,
       "visibility": null,
       "width": null
      }
     },
     "bdd1ec3b43f541ef8a21977ad5e2f9e8": {
      "model_module": "@jupyter-widgets/base",
      "model_module_version": "1.2.0",
      "model_name": "LayoutModel",
      "state": {
       "_model_module": "@jupyter-widgets/base",
       "_model_module_version": "1.2.0",
       "_model_name": "LayoutModel",
       "_view_count": null,
       "_view_module": "@jupyter-widgets/base",
       "_view_module_version": "1.2.0",
       "_view_name": "LayoutView",
       "align_content": null,
       "align_items": "center",
       "align_self": null,
       "border": null,
       "bottom": null,
       "display": null,
       "flex": null,
       "flex_flow": null,
       "grid_area": null,
       "grid_auto_columns": null,
       "grid_auto_flow": null,
       "grid_auto_rows": null,
       "grid_column": null,
       "grid_gap": null,
       "grid_row": null,
       "grid_template_areas": null,
       "grid_template_columns": null,
       "grid_template_rows": null,
       "height": null,
       "justify_content": null,
       "justify_items": null,
       "left": null,
       "margin": "3px",
       "max_height": null,
       "max_width": null,
       "min_height": null,
       "min_width": null,
       "object_fit": null,
       "object_position": null,
       "order": null,
       "overflow": "hidden",
       "overflow_x": null,
       "overflow_y": null,
       "padding": "2px",
       "right": null,
       "top": null,
       "visibility": null,
       "width": null
      }
     },
     "cb1bb325fbe5433aadb4bc0b99ffb451": {
      "model_module": "@jupyter-widgets/controls",
      "model_module_version": "1.5.0",
      "model_name": "DescriptionStyleModel",
      "state": {
       "_model_module": "@jupyter-widgets/controls",
       "_model_module_version": "1.5.0",
       "_model_name": "DescriptionStyleModel",
       "_view_count": null,
       "_view_module": "@jupyter-widgets/base",
       "_view_module_version": "1.2.0",
       "_view_name": "StyleView",
       "description_width": ""
      }
     },
     "d218861c56164db380304e7fd880ff26": {
      "model_module": "@jupyter-widgets/base",
      "model_module_version": "1.2.0",
      "model_name": "LayoutModel",
      "state": {
       "_model_module": "@jupyter-widgets/base",
       "_model_module_version": "1.2.0",
       "_model_name": "LayoutModel",
       "_view_count": null,
       "_view_module": "@jupyter-widgets/base",
       "_view_module_version": "1.2.0",
       "_view_name": "LayoutView",
       "align_content": "center",
       "align_items": "center",
       "align_self": null,
       "border": null,
       "bottom": null,
       "display": "flex",
       "flex": null,
       "flex_flow": null,
       "grid_area": null,
       "grid_auto_columns": null,
       "grid_auto_flow": null,
       "grid_auto_rows": null,
       "grid_column": null,
       "grid_gap": null,
       "grid_row": null,
       "grid_template_areas": null,
       "grid_template_columns": null,
       "grid_template_rows": null,
       "height": null,
       "justify_content": "center",
       "justify_items": null,
       "left": null,
       "margin": "0 0 0 0",
       "max_height": null,
       "max_width": null,
       "min_height": null,
       "min_width": null,
       "object_fit": null,
       "object_position": null,
       "order": null,
       "overflow": null,
       "overflow_x": null,
       "overflow_y": null,
       "padding": null,
       "right": null,
       "top": null,
       "visibility": null,
       "width": "50px"
      }
     },
     "d72f8fc037344149a4bacce9b498d0eb": {
      "model_module": "@jupyter-widgets/controls",
      "model_module_version": "1.5.0",
      "model_name": "HTMLModel",
      "state": {
       "_dom_classes": [],
       "_model_module": "@jupyter-widgets/controls",
       "_model_module_version": "1.5.0",
       "_model_name": "HTMLModel",
       "_view_count": null,
       "_view_module": "@jupyter-widgets/controls",
       "_view_module_version": "1.5.0",
       "_view_name": "HTMLView",
       "description": "",
       "description_tooltip": null,
       "layout": "IPY_MODEL_f7b09d3f740b443a8f814af7b3097f03",
       "placeholder": "​",
       "style": "IPY_MODEL_cb1bb325fbe5433aadb4bc0b99ffb451",
       "value": ""
      }
     },
     "f37496b53fef4b1a93b300514c6c68f2": {
      "buffers": [
       {
        "data": "",
        "encoding": "base64",
        "path": [
         "value"
        ]
       }
      ],
      "model_module": "@jupyter-widgets/controls",
      "model_module_version": "1.5.0",
      "model_name": "ImageModel",
      "state": {
       "_dom_classes": [],
       "_model_module": "@jupyter-widgets/controls",
       "_model_module_version": "1.5.0",
       "_model_name": "ImageModel",
       "_view_count": null,
       "_view_module": "@jupyter-widgets/controls",
       "_view_module_version": "1.5.0",
       "_view_name": "ImageView",
       "format": "png",
       "height": "",
       "layout": "IPY_MODEL_9bf0205effba49608e72e3cc0649d5ec",
       "width": ""
      }
     },
     "f7b09d3f740b443a8f814af7b3097f03": {
      "model_module": "@jupyter-widgets/base",
      "model_module_version": "1.2.0",
      "model_name": "LayoutModel",
      "state": {
       "_model_module": "@jupyter-widgets/base",
       "_model_module_version": "1.2.0",
       "_model_name": "LayoutModel",
       "_view_count": null,
       "_view_module": "@jupyter-widgets/base",
       "_view_module_version": "1.2.0",
       "_view_name": "LayoutView",
       "align_content": "center",
       "align_items": "center",
       "align_self": null,
       "border": null,
       "bottom": null,
       "display": "flex",
       "flex": null,
       "flex_flow": null,
       "grid_area": null,
       "grid_auto_columns": null,
       "grid_auto_flow": null,
       "grid_auto_rows": null,
       "grid_column": null,
       "grid_gap": null,
       "grid_row": null,
       "grid_template_areas": null,
       "grid_template_columns": null,
       "grid_template_rows": null,
       "height": null,
       "justify_content": "center",
       "justify_items": null,
       "left": null,
       "margin": null,
       "max_height": null,
       "max_width": null,
       "min_height": null,
       "min_width": null,
       "object_fit": null,
       "object_position": null,
       "order": null,
       "overflow": null,
       "overflow_x": null,
       "overflow_y": null,
       "padding": null,
       "right": null,
       "top": null,
       "visibility": null,
       "width": null
      }
     }
    },
    "version_major": 2,
    "version_minor": 0
   }
  }
 },
 "nbformat": 4,
 "nbformat_minor": 4
}