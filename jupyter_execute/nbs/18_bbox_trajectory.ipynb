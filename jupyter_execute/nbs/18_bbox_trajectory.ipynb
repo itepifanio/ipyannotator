{
 "cells": [
  {
   "cell_type": "code",
   "execution_count": 1,
   "id": "393ed94f",
   "metadata": {
    "tags": [
     "remove-cell"
    ]
   },
   "outputs": [],
   "source": [
    "# hide\n",
    "%load_ext autoreload\n",
    "%autoreload 2"
   ]
  },
  {
   "cell_type": "code",
   "execution_count": 2,
   "id": "169c9136",
   "metadata": {},
   "outputs": [],
   "source": [
    "# default_exp services.bbox_trajectory"
   ]
  },
  {
   "cell_type": "code",
   "execution_count": 3,
   "id": "034a096e",
   "metadata": {
    "tags": [
     "remove-cell"
    ]
   },
   "outputs": [],
   "source": [
    "# hide\n",
    "from nbdev import *\n",
    "from typing import Any, Dict"
   ]
  },
  {
   "cell_type": "code",
   "execution_count": 4,
   "id": "003058ef",
   "metadata": {},
   "outputs": [],
   "source": [
    "#exporti\n",
    "from ipycanvas import Canvas\n",
    "from typing import List\n",
    "from ipyannotator.ipytyping.annotations import AnnotationStore\n",
    "from ipyannotator.mltypes import BboxCoordinate"
   ]
  },
  {
   "cell_type": "markdown",
   "id": "a907db61",
   "metadata": {},
   "source": [
    "# Bounding Box Trajectory\n",
    "\n",
    "The current notebook develop the data type and algorithms to store and process trajectories."
   ]
  },
  {
   "cell_type": "code",
   "execution_count": 5,
   "id": "c54a17ae",
   "metadata": {},
   "outputs": [],
   "source": [
    "#exporti\n",
    "class TrajectoryStore(AnnotationStore):\n",
    "    def __getitem__(self, key: str):\n",
    "        assert isinstance(key, str)\n",
    "        return self._annotations[key]\n",
    "\n",
    "    def __delitem__(self, key: str):\n",
    "        assert isinstance(key, str)\n",
    "        if key in self:\n",
    "            del self._annotations[key]\n",
    "\n",
    "    def __setitem__(self, key: str, value: List[BboxCoordinate]):\n",
    "        assert isinstance(key, str)\n",
    "        assert isinstance(value, list)\n",
    "        self._annotations[key] = value"
   ]
  },
  {
   "cell_type": "code",
   "execution_count": 6,
   "id": "75a0c8fa",
   "metadata": {},
   "outputs": [],
   "source": [
    "#exporti\n",
    "class BBoxTrajectory:\n",
    "    @staticmethod\n",
    "    def draw_trajectory(canvas: Canvas, coords: List[BboxCoordinate], scale: float = 1.0):\n",
    "        # iterate the coords two by two\n",
    "        i, k = None, None\n",
    "        c = iter(coords)\n",
    "        lines = []\n",
    "        while True:\n",
    "            if i is None:\n",
    "                i = next(c, None)\n",
    "            k = next(c, None)\n",
    "            if k and i:\n",
    "                lines.append([(i.x * scale, (i.y + i.height) * scale),\n",
    "                              (k.x * scale, (k.y + k.height) * scale)])\n",
    "            else:\n",
    "                break\n",
    "            i = k\n",
    "\n",
    "        canvas.stroke_styled_line_segments(lines, color=[50, 205, 50])"
   ]
  },
  {
   "cell_type": "code",
   "execution_count": 7,
   "id": "7cbbef13",
   "metadata": {
    "tags": [
     "remove-cell"
    ]
   },
   "outputs": [],
   "source": [
    "# hide\n",
    "from ipyannotator.bbox_canvas import draw_bounding_box, draw_bg"
   ]
  },
  {
   "cell_type": "code",
   "execution_count": 8,
   "id": "ac5e8d3d",
   "metadata": {
    "tags": [
     "remove-cell"
    ]
   },
   "outputs": [
    {
     "data": {
      "application/vnd.jupyter.widget-view+json": {
       "model_id": "ac6269f256cb4f36bf8ea2ef169485e6",
       "version_major": 2,
       "version_minor": 0
      },
      "text/plain": [
       "Canvas(height=100, width=100)"
      ]
     },
     "metadata": {},
     "output_type": "display_data"
    }
   ],
   "source": [
    "#hide\n",
    "\n",
    "# it can draw point in the middle of the circle\n",
    "\n",
    "canvas = Canvas(width=100, height=100)\n",
    "bbox_trajectory = BBoxTrajectory()\n",
    "bbox_coords = [\n",
    "    BboxCoordinate(*[0, 0, 50, 50]),\n",
    "    BboxCoordinate(*[10, 20, 50, 50])\n",
    "]\n",
    "\n",
    "draw_bg(canvas)\n",
    "draw_bounding_box(canvas, bbox_coords[0])\n",
    "draw_bounding_box(canvas, bbox_coords[1])\n",
    "bbox_trajectory.draw_trajectory(canvas=canvas, coords=bbox_coords)\n",
    "canvas"
   ]
  },
  {
   "cell_type": "code",
   "execution_count": 9,
   "id": "994e0ce9",
   "metadata": {
    "tags": [
     "remove-cell"
    ]
   },
   "outputs": [],
   "source": [
    "#hide\n",
    "\n",
    "from attr import asdict\n",
    "from ipyannotator.mltypes import BboxVideoCoordinate\n",
    "from itertools import groupby\n",
    "from collections import defaultdict\n",
    "\n",
    "canvas = Canvas(width=500, height=500)\n",
    "draw_bg(canvas)\n",
    "\n",
    "storage = {\n",
    "    'path1': {\n",
    "        \"bboxes\": [\n",
    "            BboxVideoCoordinate(10, 10, 103, 241, 'pedestrian1'),\n",
    "            BboxVideoCoordinate(100, 350, 100, 100, 'pedestrian2'),\n",
    "            BboxVideoCoordinate(300, 100, 155, 156, 'pedestrian3')\n",
    "        ],\n",
    "        'labels': [[], [], []]\n",
    "    },\n",
    "    'path2': {\n",
    "        'bboxes': [\n",
    "            BboxVideoCoordinate(30, 30, 102, 241, 'pedestrian1')\n",
    "        ],\n",
    "        'labels': [[]]\n",
    "    }\n",
    "}\n",
    "\n",
    "trajectory: Dict[Any, Any] = defaultdict(list)\n",
    "\n",
    "\n",
    "def key_fun(k):\n",
    "    return k.id\n",
    "\n",
    "\n",
    "for k, v in storage.items():\n",
    "    # error: No overload variant of \"sorted\" matches argument types\n",
    "    # \"object\", \"Callable[[Any], Any]\"\n",
    "    for kk, vv in groupby(sorted(v['bboxes'], key=key_fun), key_fun):  # type: ignore\n",
    "        value = list(vv)\n",
    "        path = []\n",
    "        for i in value:\n",
    "            bbox_coordinate = asdict(i)\n",
    "            bbox_coordinate.pop('id')\n",
    "            path.append(BboxCoordinate(**bbox_coordinate))\n",
    "\n",
    "        trajectory[kk] += path"
   ]
  },
  {
   "cell_type": "code",
   "execution_count": 10,
   "id": "db143df9",
   "metadata": {
    "tags": [
     "remove-cell"
    ]
   },
   "outputs": [
    {
     "data": {
      "application/vnd.jupyter.widget-view+json": {
       "model_id": "f5cdc7173e3e4c29ae7bd44d2659bb01",
       "version_major": 2,
       "version_minor": 0
      },
      "text/plain": [
       "Canvas(width=500)"
      ]
     },
     "metadata": {},
     "output_type": "display_data"
    }
   ],
   "source": [
    "#hide\n",
    "\n",
    "for k, v in trajectory.items():\n",
    "    for bbox in v:\n",
    "        draw_bounding_box(canvas, bbox)  # type: ignore\n",
    "    if len(v) > 1:\n",
    "        bbox_trajectory.draw_trajectory(canvas, v)  # type: ignore\n",
    "\n",
    "canvas"
   ]
  },
  {
   "cell_type": "code",
   "execution_count": 11,
   "id": "ed8fc13d",
   "metadata": {
    "tags": [
     "remove-cell"
    ]
   },
   "outputs": [
    {
     "name": "stdout",
     "output_type": "stream",
     "text": [
      "Converted 00_base.ipynb.\n",
      "Converted 00a_annotator.ipynb.\n",
      "Converted 00b_mltypes.ipynb.\n",
      "Converted 00c_annotation_types.ipynb.\n",
      "Converted 00d_doc_utils.ipynb.\n",
      "Converted 01_bbox_canvas.ipynb.\n",
      "Converted 01_helpers.ipynb.\n",
      "Converted 01a_datasets.ipynb.\n"
     ]
    },
    {
     "name": "stdout",
     "output_type": "stream",
     "text": [
      "Converted 01a_datasets_download.ipynb.\n",
      "Converted 01a_datasets_factory.ipynb.\n",
      "Converted 01b_dataset_video.ipynb.\n",
      "Converted 01b_tutorial_image_classification.ipynb.\n",
      "Converted 01c_tutorial_bbox.ipynb.\n",
      "Converted 01d_tutorial_video_annotator.ipynb.\n",
      "Converted 02_navi_widget.ipynb.\n",
      "Converted 02a_right_menu_widget.ipynb.\n",
      "Converted 02b_grid_menu.ipynb.\n"
     ]
    },
    {
     "name": "stdout",
     "output_type": "stream",
     "text": [
      "Converted 03_storage.ipynb.\n",
      "Converted 04_bbox_annotator.ipynb.\n",
      "Converted 05_image_button.ipynb.\n",
      "Converted 06_capture_annotator.ipynb.\n",
      "Converted 07_im2im_annotator.ipynb.\n",
      "Converted 08_tutorial_road_damage.ipynb.\n",
      "Converted 09_voila_example.ipynb.\n",
      "Converted 11_build_annotator_tutorial.ipynb.\n"
     ]
    },
    {
     "name": "stdout",
     "output_type": "stream",
     "text": [
      "Converted 12_debug_utils.ipynb.\n",
      "Converted 13_datasets_legacy.ipynb.\n",
      "Converted 14_datasets_factory_legacy.ipynb.\n",
      "Converted 15_coordinates_input.ipynb.\n",
      "Converted 16_custom_buttons.ipynb.\n",
      "Converted 17_annotator_explorer.ipynb.\n",
      "Converted 18_bbox_trajectory.ipynb.\n",
      "Converted 19_bbox_video_annotator.ipynb.\n",
      "Converted 20_image_classification_user_story.ipynb.\n",
      "Converted index.ipynb.\n"
     ]
    }
   ],
   "source": [
    "#hide\n",
    "from nbdev.export import notebook2script\n",
    "notebook2script()"
   ]
  }
 ],
 "metadata": {
  "kernelspec": {
   "display_name": "Python 3",
   "language": "python",
   "name": "python3"
  },
  "language_info": {
   "codemirror_mode": {
    "name": "ipython",
    "version": 3
   },
   "file_extension": ".py",
   "mimetype": "text/x-python",
   "name": "python",
   "nbconvert_exporter": "python",
   "pygments_lexer": "ipython3",
   "version": "3.8.12"
  },
  "widgets": {
   "application/vnd.jupyter.widget-state+json": {
    "state": {
     "30fb657bb6f34001b52553d2c145273a": {
      "model_module": "@jupyter-widgets/output",
      "model_module_version": "1.0.0",
      "model_name": "OutputModel",
      "state": {
       "_dom_classes": [],
       "_model_module": "@jupyter-widgets/output",
       "_model_module_version": "1.0.0",
       "_model_name": "OutputModel",
       "_view_count": null,
       "_view_module": "@jupyter-widgets/output",
       "_view_module_version": "1.0.0",
       "_view_name": "OutputView",
       "layout": "IPY_MODEL_cdb0e973fa71429fa9d56add5e8c4a86",
       "msg_id": "",
       "outputs": []
      }
     },
     "320b850a6de14ef9b377221394c1fb29": {
      "model_module": "@jupyter-widgets/base",
      "model_module_version": "1.2.0",
      "model_name": "LayoutModel",
      "state": {
       "_model_module": "@jupyter-widgets/base",
       "_model_module_version": "1.2.0",
       "_model_name": "LayoutModel",
       "_view_count": null,
       "_view_module": "@jupyter-widgets/base",
       "_view_module_version": "1.2.0",
       "_view_name": "LayoutView",
       "align_content": null,
       "align_items": null,
       "align_self": null,
       "border": "1px solid black",
       "bottom": null,
       "display": null,
       "flex": null,
       "flex_flow": null,
       "grid_area": null,
       "grid_auto_columns": null,
       "grid_auto_flow": null,
       "grid_auto_rows": null,
       "grid_column": null,
       "grid_gap": null,
       "grid_row": null,
       "grid_template_areas": null,
       "grid_template_columns": null,
       "grid_template_rows": null,
       "height": null,
       "justify_content": null,
       "justify_items": null,
       "left": null,
       "margin": null,
       "max_height": null,
       "max_width": null,
       "min_height": null,
       "min_width": null,
       "object_fit": null,
       "object_position": null,
       "order": null,
       "overflow": null,
       "overflow_x": null,
       "overflow_y": null,
       "padding": null,
       "right": null,
       "top": null,
       "visibility": null,
       "width": null
      }
     },
     "4cf4c5a476ce4838a26fc5736a386f48": {
      "model_module": "@jupyter-widgets/output",
      "model_module_version": "1.0.0",
      "model_name": "OutputModel",
      "state": {
       "_dom_classes": [],
       "_model_module": "@jupyter-widgets/output",
       "_model_module_version": "1.0.0",
       "_model_name": "OutputModel",
       "_view_count": null,
       "_view_module": "@jupyter-widgets/output",
       "_view_module_version": "1.0.0",
       "_view_name": "OutputView",
       "layout": "IPY_MODEL_dcf4b0f8ba4c480f8900ece9dc30da05",
       "msg_id": "",
       "outputs": []
      }
     },
     "632c0935c9bd4841873b69cb41920539": {
      "model_module": "@jupyter-widgets/output",
      "model_module_version": "1.0.0",
      "model_name": "OutputModel",
      "state": {
       "_dom_classes": [],
       "_model_module": "@jupyter-widgets/output",
       "_model_module_version": "1.0.0",
       "_model_name": "OutputModel",
       "_view_count": null,
       "_view_module": "@jupyter-widgets/output",
       "_view_module_version": "1.0.0",
       "_view_name": "OutputView",
       "layout": "IPY_MODEL_831a45680a704721a62b8295783a96f1",
       "msg_id": "",
       "outputs": []
      }
     },
     "831a45680a704721a62b8295783a96f1": {
      "model_module": "@jupyter-widgets/base",
      "model_module_version": "1.2.0",
      "model_name": "LayoutModel",
      "state": {
       "_model_module": "@jupyter-widgets/base",
       "_model_module_version": "1.2.0",
       "_model_name": "LayoutModel",
       "_view_count": null,
       "_view_module": "@jupyter-widgets/base",
       "_view_module_version": "1.2.0",
       "_view_name": "LayoutView",
       "align_content": null,
       "align_items": null,
       "align_self": null,
       "border": "1px solid black",
       "bottom": null,
       "display": null,
       "flex": null,
       "flex_flow": null,
       "grid_area": null,
       "grid_auto_columns": null,
       "grid_auto_flow": null,
       "grid_auto_rows": null,
       "grid_column": null,
       "grid_gap": null,
       "grid_row": null,
       "grid_template_areas": null,
       "grid_template_columns": null,
       "grid_template_rows": null,
       "height": null,
       "justify_content": null,
       "justify_items": null,
       "left": null,
       "margin": null,
       "max_height": null,
       "max_width": null,
       "min_height": null,
       "min_width": null,
       "object_fit": null,
       "object_position": null,
       "order": null,
       "overflow": null,
       "overflow_x": null,
       "overflow_y": null,
       "padding": null,
       "right": null,
       "top": null,
       "visibility": null,
       "width": null
      }
     },
     "ac6269f256cb4f36bf8ea2ef169485e6": {
      "model_module": "ipycanvas",
      "model_module_version": "^0.10.2",
      "model_name": "CanvasModel",
      "state": {
       "_dom_classes": [],
       "_model_module": "ipycanvas",
       "_model_module_version": "^0.10.2",
       "_model_name": "CanvasModel",
       "_send_client_ready_event": true,
       "_view_count": null,
       "_view_module": "ipycanvas",
       "_view_module_version": "^0.10.2",
       "_view_name": "CanvasView",
       "height": 100,
       "image_data": null,
       "layout": "IPY_MODEL_d0bd5e7e6b1046069ab1d66fec09f2ba",
       "sync_image_data": false,
       "width": 100
      }
     },
     "c8e66e0346cb4543b131165dd0f0edaa": {
      "model_module": "@jupyter-widgets/output",
      "model_module_version": "1.0.0",
      "model_name": "OutputModel",
      "state": {
       "_dom_classes": [],
       "_model_module": "@jupyter-widgets/output",
       "_model_module_version": "1.0.0",
       "_model_name": "OutputModel",
       "_view_count": null,
       "_view_module": "@jupyter-widgets/output",
       "_view_module_version": "1.0.0",
       "_view_name": "OutputView",
       "layout": "IPY_MODEL_320b850a6de14ef9b377221394c1fb29",
       "msg_id": "",
       "outputs": []
      }
     },
     "cbc2a617eb8e4a8d9a3a1cb6e6269a95": {
      "model_module": "@jupyter-widgets/output",
      "model_module_version": "1.0.0",
      "model_name": "OutputModel",
      "state": {
       "_dom_classes": [],
       "_model_module": "@jupyter-widgets/output",
       "_model_module_version": "1.0.0",
       "_model_name": "OutputModel",
       "_view_count": null,
       "_view_module": "@jupyter-widgets/output",
       "_view_module_version": "1.0.0",
       "_view_name": "OutputView",
       "layout": "IPY_MODEL_e0592dbcd5f74debbbd48fc43393b64d",
       "msg_id": "",
       "outputs": []
      }
     },
     "cdb0e973fa71429fa9d56add5e8c4a86": {
      "model_module": "@jupyter-widgets/base",
      "model_module_version": "1.2.0",
      "model_name": "LayoutModel",
      "state": {
       "_model_module": "@jupyter-widgets/base",
       "_model_module_version": "1.2.0",
       "_model_name": "LayoutModel",
       "_view_count": null,
       "_view_module": "@jupyter-widgets/base",
       "_view_module_version": "1.2.0",
       "_view_name": "LayoutView",
       "align_content": null,
       "align_items": null,
       "align_self": null,
       "border": "1px solid black",
       "bottom": null,
       "display": null,
       "flex": null,
       "flex_flow": null,
       "grid_area": null,
       "grid_auto_columns": null,
       "grid_auto_flow": null,
       "grid_auto_rows": null,
       "grid_column": null,
       "grid_gap": null,
       "grid_row": null,
       "grid_template_areas": null,
       "grid_template_columns": null,
       "grid_template_rows": null,
       "height": null,
       "justify_content": null,
       "justify_items": null,
       "left": null,
       "margin": null,
       "max_height": null,
       "max_width": null,
       "min_height": null,
       "min_width": null,
       "object_fit": null,
       "object_position": null,
       "order": null,
       "overflow": null,
       "overflow_x": null,
       "overflow_y": null,
       "padding": null,
       "right": null,
       "top": null,
       "visibility": null,
       "width": null
      }
     },
     "d0bd5e7e6b1046069ab1d66fec09f2ba": {
      "model_module": "@jupyter-widgets/base",
      "model_module_version": "1.2.0",
      "model_name": "LayoutModel",
      "state": {
       "_model_module": "@jupyter-widgets/base",
       "_model_module_version": "1.2.0",
       "_model_name": "LayoutModel",
       "_view_count": null,
       "_view_module": "@jupyter-widgets/base",
       "_view_module_version": "1.2.0",
       "_view_name": "LayoutView",
       "align_content": null,
       "align_items": null,
       "align_self": null,
       "border": null,
       "bottom": null,
       "display": null,
       "flex": null,
       "flex_flow": null,
       "grid_area": null,
       "grid_auto_columns": null,
       "grid_auto_flow": null,
       "grid_auto_rows": null,
       "grid_column": null,
       "grid_gap": null,
       "grid_row": null,
       "grid_template_areas": null,
       "grid_template_columns": null,
       "grid_template_rows": null,
       "height": null,
       "justify_content": null,
       "justify_items": null,
       "left": null,
       "margin": null,
       "max_height": null,
       "max_width": null,
       "min_height": null,
       "min_width": null,
       "object_fit": null,
       "object_position": null,
       "order": null,
       "overflow": null,
       "overflow_x": null,
       "overflow_y": null,
       "padding": null,
       "right": null,
       "top": null,
       "visibility": null,
       "width": null
      }
     },
     "dcf4b0f8ba4c480f8900ece9dc30da05": {
      "model_module": "@jupyter-widgets/base",
      "model_module_version": "1.2.0",
      "model_name": "LayoutModel",
      "state": {
       "_model_module": "@jupyter-widgets/base",
       "_model_module_version": "1.2.0",
       "_model_name": "LayoutModel",
       "_view_count": null,
       "_view_module": "@jupyter-widgets/base",
       "_view_module_version": "1.2.0",
       "_view_name": "LayoutView",
       "align_content": null,
       "align_items": null,
       "align_self": null,
       "border": "1px solid black",
       "bottom": null,
       "display": null,
       "flex": null,
       "flex_flow": null,
       "grid_area": null,
       "grid_auto_columns": null,
       "grid_auto_flow": null,
       "grid_auto_rows": null,
       "grid_column": null,
       "grid_gap": null,
       "grid_row": null,
       "grid_template_areas": null,
       "grid_template_columns": null,
       "grid_template_rows": null,
       "height": null,
       "justify_content": null,
       "justify_items": null,
       "left": null,
       "margin": null,
       "max_height": null,
       "max_width": null,
       "min_height": null,
       "min_width": null,
       "object_fit": null,
       "object_position": null,
       "order": null,
       "overflow": null,
       "overflow_x": null,
       "overflow_y": null,
       "padding": null,
       "right": null,
       "top": null,
       "visibility": null,
       "width": null
      }
     },
     "e0592dbcd5f74debbbd48fc43393b64d": {
      "model_module": "@jupyter-widgets/base",
      "model_module_version": "1.2.0",
      "model_name": "LayoutModel",
      "state": {
       "_model_module": "@jupyter-widgets/base",
       "_model_module_version": "1.2.0",
       "_model_name": "LayoutModel",
       "_view_count": null,
       "_view_module": "@jupyter-widgets/base",
       "_view_module_version": "1.2.0",
       "_view_name": "LayoutView",
       "align_content": null,
       "align_items": null,
       "align_self": null,
       "border": "1px solid black",
       "bottom": null,
       "display": null,
       "flex": null,
       "flex_flow": null,
       "grid_area": null,
       "grid_auto_columns": null,
       "grid_auto_flow": null,
       "grid_auto_rows": null,
       "grid_column": null,
       "grid_gap": null,
       "grid_row": null,
       "grid_template_areas": null,
       "grid_template_columns": null,
       "grid_template_rows": null,
       "height": null,
       "justify_content": null,
       "justify_items": null,
       "left": null,
       "margin": null,
       "max_height": null,
       "max_width": null,
       "min_height": null,
       "min_width": null,
       "object_fit": null,
       "object_position": null,
       "order": null,
       "overflow": null,
       "overflow_x": null,
       "overflow_y": null,
       "padding": null,
       "right": null,
       "top": null,
       "visibility": null,
       "width": null
      }
     },
     "e7dd1e897f0d4a84a4de18bc12e920be": {
      "model_module": "@jupyter-widgets/base",
      "model_module_version": "1.2.0",
      "model_name": "LayoutModel",
      "state": {
       "_model_module": "@jupyter-widgets/base",
       "_model_module_version": "1.2.0",
       "_model_name": "LayoutModel",
       "_view_count": null,
       "_view_module": "@jupyter-widgets/base",
       "_view_module_version": "1.2.0",
       "_view_name": "LayoutView",
       "align_content": null,
       "align_items": null,
       "align_self": null,
       "border": null,
       "bottom": null,
       "display": null,
       "flex": null,
       "flex_flow": null,
       "grid_area": null,
       "grid_auto_columns": null,
       "grid_auto_flow": null,
       "grid_auto_rows": null,
       "grid_column": null,
       "grid_gap": null,
       "grid_row": null,
       "grid_template_areas": null,
       "grid_template_columns": null,
       "grid_template_rows": null,
       "height": null,
       "justify_content": null,
       "justify_items": null,
       "left": null,
       "margin": null,
       "max_height": null,
       "max_width": null,
       "min_height": null,
       "min_width": null,
       "object_fit": null,
       "object_position": null,
       "order": null,
       "overflow": null,
       "overflow_x": null,
       "overflow_y": null,
       "padding": null,
       "right": null,
       "top": null,
       "visibility": null,
       "width": null
      }
     },
     "f5cdc7173e3e4c29ae7bd44d2659bb01": {
      "model_module": "ipycanvas",
      "model_module_version": "^0.10.2",
      "model_name": "CanvasModel",
      "state": {
       "_dom_classes": [],
       "_model_module": "ipycanvas",
       "_model_module_version": "^0.10.2",
       "_model_name": "CanvasModel",
       "_send_client_ready_event": true,
       "_view_count": null,
       "_view_module": "ipycanvas",
       "_view_module_version": "^0.10.2",
       "_view_name": "CanvasView",
       "height": 500,
       "image_data": null,
       "layout": "IPY_MODEL_e7dd1e897f0d4a84a4de18bc12e920be",
       "sync_image_data": false,
       "width": 500
      }
     }
    },
    "version_major": 2,
    "version_minor": 0
   }
  }
 },
 "nbformat": 4,
 "nbformat_minor": 5
}