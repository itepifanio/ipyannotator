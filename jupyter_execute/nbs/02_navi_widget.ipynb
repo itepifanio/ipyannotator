{
 "cells": [
  {
   "cell_type": "code",
   "execution_count": 1,
   "metadata": {
    "tags": [
     "remove-cell"
    ]
   },
   "outputs": [],
   "source": [
    "# hide\n",
    "%load_ext autoreload\n",
    "%autoreload 2"
   ]
  },
  {
   "cell_type": "code",
   "execution_count": 2,
   "metadata": {},
   "outputs": [],
   "source": [
    "from nbdev import *\n",
    "# default_exp navi_widget"
   ]
  },
  {
   "cell_type": "markdown",
   "metadata": {},
   "source": [
    "# Navi Widget"
   ]
  },
  {
   "cell_type": "code",
   "execution_count": 3,
   "metadata": {},
   "outputs": [],
   "source": [
    "#exporti\n",
    "from ipywidgets import Button, IntSlider, HBox, Layout\n",
    "import warnings\n",
    "from typing import Callable"
   ]
  },
  {
   "cell_type": "code",
   "execution_count": 4,
   "metadata": {},
   "outputs": [],
   "source": [
    "#exporti\n",
    "\n",
    "class NaviGUI(HBox):\n",
    "    def __init__(self, max_im_number: int = 0):\n",
    "        self._im_number_slider = IntSlider(\n",
    "            min=0,\n",
    "            max=max_im_number,\n",
    "            value=0,\n",
    "            description='Image Nr.'\n",
    "        )\n",
    "\n",
    "        self._prev_btn = Button(description='< Previous',\n",
    "                                layout=Layout(width='auto'))\n",
    "\n",
    "        self._next_btn = Button(description='Next >',\n",
    "                                layout=Layout(width='auto'))\n",
    "\n",
    "        super().__init__(children=[self._prev_btn, self._im_number_slider, self._next_btn],\n",
    "                         layout=Layout(display='flex', flex_flow='row wrap', align_items='center'))"
   ]
  },
  {
   "cell_type": "code",
   "execution_count": 5,
   "metadata": {},
   "outputs": [],
   "source": [
    "#exporti\n",
    "\n",
    "class NaviLogic:\n",
    "    \"\"\"\n",
    "    Acts like an intermediator between GUI and its interactions\n",
    "    \"\"\"\n",
    "\n",
    "    def __init__(self, gui: NaviGUI):\n",
    "        self._gui = gui\n",
    "\n",
    "    def slider_updated(self, change: dict):\n",
    "        self._gui._index = change['new']\n",
    "        self.set_slider_value(change['new'])\n",
    "\n",
    "    def set_slider_value(self, index: int):\n",
    "        self._gui._im_number_slider.value = index\n",
    "\n",
    "    def set_slider_max(self, max_im_number: int):\n",
    "        self._gui._im_number_slider.max = max_im_number\n",
    "\n",
    "    def _increment_state_index(self, index: int):\n",
    "        max_im_number = self._gui._max_im_num\n",
    "        safe_index = (self._gui._index + index) % max_im_number\n",
    "        self._gui._index = (safe_index + max_im_number) % max_im_number\n",
    "        self.set_slider_value(self._gui._index)\n",
    "\n",
    "    def check_im_num(self, max_im_number: int):\n",
    "        if not hasattr(self._gui, '_im_number_slider'):\n",
    "            return\n",
    "        self._gui._im_number_slider.max = max_im_number - 1"
   ]
  },
  {
   "cell_type": "code",
   "execution_count": 6,
   "metadata": {},
   "outputs": [],
   "source": [
    "#export\n",
    "\n",
    "class Navi(NaviGUI):\n",
    "    \"\"\"\n",
    "    Represents simple navigation module with slider.\n",
    "\n",
    "    on_navi_clicked: callable\n",
    "        A callback that runs after every navigation\n",
    "        change. The callback should have, as a\n",
    "        parameter the navi's index.\n",
    "    \"\"\"\n",
    "\n",
    "    def __init__(self, max_im_num: int = 1, on_navi_clicked: Callable = None):\n",
    "        super().__init__(max_im_num)\n",
    "        self._max_im_num = max_im_num\n",
    "        self.on_navi_clicked = on_navi_clicked\n",
    "        self._index = 0\n",
    "\n",
    "        self.model = NaviLogic(gui=self)\n",
    "\n",
    "        self._listen_next_click()\n",
    "        self._listen_prev_click()\n",
    "        self._listen_slider_changes()\n",
    "\n",
    "    @property\n",
    "    def index(self) -> int:\n",
    "        return self._index\n",
    "\n",
    "    @index.setter\n",
    "    def index(self, value: int):\n",
    "        self.model.set_slider_value(value)\n",
    "        self._index = value\n",
    "        self._external_call()\n",
    "\n",
    "    @property\n",
    "    def max_im_num(self) -> int:\n",
    "        return self._max_im_num\n",
    "\n",
    "    @max_im_num.setter\n",
    "    def max_im_num(self, value: int):\n",
    "        self.model.set_slider_max(value - 1)\n",
    "        self._max_im_num = value\n",
    "\n",
    "    def _next_clicked(self, *args):\n",
    "        self.model._increment_state_index(1)\n",
    "\n",
    "    def _slider_updated(self, value: dict):\n",
    "        self.model.slider_updated(value)\n",
    "        self._external_call()\n",
    "\n",
    "    def _prev_clicked(self, *args):\n",
    "        self.model._increment_state_index(-1)\n",
    "\n",
    "    def _listen_slider_changes(self):\n",
    "        self._im_number_slider.observe(\n",
    "            self._slider_updated, names='value'\n",
    "        )\n",
    "\n",
    "    def _listen_next_click(self):\n",
    "        self._next_btn.on_click(self._next_clicked)\n",
    "\n",
    "    def _listen_prev_click(self):\n",
    "        self._prev_btn.on_click(self._prev_clicked)\n",
    "\n",
    "    def _external_call(self):\n",
    "        if self.on_navi_clicked:\n",
    "            self.on_navi_clicked(self._index)\n",
    "        else:\n",
    "            warnings.warn(\n",
    "                \"Navi callable was not defined.\"\n",
    "                \"The navigation will not trigger any action!\"\n",
    "            )"
   ]
  },
  {
   "cell_type": "code",
   "execution_count": 7,
   "metadata": {},
   "outputs": [
    {
     "name": "stderr",
     "output_type": "stream",
     "text": [
      "<ipython-input-6-72704c14ee75>:69: UserWarning: Navi callable was not defined.The navigation will not trigger any action!\n",
      "  warnings.warn(\n"
     ]
    }
   ],
   "source": [
    "# it start navi with slider index at 0\n",
    "\n",
    "navi = Navi(6)\n",
    "\n",
    "assert navi._im_number_slider.value == 0\n",
    "\n",
    "# it changes state if slider.value changes\n",
    "\n",
    "navi._im_number_slider.value = 2\n",
    "\n",
    "assert navi._index == 2\n",
    "\n",
    "# it changes state and slider.value if button is clicked\n",
    "\n",
    "navi._next_btn.click()\n",
    "\n",
    "assert navi._index == 3\n",
    "assert navi._im_number_slider.value == 3\n",
    "\n",
    "navi._prev_btn.click()\n",
    "\n",
    "assert navi._index == 2\n",
    "assert navi._im_number_slider.value == 2\n",
    "\n",
    "# it changes slider.max if navi changes max im num\n",
    "navi.max_im_num = 6\n",
    "assert navi._im_number_slider.max == 5\n",
    "\n",
    "# it changes slider.index if navi changes its index\n",
    "navi.index = 3\n",
    "assert navi._im_number_slider.value == 3\n",
    "\n",
    "# testing callback\n",
    "callback_index = 0\n",
    "\n",
    "\n",
    "def increment_callback(index):\n",
    "    global callback_index\n",
    "    callback_index = index\n",
    "\n",
    "\n",
    "navi.on_navi_clicked = increment_callback\n",
    "\n",
    "navi._next_btn.click()\n",
    "assert callback_index == 4\n",
    "\n",
    "navi._prev_btn.click()\n",
    "assert callback_index == 3\n",
    "\n",
    "navi.index = 2\n",
    "assert callback_index == 2"
   ]
  },
  {
   "cell_type": "code",
   "execution_count": 8,
   "metadata": {},
   "outputs": [
    {
     "data": {
      "application/vnd.jupyter.widget-view+json": {
       "model_id": "26de47e068fb4cea8874f990cbefd38c",
       "version_major": 2,
       "version_minor": 0
      },
      "text/plain": [
       "Navi(children=(Button(description='< Previous', layout=Layout(width='auto'), style=ButtonStyle()), IntSlider(v…"
      ]
     },
     "metadata": {},
     "output_type": "display_data"
    }
   ],
   "source": [
    "navi"
   ]
  },
  {
   "cell_type": "code",
   "execution_count": 9,
   "metadata": {
    "tags": [
     "remove-cell"
    ]
   },
   "outputs": [
    {
     "name": "stdout",
     "output_type": "stream",
     "text": [
      "Converted 00_base.ipynb.\n",
      "Converted 00a_annotator.ipynb.\n",
      "Converted 00b_mltypes.ipynb.\n",
      "Converted 00c_annotation_types.ipynb.\n",
      "Converted 00d_doc_utils.ipynb.\n",
      "Converted 01_bbox_canvas.ipynb.\n",
      "Converted 01_helpers.ipynb.\n",
      "Converted 01a_datasets.ipynb.\n"
     ]
    },
    {
     "name": "stdout",
     "output_type": "stream",
     "text": [
      "Converted 01a_datasets_download.ipynb.\n",
      "Converted 01a_datasets_factory.ipynb.\n",
      "Converted 01b_dataset_video.ipynb.\n",
      "Converted 01b_tutorial_image_classification.ipynb.\n",
      "Converted 01c_tutorial_bbox.ipynb.\n",
      "Converted 01d_tutorial_video_annotator.ipynb.\n",
      "Converted 02_navi_widget.ipynb.\n",
      "Converted 02a_right_menu_widget.ipynb.\n",
      "Converted 02b_grid_menu.ipynb.\n"
     ]
    },
    {
     "name": "stdout",
     "output_type": "stream",
     "text": [
      "Converted 03_storage.ipynb.\n",
      "Converted 04_bbox_annotator.ipynb.\n",
      "Converted 05_image_button.ipynb.\n",
      "Converted 06_capture_annotator.ipynb.\n",
      "Converted 07_im2im_annotator.ipynb.\n",
      "Converted 08_tutorial_road_damage.ipynb.\n",
      "Converted 09_voila_example.ipynb.\n",
      "Converted 11_build_annotator_tutorial.ipynb.\n"
     ]
    },
    {
     "name": "stdout",
     "output_type": "stream",
     "text": [
      "Converted 12_debug_utils.ipynb.\n",
      "Converted 13_datasets_legacy.ipynb.\n",
      "Converted 14_datasets_factory_legacy.ipynb.\n",
      "Converted 15_coordinates_input.ipynb.\n",
      "Converted 16_custom_buttons.ipynb.\n",
      "Converted 17_annotator_explorer.ipynb.\n",
      "Converted 18_bbox_trajectory.ipynb.\n",
      "Converted 19_bbox_video_annotator.ipynb.\n",
      "Converted 20_image_classification_user_story.ipynb.\n",
      "Converted index.ipynb.\n"
     ]
    }
   ],
   "source": [
    "#hide\n",
    "from nbdev.export import notebook2script\n",
    "notebook2script()"
   ]
  },
  {
   "cell_type": "code",
   "execution_count": null,
   "metadata": {},
   "outputs": [],
   "source": []
  }
 ],
 "metadata": {
  "kernelspec": {
   "display_name": "Python 3",
   "language": "python",
   "name": "python3"
  },
  "language_info": {
   "codemirror_mode": {
    "name": "ipython",
    "version": 3
   },
   "file_extension": ".py",
   "mimetype": "text/x-python",
   "name": "python",
   "nbconvert_exporter": "python",
   "pygments_lexer": "ipython3",
   "version": "3.8.12"
  },
  "widgets": {
   "application/vnd.jupyter.widget-state+json": {
    "state": {
     "26de47e068fb4cea8874f990cbefd38c": {
      "model_module": "@jupyter-widgets/controls",
      "model_module_version": "1.5.0",
      "model_name": "HBoxModel",
      "state": {
       "_dom_classes": [],
       "_model_module": "@jupyter-widgets/controls",
       "_model_module_version": "1.5.0",
       "_model_name": "HBoxModel",
       "_view_count": null,
       "_view_module": "@jupyter-widgets/controls",
       "_view_module_version": "1.5.0",
       "_view_name": "HBoxView",
       "box_style": "",
       "children": [
        "IPY_MODEL_2bc3b0759886493297be3b2875554a07",
        "IPY_MODEL_5111e8497870488ab3ec2e2f8ee5ae74",
        "IPY_MODEL_b141d9ce41e54a299c2ad1037d8e6aaa"
       ],
       "layout": "IPY_MODEL_629b356b6c834a55a9e6bda008aade6a"
      }
     },
     "2bc3b0759886493297be3b2875554a07": {
      "model_module": "@jupyter-widgets/controls",
      "model_module_version": "1.5.0",
      "model_name": "ButtonModel",
      "state": {
       "_dom_classes": [],
       "_model_module": "@jupyter-widgets/controls",
       "_model_module_version": "1.5.0",
       "_model_name": "ButtonModel",
       "_view_count": null,
       "_view_module": "@jupyter-widgets/controls",
       "_view_module_version": "1.5.0",
       "_view_name": "ButtonView",
       "button_style": "",
       "description": "< Previous",
       "disabled": false,
       "icon": "",
       "layout": "IPY_MODEL_98589c1bd6a2466caec75cf966b56995",
       "style": "IPY_MODEL_c09484e3c9e54d6396e8c5a07a312fe7",
       "tooltip": ""
      }
     },
     "5111e8497870488ab3ec2e2f8ee5ae74": {
      "model_module": "@jupyter-widgets/controls",
      "model_module_version": "1.5.0",
      "model_name": "IntSliderModel",
      "state": {
       "_dom_classes": [],
       "_model_module": "@jupyter-widgets/controls",
       "_model_module_version": "1.5.0",
       "_model_name": "IntSliderModel",
       "_view_count": null,
       "_view_module": "@jupyter-widgets/controls",
       "_view_module_version": "1.5.0",
       "_view_name": "IntSliderView",
       "continuous_update": true,
       "description": "Image Nr.",
       "description_tooltip": null,
       "disabled": false,
       "layout": "IPY_MODEL_728fd1fceab1423e89ecbd50034378b1",
       "max": 5,
       "min": 0,
       "orientation": "horizontal",
       "readout": true,
       "readout_format": "d",
       "step": 1,
       "style": "IPY_MODEL_5535f6f86ddc4488bb51b4436b095bb7",
       "value": 2
      }
     },
     "5535f6f86ddc4488bb51b4436b095bb7": {
      "model_module": "@jupyter-widgets/controls",
      "model_module_version": "1.5.0",
      "model_name": "SliderStyleModel",
      "state": {
       "_model_module": "@jupyter-widgets/controls",
       "_model_module_version": "1.5.0",
       "_model_name": "SliderStyleModel",
       "_view_count": null,
       "_view_module": "@jupyter-widgets/base",
       "_view_module_version": "1.2.0",
       "_view_name": "StyleView",
       "description_width": "",
       "handle_color": null
      }
     },
     "629b356b6c834a55a9e6bda008aade6a": {
      "model_module": "@jupyter-widgets/base",
      "model_module_version": "1.2.0",
      "model_name": "LayoutModel",
      "state": {
       "_model_module": "@jupyter-widgets/base",
       "_model_module_version": "1.2.0",
       "_model_name": "LayoutModel",
       "_view_count": null,
       "_view_module": "@jupyter-widgets/base",
       "_view_module_version": "1.2.0",
       "_view_name": "LayoutView",
       "align_content": null,
       "align_items": "center",
       "align_self": null,
       "border": null,
       "bottom": null,
       "display": "flex",
       "flex": null,
       "flex_flow": "row wrap",
       "grid_area": null,
       "grid_auto_columns": null,
       "grid_auto_flow": null,
       "grid_auto_rows": null,
       "grid_column": null,
       "grid_gap": null,
       "grid_row": null,
       "grid_template_areas": null,
       "grid_template_columns": null,
       "grid_template_rows": null,
       "height": null,
       "justify_content": null,
       "justify_items": null,
       "left": null,
       "margin": null,
       "max_height": null,
       "max_width": null,
       "min_height": null,
       "min_width": null,
       "object_fit": null,
       "object_position": null,
       "order": null,
       "overflow": null,
       "overflow_x": null,
       "overflow_y": null,
       "padding": null,
       "right": null,
       "top": null,
       "visibility": null,
       "width": null
      }
     },
     "6a51b5494857485a8c6a9f796306cf92": {
      "model_module": "@jupyter-widgets/controls",
      "model_module_version": "1.5.0",
      "model_name": "ButtonStyleModel",
      "state": {
       "_model_module": "@jupyter-widgets/controls",
       "_model_module_version": "1.5.0",
       "_model_name": "ButtonStyleModel",
       "_view_count": null,
       "_view_module": "@jupyter-widgets/base",
       "_view_module_version": "1.2.0",
       "_view_name": "StyleView",
       "button_color": null,
       "font_weight": ""
      }
     },
     "728fd1fceab1423e89ecbd50034378b1": {
      "model_module": "@jupyter-widgets/base",
      "model_module_version": "1.2.0",
      "model_name": "LayoutModel",
      "state": {
       "_model_module": "@jupyter-widgets/base",
       "_model_module_version": "1.2.0",
       "_model_name": "LayoutModel",
       "_view_count": null,
       "_view_module": "@jupyter-widgets/base",
       "_view_module_version": "1.2.0",
       "_view_name": "LayoutView",
       "align_content": null,
       "align_items": null,
       "align_self": null,
       "border": null,
       "bottom": null,
       "display": null,
       "flex": null,
       "flex_flow": null,
       "grid_area": null,
       "grid_auto_columns": null,
       "grid_auto_flow": null,
       "grid_auto_rows": null,
       "grid_column": null,
       "grid_gap": null,
       "grid_row": null,
       "grid_template_areas": null,
       "grid_template_columns": null,
       "grid_template_rows": null,
       "height": null,
       "justify_content": null,
       "justify_items": null,
       "left": null,
       "margin": null,
       "max_height": null,
       "max_width": null,
       "min_height": null,
       "min_width": null,
       "object_fit": null,
       "object_position": null,
       "order": null,
       "overflow": null,
       "overflow_x": null,
       "overflow_y": null,
       "padding": null,
       "right": null,
       "top": null,
       "visibility": null,
       "width": null
      }
     },
     "98589c1bd6a2466caec75cf966b56995": {
      "model_module": "@jupyter-widgets/base",
      "model_module_version": "1.2.0",
      "model_name": "LayoutModel",
      "state": {
       "_model_module": "@jupyter-widgets/base",
       "_model_module_version": "1.2.0",
       "_model_name": "LayoutModel",
       "_view_count": null,
       "_view_module": "@jupyter-widgets/base",
       "_view_module_version": "1.2.0",
       "_view_name": "LayoutView",
       "align_content": null,
       "align_items": null,
       "align_self": null,
       "border": null,
       "bottom": null,
       "display": null,
       "flex": null,
       "flex_flow": null,
       "grid_area": null,
       "grid_auto_columns": null,
       "grid_auto_flow": null,
       "grid_auto_rows": null,
       "grid_column": null,
       "grid_gap": null,
       "grid_row": null,
       "grid_template_areas": null,
       "grid_template_columns": null,
       "grid_template_rows": null,
       "height": null,
       "justify_content": null,
       "justify_items": null,
       "left": null,
       "margin": null,
       "max_height": null,
       "max_width": null,
       "min_height": null,
       "min_width": null,
       "object_fit": null,
       "object_position": null,
       "order": null,
       "overflow": null,
       "overflow_x": null,
       "overflow_y": null,
       "padding": null,
       "right": null,
       "top": null,
       "visibility": null,
       "width": "auto"
      }
     },
     "b141d9ce41e54a299c2ad1037d8e6aaa": {
      "model_module": "@jupyter-widgets/controls",
      "model_module_version": "1.5.0",
      "model_name": "ButtonModel",
      "state": {
       "_dom_classes": [],
       "_model_module": "@jupyter-widgets/controls",
       "_model_module_version": "1.5.0",
       "_model_name": "ButtonModel",
       "_view_count": null,
       "_view_module": "@jupyter-widgets/controls",
       "_view_module_version": "1.5.0",
       "_view_name": "ButtonView",
       "button_style": "",
       "description": "Next >",
       "disabled": false,
       "icon": "",
       "layout": "IPY_MODEL_f4dfdd635a764d9c8e43beb7817a5cf6",
       "style": "IPY_MODEL_6a51b5494857485a8c6a9f796306cf92",
       "tooltip": ""
      }
     },
     "c09484e3c9e54d6396e8c5a07a312fe7": {
      "model_module": "@jupyter-widgets/controls",
      "model_module_version": "1.5.0",
      "model_name": "ButtonStyleModel",
      "state": {
       "_model_module": "@jupyter-widgets/controls",
       "_model_module_version": "1.5.0",
       "_model_name": "ButtonStyleModel",
       "_view_count": null,
       "_view_module": "@jupyter-widgets/base",
       "_view_module_version": "1.2.0",
       "_view_name": "StyleView",
       "button_color": null,
       "font_weight": ""
      }
     },
     "f4dfdd635a764d9c8e43beb7817a5cf6": {
      "model_module": "@jupyter-widgets/base",
      "model_module_version": "1.2.0",
      "model_name": "LayoutModel",
      "state": {
       "_model_module": "@jupyter-widgets/base",
       "_model_module_version": "1.2.0",
       "_model_name": "LayoutModel",
       "_view_count": null,
       "_view_module": "@jupyter-widgets/base",
       "_view_module_version": "1.2.0",
       "_view_name": "LayoutView",
       "align_content": null,
       "align_items": null,
       "align_self": null,
       "border": null,
       "bottom": null,
       "display": null,
       "flex": null,
       "flex_flow": null,
       "grid_area": null,
       "grid_auto_columns": null,
       "grid_auto_flow": null,
       "grid_auto_rows": null,
       "grid_column": null,
       "grid_gap": null,
       "grid_row": null,
       "grid_template_areas": null,
       "grid_template_columns": null,
       "grid_template_rows": null,
       "height": null,
       "justify_content": null,
       "justify_items": null,
       "left": null,
       "margin": null,
       "max_height": null,
       "max_width": null,
       "min_height": null,
       "min_width": null,
       "object_fit": null,
       "object_position": null,
       "order": null,
       "overflow": null,
       "overflow_x": null,
       "overflow_y": null,
       "padding": null,
       "right": null,
       "top": null,
       "visibility": null,
       "width": "auto"
      }
     }
    },
    "version_major": 2,
    "version_minor": 0
   }
  }
 },
 "nbformat": 4,
 "nbformat_minor": 4
}