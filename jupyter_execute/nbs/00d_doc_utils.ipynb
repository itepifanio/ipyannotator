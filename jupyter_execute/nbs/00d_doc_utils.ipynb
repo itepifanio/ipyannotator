{
 "cells": [
  {
   "cell_type": "code",
   "execution_count": 1,
   "id": "e15c1e2d",
   "metadata": {},
   "outputs": [],
   "source": [
    "# default_exp doc_utils"
   ]
  },
  {
   "cell_type": "code",
   "execution_count": 2,
   "id": "73b3212f",
   "metadata": {
    "tags": [
     "remove-cell"
    ]
   },
   "outputs": [],
   "source": [
    "# hide\n",
    "%load_ext autoreload\n",
    "%autoreload 2"
   ]
  },
  {
   "cell_type": "code",
   "execution_count": 3,
   "id": "2cd1d0c4",
   "metadata": {
    "tags": [
     "remove-cell"
    ]
   },
   "outputs": [],
   "source": [
    "# hide\n",
    "from nbdev import *"
   ]
  },
  {
   "cell_type": "code",
   "execution_count": 4,
   "id": "ffcac7ef",
   "metadata": {},
   "outputs": [],
   "source": [
    "#exporti\n",
    "import os"
   ]
  },
  {
   "cell_type": "markdown",
   "id": "449065ec",
   "metadata": {},
   "source": [
    "# Doc Utils\n",
    "\n",
    "This notebook develops helper modules to build Ipyannotator's static documentation."
   ]
  },
  {
   "cell_type": "markdown",
   "id": "77fc616b",
   "metadata": {},
   "source": [
    "The next cell design a helper function that check if the documentation it's been built. This is specially helpful to mock some behaviors that doesn't work well on static docs."
   ]
  },
  {
   "cell_type": "code",
   "execution_count": 5,
   "id": "f340d2fb",
   "metadata": {},
   "outputs": [],
   "source": [
    "#exporti\n",
    "def is_building_docs() -> bool:\n",
    "    return 'DOCUTILSCONFIG' in os.environ"
   ]
  },
  {
   "cell_type": "markdown",
   "id": "b9608c7c",
   "metadata": {},
   "source": [
    "## Docs metadata\n",
    "\n",
    "The following cells was extracted from [jb-nbdev](https://github.com/fastai/jb-nbdev) and will perform some changes on our metadata to integrate nbdev and mynb-st."
   ]
  },
  {
   "cell_type": "code",
   "execution_count": 6,
   "id": "08024850",
   "metadata": {},
   "outputs": [],
   "source": [
    "#exporti\n",
    "import glob\n",
    "from fastcore.all import L, compose, Path\n",
    "from nbdev.export2html import _mk_flag_re, _re_cell_to_collapse_output, check_re\n",
    "from nbdev.export import check_re_multi\n",
    "import nbformat as nbf"
   ]
  },
  {
   "cell_type": "code",
   "execution_count": 7,
   "id": "a9e6bca1",
   "metadata": {},
   "outputs": [],
   "source": [
    "#export\n",
    "def nbglob(fname='.', recursive=False, extension='.ipynb') -> L:\n",
    "    \"\"\"Find all files in a directory matching an extension.\n",
    "    Ignores hidden directories and filenames starting with `_`\"\"\"\n",
    "    fname = Path(fname)\n",
    "    if fname.is_dir():\n",
    "        abs_name = fname.absolute()\n",
    "        rec_path = f'{abs_name}/**/*{extension}'\n",
    "        non_rec_path = f'{abs_name}/*{extension}'\n",
    "        fname = rec_path if recursive else non_rec_path\n",
    "    fls = L(\n",
    "        glob.glob(str(fname), recursive=recursive)\n",
    "    ).filter(\n",
    "        lambda x: '/.' not in x\n",
    "    ).map(Path)\n",
    "    return fls.filter(lambda x: not x.name.startswith('_') and x.name.endswith(extension))"
   ]
  },
  {
   "cell_type": "code",
   "execution_count": 8,
   "id": "de3f485d",
   "metadata": {},
   "outputs": [],
   "source": [
    "#exporti\n",
    "def upd_metadata(cell, tag):\n",
    "    cell_tags = list(set(cell.get('metadata', {}).get('tags', [])))\n",
    "    if tag not in cell_tags:\n",
    "        cell_tags.append(tag)\n",
    "    cell['metadata']['tags'] = cell_tags"
   ]
  },
  {
   "cell_type": "code",
   "execution_count": 9,
   "id": "06737dbe",
   "metadata": {
    "tags": [
     "remove-cell"
    ]
   },
   "outputs": [],
   "source": [
    "#export\n",
    "def hide(cell):\n",
    "    \"\"\"Hide inputs of `cell` that need to be hidden\n",
    "    if check_re_multi(cell, [_re_show_doc, *_re_hide_input]): upd_metadata(cell, 'remove-input')\n",
    "    elif check_re(cell, _re_hide_output): upd_metadata(cell, 'remove-output')\n",
    "    \"\"\"\n",
    "    regexes = ['#(.+|)hide', '%%ipytest']\n",
    "    if check_re_multi(cell, regexes):\n",
    "        upd_metadata(cell, 'remove-cell')\n",
    "\n",
    "    return cell\n",
    "\n",
    "\n",
    "_re_cell_to_collapse_input = _mk_flag_re(\n",
    "    '(collapse_input|collapse-input)', 0, \"Cell with #collapse_input\")\n",
    "\n",
    "\n",
    "def collapse_cells(cell):\n",
    "    \"Add a collapse button to inputs or outputs of `cell` in either the open or closed position\"\n",
    "    if check_re(cell, _re_cell_to_collapse_input):\n",
    "        upd_metadata(cell, 'hide-input')\n",
    "    elif check_re(cell, _re_cell_to_collapse_output):\n",
    "        upd_metadata(cell, 'hide-output')\n",
    "    return cell"
   ]
  },
  {
   "cell_type": "code",
   "execution_count": 10,
   "id": "b1844edf",
   "metadata": {},
   "outputs": [],
   "source": [
    "#exporti\n",
    "if __name__ == '__main__':\n",
    "\n",
    "    _func = compose(hide, collapse_cells)\n",
    "    files = nbglob('nbs/')\n",
    "\n",
    "    for file in files:\n",
    "        nb = nbf.read(file, nbf.NO_CONVERT)\n",
    "        for c in nb.cells:\n",
    "            _func(c)\n",
    "        nbf.write(nb, file)"
   ]
  },
  {
   "cell_type": "code",
   "execution_count": 11,
   "id": "cf24e1bf",
   "metadata": {
    "tags": [
     "remove-cell"
    ]
   },
   "outputs": [
    {
     "name": "stdout",
     "output_type": "stream",
     "text": [
      "Converted 00_base.ipynb.\n",
      "Converted 00a_annotator.ipynb.\n",
      "Converted 00b_mltypes.ipynb.\n",
      "Converted 00c_annotation_types.ipynb.\n",
      "Converted 00d_doc_utils.ipynb.\n",
      "Converted 01_bbox_canvas.ipynb.\n",
      "Converted 01_helpers.ipynb.\n",
      "Converted 01a_datasets.ipynb.\n"
     ]
    },
    {
     "name": "stdout",
     "output_type": "stream",
     "text": [
      "Converted 01a_datasets_download.ipynb.\n",
      "Converted 01a_datasets_factory.ipynb.\n",
      "Converted 01b_dataset_video.ipynb.\n",
      "Converted 01b_tutorial_image_classification.ipynb.\n",
      "Converted 01c_tutorial_bbox.ipynb.\n",
      "Converted 01d_tutorial_video_annotator.ipynb.\n",
      "Converted 02_navi_widget.ipynb.\n",
      "Converted 02a_right_menu_widget.ipynb.\n",
      "Converted 02b_grid_menu.ipynb.\n"
     ]
    },
    {
     "name": "stdout",
     "output_type": "stream",
     "text": [
      "Converted 03_storage.ipynb.\n",
      "Converted 04_bbox_annotator.ipynb.\n",
      "Converted 05_image_button.ipynb.\n",
      "Converted 06_capture_annotator.ipynb.\n",
      "Converted 07_im2im_annotator.ipynb.\n",
      "Converted 08_tutorial_road_damage.ipynb.\n",
      "Converted 09_voila_example.ipynb.\n",
      "Converted 11_build_annotator_tutorial.ipynb.\n"
     ]
    },
    {
     "name": "stdout",
     "output_type": "stream",
     "text": [
      "Converted 12_debug_utils.ipynb.\n",
      "Converted 13_datasets_legacy.ipynb.\n",
      "Converted 14_datasets_factory_legacy.ipynb.\n",
      "Converted 15_coordinates_input.ipynb.\n",
      "Converted 16_custom_buttons.ipynb.\n",
      "Converted 17_annotator_explorer.ipynb.\n",
      "Converted 18_bbox_trajectory.ipynb.\n",
      "Converted 19_bbox_video_annotator.ipynb.\n",
      "Converted 20_image_classification_user_story.ipynb.\n",
      "Converted index.ipynb.\n"
     ]
    }
   ],
   "source": [
    "#hide\n",
    "from nbdev.export import notebook2script\n",
    "notebook2script()"
   ]
  }
 ],
 "metadata": {
  "kernelspec": {
   "display_name": "Python 3",
   "language": "python",
   "name": "python3"
  },
  "language_info": {
   "codemirror_mode": {
    "name": "ipython",
    "version": 3
   },
   "file_extension": ".py",
   "mimetype": "text/x-python",
   "name": "python",
   "nbconvert_exporter": "python",
   "pygments_lexer": "ipython3",
   "version": "3.8.12"
  }
 },
 "nbformat": 4,
 "nbformat_minor": 5
}